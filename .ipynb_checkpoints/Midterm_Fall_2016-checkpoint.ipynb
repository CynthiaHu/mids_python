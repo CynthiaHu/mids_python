{
 "cells": [
  {
   "cell_type": "markdown",
   "metadata": {},
   "source": [
    "# Python Fundamentals for Data Science: Midterm Exam\n",
    "### Summer 2016"
   ]
  },
  {
   "cell_type": "markdown",
   "metadata": {},
   "source": [
    "## Instructions\n",
    "The midterm exam is designed to evaluate your grasp of Python theory as well as Python coding.\n",
    "\n",
    "- This is an individual exam.\n",
    "- You have 24 hours to complete the exam, starting from the point at which you first access it.\n",
    "\n",
    "For the coding questions, follow best practices.  Partial credit may be given for submissions that are clearly commented and well organized."
   ]
  },
  {
   "cell_type": "markdown",
   "metadata": {},
   "source": [
    "# Short Questions (10 Points)\n",
    "\n",
    "- Python's dynamic typing allows one variable to refer to multiple types of objects within the same program execution.  This can speed program development.  Name one disadvantage of dynamic typing."
   ]
  },
  {
   "cell_type": "markdown",
   "metadata": {
    "collapsed": true
   },
   "source": [
    "**[Type Answer Here]**"
   ]
  },
  {
   "cell_type": "markdown",
   "metadata": {},
   "source": [
    "- Compiled languages typically offer faster performance than interpreted languages.  Why would you choose an interpreted language like Python for the purpose of analyzing a data set?"
   ]
  },
  {
   "cell_type": "markdown",
   "metadata": {
    "collapsed": true
   },
   "source": [
    "**[Type Answer Here]**"
   ]
  },
  {
   "cell_type": "markdown",
   "metadata": {},
   "source": [
    "* We have gone over FOR and WHILE loops.  Discuss one reason to use a for loop over a while loop and one reason to do the opposite. Please elaborate beyond a single word."
   ]
  },
  {
   "cell_type": "markdown",
   "metadata": {
    "collapsed": true
   },
   "source": [
    "**[Type Answer Here]**"
   ]
  },
  {
   "cell_type": "markdown",
   "metadata": {},
   "source": [
    "# Programming Styles (10 Points)\n",
    "\n",
    "We have taught you a number of ways to program python. These have included using scripts versus functions and using jupyter notebooks versus calling .py files from the command line. Describe a scenario in which you would use a script versus a function and the opposite. Then describe a senario in which you would use .py files from the command line over a jupyter notebook and the opposite. There are four cases and each answer should be about 1-2 sentences."
   ]
  },
  {
   "cell_type": "markdown",
   "metadata": {},
   "source": [
    " * I would use a jupyter notebook over .py files:\n",
    "\n",
    "\n",
    "\n",
    "* I would use .py files over a notebook:\n",
    "\n",
    "\n",
    "\n",
    "\n",
    "* I would use a script over a function:\n",
    "\n",
    "\n",
    "\n",
    "\n",
    "\n",
    "* I would use a function over a script:\n",
    "\n",
    "\n",
    "\n"
   ]
  },
  {
   "cell_type": "markdown",
   "metadata": {},
   "source": [
    "**[Type Answer Here]**"
   ]
  },
  {
   "cell_type": "markdown",
   "metadata": {},
   "source": [
    "# Dictionaries vs Lists (10 Points)\n",
    "\n",
    "Suppose we have the following problem.  We have a dictionary of names and ages and we would like to find the oldest person.\n",
    "\n",
    "```\n",
    "ages_dict = {'Bill':34, 'Fred':45, 'Alice':14, 'Betty':17}\n",
    "```"
   ]
  },
  {
   "cell_type": "markdown",
   "metadata": {},
   "source": [
    "### Dictionary approach\n",
    "Here is a loop that shows how to iterate through the dictionary:"
   ]
  },
  {
   "cell_type": "code",
   "execution_count": 4,
   "metadata": {
    "collapsed": false
   },
   "outputs": [
    {
     "name": "stdout",
     "output_type": "stream",
     "text": [
      "Fred is the oldest\n"
     ]
    }
   ],
   "source": [
    "ages_dict = {'Bill':34, 'Fred':45, 'Alice':14, 'Betty':17}\n",
    "\n",
    "max_age = 0\n",
    "max_name = ''\n",
    "for name,age in ages_dict.items():\n",
    "    if age > max_age:\n",
    "        max_age = age\n",
    "        max_name = name\n",
    "        \n",
    "print(max_name, \"is the oldest\")    "
   ]
  },
  {
   "cell_type": "markdown",
   "metadata": {},
   "source": [
    "### List approach \n",
    "\n",
    "Your friend comes to you and says that this dictionary is hard to deal with and instead offers a different plan with 2 lists.\n",
    "\n",
    "```\n",
    "names = ['Bill', 'Fred', 'Alice', 'Betty']\n",
    "ages = [34, 45, 14, 17]\n",
    "```"
   ]
  },
  {
   "cell_type": "markdown",
   "metadata": {},
   "source": [
    "Instead of using a loop, your friend writes this code to find the oldest person."
   ]
  },
  {
   "cell_type": "code",
   "execution_count": 5,
   "metadata": {
    "collapsed": false
   },
   "outputs": [
    {
     "name": "stdout",
     "output_type": "stream",
     "text": [
      "Fred is the oldest\n"
     ]
    }
   ],
   "source": [
    "names = ['Bill', 'Fred', 'Alice', 'Betty']\n",
    "ages = [34, 45, 14, 17]\n",
    "\n",
    "max_age = max(ages)\n",
    "index_max = ages.index(max_age)\n",
    "max_name = names[index_max]\n",
    "\n",
    "print(max_name, 'is the oldest')"
   ]
  },
  {
   "cell_type": "markdown",
   "metadata": {},
   "source": [
    "### Discussion\n",
    "\n",
    "Discuss the advantages and disadvantages of each of the approaches.  \n",
    "* Is one more efficient (i.e. faster) than the other?\n",
    "* Why would you prefer the dictionary?\n",
    "* Why would you prefer the 2 lists?"
   ]
  },
  {
   "cell_type": "markdown",
   "metadata": {},
   "source": [
    "**[Type Answer Here]**"
   ]
  },
  {
   "cell_type": "markdown",
   "metadata": {},
   "source": [
    "# Mutability Surprises (20 Points)\n",
    "\n",
    "In the asyncronous sessions, we discussed mutability. Please describe, in your own words, why mutability is a useful feature in Python lists and dictionaries."
   ]
  },
  {
   "cell_type": "markdown",
   "metadata": {},
   "source": [
    "**[Type Answer Here]**"
   ]
  },
  {
   "cell_type": "markdown",
   "metadata": {},
   "source": [
    "Mutability can also lead to unexpected behavior - specifically when multiple variables point to the same object or when mutable objects are nested inside each other. \n",
    "\n",
    "Please write some code demonstrating a situation where mutability could lead to unexpected behavior. Specifically, show how updating just one object (list_a) can change the value when you print a second variable (list_b)."
   ]
  },
  {
   "cell_type": "code",
   "execution_count": null,
   "metadata": {
    "collapsed": true
   },
   "outputs": [],
   "source": []
  },
  {
   "cell_type": "markdown",
   "metadata": {},
   "source": [
    "Show how \"copy\" or \"deepcopy\" could be used to prevent the unexpected problem you described, above."
   ]
  },
  {
   "cell_type": "code",
   "execution_count": null,
   "metadata": {
    "collapsed": true
   },
   "outputs": [],
   "source": []
  },
  {
   "cell_type": "markdown",
   "metadata": {},
   "source": [
    "Now, show the same problem using two dictionaries. Again show how \"copy\" or \"deepcopy\" can fix the issue."
   ]
  },
  {
   "cell_type": "code",
   "execution_count": null,
   "metadata": {
    "collapsed": true
   },
   "outputs": [],
   "source": []
  },
  {
   "cell_type": "markdown",
   "metadata": {},
   "source": [
    "Can this unexpected behavior problem occur with tuples? Why, or why not?"
   ]
  },
  {
   "cell_type": "markdown",
   "metadata": {},
   "source": [
    "**[Type Answer Here]**"
   ]
  },
  {
   "cell_type": "markdown",
   "metadata": {},
   "source": [
    "# Tweet Analysis (20 Points)\n",
    "\n",
    "A tweet is a string that is between 1 and 140 characters long (inclusive). A username is a string of letters and/or digits that is between 1 and 14 characters long (inclusive). A username is mentioned in a tweet by including @username in the tweet. A retweet is way to share another user's tweet, and can be identified by the string RT, followed by the original username who tweeted it.\n",
    "\n",
    "Your job is to fill in the function count_retweets_by_username so that it returns a frequency dictionary that indicates how many times each username was retweeted."
   ]
  },
  {
   "cell_type": "code",
   "execution_count": 1,
   "metadata": {
    "collapsed": true
   },
   "outputs": [],
   "source": [
    "tweets = [\"This is great! RT @fake_user: Can you believe this http://some-link.com\",\n",
    "         \"It's the refs! RT @dubsfan: Boo the refs and stuff wargarbal\",\n",
    "         \"That's right RT @ladodgers: The dodgers are destined to win the west!\",\n",
    "         \"RT @sportball: That sporting event was not cool\",\n",
    "         \"This is just a tweet about things @person, how could you\",\n",
    "         \"RT @ladodgers: The season is looking great!\",\n",
    "         \"RT @dubsfan: I can't believe it!\",\n",
    "         \"I can't believe it either! RT @dubsfan: I can't believe it\"]"
   ]
  },
  {
   "cell_type": "code",
   "execution_count": 2,
   "metadata": {
    "collapsed": true
   },
   "outputs": [],
   "source": [
    "def count_retweets_by_username(tweet_list):\n",
    "    \"\"\" (list of tweets) -> dict of {username: int}\n",
    "    Returns a dictionary in which each key is a username that was \n",
    "    retweeted in tweet_list and each value is the total number of times this \n",
    "    username was retweeted.\n",
    "    \"\"\"\n",
    "    \n",
    "    # write code here and update return statement with your dictionary\n",
    "    return {}"
   ]
  },
  {
   "cell_type": "code",
   "execution_count": null,
   "metadata": {
    "collapsed": true
   },
   "outputs": [],
   "source": [
    "# allow this code to work by implementing count_retweets_by_username function above\n",
    "print(count_retweets_by_username(tweets))"
   ]
  },
  {
   "cell_type": "markdown",
   "metadata": {},
   "source": [
    "# Looking for Minerals (30 Points)\n",
    "\n",
    "A mining company conducts a survey of an n-by-n square grid of land.  Each row of land is numbered from 0 to n-1 where 0 is the top and n-1 is the bottom, and each column is also numbered from 0 to n-1 where 0 is the left and n-1 is the right.  The company wishes to record which squares of this grid contain mineral deposits.\n",
    "\n",
    "The company decides to use a list of tuples to store the location of each deposit.  The first item in each tuple is the row of the deposit.  The second item is the column.  The third item is a non-negative number representing the size of the deposit, in tons.  For example, the following code defines a sample representation of a set of deposits in an 8-by-8 grid."
   ]
  },
  {
   "cell_type": "code",
   "execution_count": 1,
   "metadata": {
    "collapsed": true
   },
   "outputs": [],
   "source": [
    "deposits = [(0,4,.3), (6, 2, 3), (3, 7, 2.2), (5, 5, .5), (3, 5, .8)]"
   ]
  },
  {
   "cell_type": "markdown",
   "metadata": {
    "collapsed": false
   },
   "source": [
    "Given a list of deposits like the one above, write a function to create a string representation for a rectangular subregion of the land.  Your function should take a list of deposits, then a set of parameters denoting the top, bottom, left, and right edges of the subgrid.  It should return a multi-line string in which grid squares without deposits are represented by \"-\" and grid squares with a deposit are represented by \"X\"."
   ]
  },
  {
   "cell_type": "code",
   "execution_count": 5,
   "metadata": {
    "collapsed": true
   },
   "outputs": [],
   "source": [
    "def display(deposits, top, bottom, left, right):\n",
    "    \"\"\"display a subgrid of the land, with rows starting at top and up to \n",
    "    but not including bottom, and columns starting at left and up to but\n",
    "    not including right.\"\"\"\n",
    "    ans = \"\" # delete this line and enter your own code\n",
    "    return ans"
   ]
  },
  {
   "cell_type": "markdown",
   "metadata": {},
   "source": [
    "For example, your function should replicate the following behavior for the example grid:\n",
    "```\n",
    "print(display(deposits, 0, 8, 0, 8))\n",
    "----X---\n",
    "--------\n",
    "--------\n",
    "-----X-X\n",
    "--------\n",
    "-----X--\n",
    "--X-----\n",
    "-------X\n",
    "\n",
    "print(display(deposits, 5, 8, 5, 8))\n",
    "X--\n",
    "---\n",
    "--X\n",
    "\n",
    "```\n",
    "\n",
    "Next, complete the following function to compute the total number of tons in a rectangular subregion of the grid."
   ]
  },
  {
   "cell_type": "code",
   "execution_count": 3,
   "metadata": {
    "collapsed": true
   },
   "outputs": [],
   "source": [
    "def tons_inside(deposits, top, bottom, left, right):\n",
    "    \"\"\"Returns the total number of tons of deposits for which the row is at least top,\n",
    "    but strictly less than bottom, and the column is at least left, but strictly\n",
    "    less than right.\"\"\"\n",
    "    # Do not alter the function header.  \n",
    "    # Just fill in the code so it returns the correct number of tons.\n",
    "    pass "
   ]
  },
  {
   "cell_type": "markdown",
   "metadata": {},
   "source": [
    "Next, write a function to return the square i-by-i grid subregion with the highest amount of deposits.  This is the subregion of size i-by-i with the most tons.  If there are multiple such regions with the maximum number of tons, your function should return any one of these regions."
   ]
  },
  {
   "cell_type": "code",
   "execution_count": 7,
   "metadata": {
    "collapsed": true
   },
   "outputs": [],
   "source": [
    "def best_square(n, deposits, i):\n",
    "    \"\"\"Returns a tuple (top, left) representing the top row and left column of the \n",
    "    square i-by-i subgrid with the highest amount of deposits.\"\"\"\n",
    "    max_top, max_left = 0, 0 # remove this line and replace with your code.\n",
    "    return (max_top, max_left)"
   ]
  },
  {
   "cell_type": "markdown",
   "metadata": {},
   "source": [
    "Finally, write code to find the 4x4 subgrid of the sample grid above with the highest density of deposits and display that subgrid."
   ]
  },
  {
   "cell_type": "code",
   "execution_count": null,
   "metadata": {
    "collapsed": true
   },
   "outputs": [],
   "source": []
  }
 ],
 "metadata": {
  "kernelspec": {
   "display_name": "Python [Root]",
   "language": "python",
   "name": "Python [Root]"
  },
  "language_info": {
   "codemirror_mode": {
    "name": "ipython",
    "version": 3
   },
   "file_extension": ".py",
   "mimetype": "text/x-python",
   "name": "python",
   "nbconvert_exporter": "python",
   "pygments_lexer": "ipython3",
   "version": "3.5.2"
  }
 },
 "nbformat": 4,
 "nbformat_minor": 0
}
