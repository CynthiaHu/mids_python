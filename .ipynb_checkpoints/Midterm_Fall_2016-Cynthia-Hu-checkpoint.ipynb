{
 "cells": [
  {
   "cell_type": "markdown",
   "metadata": {},
   "source": [
    "# Python Fundamentals for Data Science: Midterm Exam\n",
    "### Summer 2016"
   ]
  },
  {
   "cell_type": "markdown",
   "metadata": {},
   "source": [
    "## Instructions\n",
    "The midterm exam is designed to evaluate your grasp of Python theory as well as Python coding.\n",
    "\n",
    "- This is an individual exam.\n",
    "- You have 24 hours to complete the exam, starting from the point at which you first access it.\n",
    "\n",
    "For the coding questions, follow best practices.  Partial credit may be given for submissions that are clearly commented and well organized."
   ]
  },
  {
   "cell_type": "markdown",
   "metadata": {},
   "source": [
    "# Short Questions (10 Points)\n",
    "\n",
    "- Python's dynamic typing allows one variable to refer to multiple types of objects within the same program execution.  This can speed program development.  Name one disadvantage of dynamic typing."
   ]
  },
  {
   "cell_type": "markdown",
   "metadata": {
    "collapsed": true
   },
   "source": [
    "**[Type Answer Here]**\n",
    "\n",
    "You may accidentally override the variable value and type as you would not get an error message or warning by doing so in Python. For example, you first assign x = 6; later, you forgot that you already used variable x and then assign another object to x, x = input(\"Please enter your name: \"). When you use x in some math calculation later in the program, you will get error like 'TypeError: Can't convert 'int' object to str implicitly'."
   ]
  },
  {
   "cell_type": "markdown",
   "metadata": {},
   "source": [
    "- Compiled languages typically offer faster performance than interpreted languages.  Why would you choose an interpreted language like Python for the purpose of analyzing a data set?"
   ]
  },
  {
   "cell_type": "markdown",
   "metadata": {
    "collapsed": true
   },
   "source": [
    "**[Type Answer Here]**\n",
    "\n",
    "Compiled languages are relatively low-level languages, like Java or C/C++. Though low-level languages run faster, the developer has to write more codes and worry about the hardware underneath. On the other hand, interpreted languages are high-level languages and hide those details from developers which means that we don't need to care about the physical location for the objects and we can develop faster. Thus, choosing Python or other interpreted languages for data set analysis, we can focus on the analysis and modeling part instead of worring about hardware details."
   ]
  },
  {
   "cell_type": "markdown",
   "metadata": {},
   "source": [
    "* We have gone over FOR and WHILE loops.  Discuss one reason to use a for loop over a while loop and one reason to do the opposite. Please elaborate beyond a single word."
   ]
  },
  {
   "cell_type": "markdown",
   "metadata": {
    "collapsed": true
   },
   "source": [
    "**[Type Answer Here]**\n",
    "1. For loop is easier to read and doesn't need to increment the counter. It's better to use it if you're sure about the number of iterations and no complex conditions for the loop, such as loop through the items in the last.\n",
    "\n",
    "    myList=['Mon','Tue','Wed','Thurs','Fri','Sat','Sun']\n",
    "    \n",
    "    for items in myList:\n",
    "        \n",
    "        print(items)\n",
    "    \n",
    "2. On the other hand,if you don't the the number of iterations or have complex loop conditions, then you will have more flexibility using while loop, such as finding the square root. We only know the stop condition, but not sure after how many iterations. Thus, we will use while loop in the following format.\n",
    "\n",
    "    ans = 0\n",
    "    \n",
    "    step =1\n",
    "    \n",
    "    while ans * ans <= x:\n",
    "    \n",
    "        ans += step\n",
    " "
   ]
  },
  {
   "cell_type": "markdown",
   "metadata": {},
   "source": [
    "# Programming Styles (10 Points)\n",
    "\n",
    "We have taught you a number of ways to program python. These have included using scripts versus functions and using jupyter notebooks versus calling .py files from the command line. Describe a scenario in which you would use a script versus a function and the opposite. Then describe a senario in which you would use .py files from the command line over a jupyter notebook and the opposite. There are four cases and each answer should be about 1-2 sentences."
   ]
  },
  {
   "cell_type": "markdown",
   "metadata": {},
   "source": [
    " * I would use a jupyter notebook over .py files:\n",
    "\n",
    "\n",
    "\n",
    "* I would use .py files over a notebook:\n",
    "\n",
    "\n",
    "\n",
    "\n",
    "* I would use a script over a function:\n",
    "\n",
    "\n",
    "\n",
    "\n",
    "\n",
    "* I would use a function over a script:\n",
    "\n",
    "\n",
    "\n"
   ]
  },
  {
   "cell_type": "markdown",
   "metadata": {},
   "source": [
    "**[Type Answer Here]**\n",
    "* I would use a jupyter notebook over .py files:\n",
    "  \n",
    "  If I would like to test some codes or run short simple scripts, then I would prefer to do it in the notebook. For example, I would like to test examples of list mutability and difference between copy and deepcopy.\n",
    "\n",
    "\n",
    "* I would use .py files over a notebook:\n",
    "\n",
    "  On the other hand, if I develop a complex project and create long scripts, then I would like to use .py file for the final project. Then I can run the whole project quickly with neat scripts in .py file instead of multiple jupyter cells or one messy cell.\n",
    "\n",
    "\n",
    "* I would use a script over a function:\n",
    "  If I don't need to reuse the functionality or the codes are easy to update, then I don't need to create a function and call it. For example, if I only need to read the raw data once, I would just use the script over a function.\n",
    "\n",
    "* I would use a function over a script:\n",
    "\n",
    "  If I need to reuse some codes several times, then I would like to create a function and then call the function in different parts in my main script. In this way, I can hide all the details and avoid repeating in the main script. For example, when building the revenue forecast models, I need to pull historical data several times for training the model, ensemble model and prediction different years. So, I created a function to pull the historical data with Year and other attributes (Product) as the parameters.\n",
    "  \n",
    "  Another "
   ]
  },
  {
   "cell_type": "markdown",
   "metadata": {},
   "source": [
    "# Dictionaries vs Lists (10 Points)\n",
    "\n",
    "Suppose we have the following problem.  We have a dictionary of names and ages and we would like to find the oldest person.\n",
    "\n",
    "```\n",
    "ages_dict = {'Bill':34, 'Fred':45, 'Alice':14, 'Betty':17}\n",
    "```"
   ]
  },
  {
   "cell_type": "markdown",
   "metadata": {},
   "source": [
    "### Dictionary approach\n",
    "Here is a loop that shows how to iterate through the dictionary:"
   ]
  },
  {
   "cell_type": "code",
   "execution_count": 4,
   "metadata": {
    "collapsed": false
   },
   "outputs": [
    {
     "name": "stdout",
     "output_type": "stream",
     "text": [
      "Fred is the oldest\n"
     ]
    }
   ],
   "source": [
    "ages_dict = {'Bill':34, 'Fred':45, 'Alice':14, 'Betty':17}\n",
    "\n",
    "max_age = 0\n",
    "max_name = ''\n",
    "for name,age in ages_dict.items():\n",
    "    if age > max_age:\n",
    "        max_age = age\n",
    "        max_name = name\n",
    "        \n",
    "print(max_name, \"is the oldest\")    "
   ]
  },
  {
   "cell_type": "markdown",
   "metadata": {},
   "source": [
    "### List approach \n",
    "\n",
    "Your friend comes to you and says that this dictionary is hard to deal with and instead offers a different plan with 2 lists.\n",
    "\n",
    "```\n",
    "names = ['Bill', 'Fred', 'Alice', 'Betty']\n",
    "ages = [34, 45, 14, 17]\n",
    "```"
   ]
  },
  {
   "cell_type": "markdown",
   "metadata": {},
   "source": [
    "Instead of using a loop, your friend writes this code to find the oldest person."
   ]
  },
  {
   "cell_type": "code",
   "execution_count": 5,
   "metadata": {
    "collapsed": false
   },
   "outputs": [
    {
     "name": "stdout",
     "output_type": "stream",
     "text": [
      "Fred is the oldest\n"
     ]
    }
   ],
   "source": [
    "names = ['Bill', 'Fred', 'Alice', 'Betty']\n",
    "ages = [34, 45, 14, 17]\n",
    "\n",
    "max_age = max(ages)\n",
    "index_max = ages.index(max_age)\n",
    "max_name = names[index_max]\n",
    "\n",
    "print(max_name, 'is the oldest')"
   ]
  },
  {
   "cell_type": "markdown",
   "metadata": {},
   "source": [
    "### Discussion\n",
    "\n",
    "Discuss the advantages and disadvantages of each of the approaches.  \n",
    "* Is one more efficient (i.e. faster) than the other?\n",
    "* Why would you prefer the dictionary?\n",
    "* Why would you prefer the 2 lists?"
   ]
  },
  {
   "cell_type": "markdown",
   "metadata": {},
   "source": [
    "**[Type Answer Here]**\n",
    "\n",
    "I don't think one is more efficient than the other. Ultimately, both methods loop through each items in the list or dictionary, comparing each with some base value.\n",
    "\n",
    "I would prefer the dictionary. The two lists will not guarantee that items match. For example, the order changes in one list and 34 becomes Fred's age which is incorrect. Using dictionary not only makes sure the name and age match but also key is immutable so that you would not change it accidentally."
   ]
  },
  {
   "cell_type": "markdown",
   "metadata": {},
   "source": [
    "# Mutability Surprises (20 Points)\n",
    "\n",
    "In the asyncronous sessions, we discussed mutability. Please describe, in your own words, why mutability is a useful feature in Python lists and dictionaries."
   ]
  },
  {
   "cell_type": "markdown",
   "metadata": {},
   "source": [
    "**[Type Answer Here]**\n",
    "\n",
    "Mutability means that you can change the object. List is mutable and you can change the value of the items or append new items or pop. Then you can create just one variable with List type and change its contents during the process. Dictionaries are similar lists; though keys are immutable, values can be any type, such as lists.\n",
    "\n",
    "The list doesn't contain the objects but has reference to the objects. When associate several list variables to the same items, you can change the item at one place and get updated values for other variables as well."
   ]
  },
  {
   "cell_type": "markdown",
   "metadata": {},
   "source": [
    "Mutability can also lead to unexpected behavior - specifically when multiple variables point to the same object or when mutable objects are nested inside each other. \n",
    "\n",
    "Please write some code demonstrating a situation where mutability could lead to unexpected behavior. Specifically, show how updating just one object (list_a) can change the value when you print a second variable (list_b)."
   ]
  },
  {
   "cell_type": "code",
   "execution_count": 17,
   "metadata": {
    "collapsed": false
   },
   "outputs": [
    {
     "name": "stdout",
     "output_type": "stream",
     "text": [
      "Before updating list_b, list_a has value:  ['Cynthia', 'Hu']\n",
      "After updating list_b, list_a has value: ['Cynthia', 'Gu']\n",
      "After updating list_b, list_b has value: ['Cynthia', 'Gu']\n"
     ]
    }
   ],
   "source": [
    "# list_a contains my name before marriage\n",
    "list_a = ['Cynthia', 'Hu']\n",
    "print('Before updating list_b, list_a has value: ', list_a)\n",
    "\n",
    "# after marriage, I still use the same name\n",
    "list_b = list_a\n",
    "\n",
    "# one day, my husband asked me to change my last name to his.\n",
    "list_b[1] = 'Gu'\n",
    "\n",
    "# however, I didn't mean to change the list for my old name\n",
    "print('After updating list_b, list_a has value:', list_a)\n",
    "print('After updating list_b, list_b has value:', list_b)"
   ]
  },
  {
   "cell_type": "markdown",
   "metadata": {},
   "source": [
    "Show how \"copy\" or \"deepcopy\" could be used to prevent the unexpected problem you described, above."
   ]
  },
  {
   "cell_type": "code",
   "execution_count": 16,
   "metadata": {
    "collapsed": false
   },
   "outputs": [
    {
     "name": "stdout",
     "output_type": "stream",
     "text": [
      "Before updating list_b, list_a has value:  ['Cynthia', 'Hu']\n",
      "After updating list_b, list_a has value: ['Cynthia', 'Hu']\n",
      "After updating list_b, list_b has value: ['Cynthia', 'Gu']\n"
     ]
    }
   ],
   "source": [
    "list_a = ['Cynthia', 'Hu']\n",
    "print('Before updating list_b, list_a has value: ', list_a)\n",
    "\n",
    "# use copy: list_b and list_a are different lists now\n",
    "list_b = list_a.copy()\n",
    "\n",
    "# one day, my husband asked me to change my last name to his.\n",
    "list_b[1] = 'Gu'\n",
    "\n",
    "# however, I didn't mean to change the list for my old name\n",
    "print('After updating list_b, list_a has value:', list_a)\n",
    "print('After updating list_b, list_b has value:', list_b)"
   ]
  },
  {
   "cell_type": "markdown",
   "metadata": {},
   "source": [
    "Now, show the same problem using two dictionaries. Again show how \"copy\" or \"deepcopy\" can fix the issue."
   ]
  },
  {
   "cell_type": "code",
   "execution_count": 18,
   "metadata": {
    "collapsed": false
   },
   "outputs": [
    {
     "name": "stdout",
     "output_type": "stream",
     "text": [
      "Before updating dict_b, dict_a has value:  {'Cynthia': 35, 'Nolan': 2, 'Roger': 36}\n",
      "After updating dict_b, dict_a has value:  {'Cynthia': 35, 'Nolan': 1.5, 'Roger': 36}\n",
      "After updating dict_b, dict_b has value:  {'Cynthia': 35, 'Nolan': 1.5, 'Roger': 36}\n"
     ]
    }
   ],
   "source": [
    "dict_a = {'Cynthia': 35, 'Roger': 36, 'Nolan': 2}\n",
    "print('Before updating dict_b, dict_a has value: ', dict_a)\n",
    "dict_b = dict_a\n",
    "dict_b['Nolan'] = 1.5\n",
    "dict_b = dict_a\n",
    "dict_b['Nolan'] = 1.5\n",
    "print('After updating dict_b, dict_a has value: ', dict_a)\n",
    "print('After updating dict_b, dict_b has value: ', dict_b)"
   ]
  },
  {
   "cell_type": "code",
   "execution_count": 19,
   "metadata": {
    "collapsed": false
   },
   "outputs": [
    {
     "name": "stdout",
     "output_type": "stream",
     "text": [
      "Before updating dict_b, dict_a has value:  {'Cynthia': 35, 'Nolan': 2, 'Roger': 36}\n",
      "After updating dict_b, dict_a has value:  {'Cynthia': 35, 'Nolan': 2, 'Roger': 36}\n",
      "After updating dict_b, dict_b has value:  {'Cynthia': 35, 'Nolan': 1.5, 'Roger': 36}\n"
     ]
    }
   ],
   "source": [
    "# using copy to fix the issues with the dictionaries above\n",
    "# as I don't want to change dict_a\n",
    "dict_a = {'Cynthia': 35, 'Roger': 36, 'Nolan': 2}\n",
    "print('Before updating dict_b, dict_a has value: ', dict_a)\n",
    "\n",
    "dict_b = dict_a.copy()\n",
    "dict_b['Nolan'] = 1.5\n",
    "\n",
    "print('After updating dict_b, dict_a has value: ', dict_a)\n",
    "print('After updating dict_b, dict_b has value: ', dict_b)"
   ]
  },
  {
   "cell_type": "markdown",
   "metadata": {},
   "source": [
    "Can this unexpected behavior problem occur with tuples? Why, or why not?"
   ]
  },
  {
   "cell_type": "markdown",
   "metadata": {},
   "source": [
    "**[Type Answer Here]**\n",
    "\n",
    "This unexpected behavior problem cannot occur with tuples as tuples are immutable. 'Tuple' object does not support item assignment which means once created, you cannot change the items in tuple."
   ]
  },
  {
   "cell_type": "markdown",
   "metadata": {},
   "source": [
    "# Tweet Analysis (20 Points)\n",
    "\n",
    "A tweet is a string that is between 1 and 140 characters long (inclusive). A username is a string of letters and/or digits that is between 1 and 14 characters long (inclusive). A username is mentioned in a tweet by including @username in the tweet. A retweet is way to share another user's tweet, and can be identified by the string RT, followed by the original username who tweeted it.\n",
    "\n",
    "Your job is to fill in the function count_retweets_by_username so that it returns a frequency dictionary that indicates how many times each username was retweeted."
   ]
  },
  {
   "cell_type": "code",
   "execution_count": 20,
   "metadata": {
    "collapsed": true
   },
   "outputs": [],
   "source": [
    "tweets = [\"This is great! RT @fake_user: Can you believe this http://some-link.com\",\n",
    "         \"It's the refs! RT @dubsfan: Boo the refs and stuff wargarbal\",\n",
    "         \"That's right RT @ladodgers: The dodgers are destined to win the west!\",\n",
    "         \"RT @sportball: That sporting event was not cool\",\n",
    "         \"This is just a tweet about things @person, how could you\",\n",
    "         \"RT @ladodgers: The season is looking great!\",\n",
    "         \"RT @dubsfan: I can't believe it!\",\n",
    "         \"I can't believe it either! RT @dubsfan: I can't believe it\"]"
   ]
  },
  {
   "cell_type": "code",
   "execution_count": 50,
   "metadata": {
    "collapsed": true
   },
   "outputs": [],
   "source": [
    "def count_retweets_by_username(tweet_list):\n",
    "    \"\"\" (list of tweets) -> dict of {username: int}\n",
    "    Returns a dictionary in which each key is a username that was \n",
    "    retweeted in tweet_list and each value is the total number of times this \n",
    "    username was retweeted.\n",
    "    \"\"\"\n",
    "    \n",
    "    # write code here and update return statement with your dictionary\n",
    "    user_list = []\n",
    "    user_count = {}\n",
    "    for item in tweet_list:  \n",
    "        # find the starting position of RT string\n",
    "        start = item.find('RT @')\n",
    "        # extract the maximum len allowed for a username\n",
    "        if start >= 0:\n",
    "            end = min(start + 18, len(item))\n",
    "            user = item[start+4 : end].split(':')\n",
    "            user_list.append(user[0])\n",
    "    # get a unique list of username\n",
    "    user_set = set(user_list)\n",
    "\n",
    "    for user in user_set:\n",
    "        user_count[user] = user_list.count(user)\n",
    "    return user_count"
   ]
  },
  {
   "cell_type": "code",
   "execution_count": 51,
   "metadata": {
    "collapsed": false
   },
   "outputs": [
    {
     "name": "stdout",
     "output_type": "stream",
     "text": [
      "{'ladodgers': 2, 'sportball': 1, 'fake_user': 1, 'dubsfan': 3}\n"
     ]
    }
   ],
   "source": [
    "# allow this code to work by implementing count_retweets_by_username function above\n",
    "print(count_retweets_by_username(tweets))"
   ]
  },
  {
   "cell_type": "markdown",
   "metadata": {},
   "source": [
    "# Looking for Minerals (30 Points)\n",
    "\n",
    "A mining company conducts a survey of an n-by-n square grid of land.  Each row of land is numbered from 0 to n-1 where 0 is the top and n-1 is the bottom, and each column is also numbered from 0 to n-1 where 0 is the left and n-1 is the right.  The company wishes to record which squares of this grid contain mineral deposits.\n",
    "\n",
    "The company decides to use a list of tuples to store the location of each deposit.  The first item in each tuple is the row of the deposit.  The second item is the column.  The third item is a non-negative number representing the size of the deposit, in tons.  For example, the following code defines a sample representation of a set of deposits in an 8-by-8 grid."
   ]
  },
  {
   "cell_type": "code",
   "execution_count": 52,
   "metadata": {
    "collapsed": true
   },
   "outputs": [],
   "source": [
    "deposits = [(0,4,.3), (6, 2, 3), (3, 7, 2.2), (5, 5, .5), (3, 5, .8)]"
   ]
  },
  {
   "cell_type": "markdown",
   "metadata": {
    "collapsed": false
   },
   "source": [
    "Given a list of deposits like the one above, write a function to create a string representation for a rectangular subregion of the land.  Your function should take a list of deposits, then a set of parameters denoting the top, bottom, left, and right edges of the subgrid.  It should return a multi-line string in which grid squares without deposits are represented by \"-\" and grid squares with a deposit are represented by \"X\"."
   ]
  },
  {
   "cell_type": "code",
   "execution_count": 172,
   "metadata": {
    "collapsed": false
   },
   "outputs": [],
   "source": [
    "def display(deposits, top, bottom, left, right):\n",
    "    \"\"\"display a subgrid of the land, with rows starting at top and up to \n",
    "    but not including bottom, and columns starting at left and up to but\n",
    "    not including right.\"\"\"\n",
    "    # assuming it's a 8*8 grid as n is not parameter of the function\n",
    "    import numpy as np\n",
    "    n=8\n",
    "    o = '-'*(n**2)\n",
    "    # initialize a string array for displaying\n",
    "    ans=np.array(list(o),dtype=str).reshape(n,n)\n",
    "    # initialize a numeric array for storing the deposits\n",
    "    a = np.zeros((n,n))\n",
    "    # update numeric array with deposits\n",
    "    for t in deposits:\n",
    "        a[t[0]][t[1]]=t[2]\n",
    "    for i in range(a.shape[0]):\n",
    "        for j in range(a.shape[1]):\n",
    "            if a[i][j] >0:\n",
    "                ans[i][j] = 'X'\n",
    "    # extract subgrid\n",
    "    ans_sub=ans[top:bottom,left:right]    \n",
    "    return ans_sub"
   ]
  },
  {
   "cell_type": "code",
   "execution_count": 175,
   "metadata": {
    "collapsed": false
   },
   "outputs": [
    {
     "name": "stdout",
     "output_type": "stream",
     "text": [
      "[['-' '-' '-' '-' 'X' '-' '-' '-']\n",
      " ['-' '-' '-' '-' '-' '-' '-' '-']\n",
      " ['-' '-' '-' '-' '-' '-' '-' '-']\n",
      " ['-' '-' '-' '-' '-' 'X' '-' 'X']\n",
      " ['-' '-' '-' '-' '-' '-' '-' '-']\n",
      " ['-' '-' '-' '-' '-' 'X' '-' '-']\n",
      " ['-' '-' 'X' '-' '-' '-' '-' '-']\n",
      " ['-' '-' '-' '-' '-' '-' '-' '-']]\n",
      "\n",
      "[['X' '-' '-']\n",
      " ['-' '-' '-']\n",
      " ['-' '-' '-']]\n"
     ]
    }
   ],
   "source": [
    "print(display(deposits, 0, 8, 0, 8))\n",
    "print()\n",
    "print(display(deposits, 5, 8, 5, 8))"
   ]
  },
  {
   "cell_type": "markdown",
   "metadata": {},
   "source": [
    "For example, your function should replicate the following behavior for the example grid:\n",
    "```\n",
    "print(display(deposits, 0, 8, 0, 8))\n",
    "----X---\n",
    "--------\n",
    "--------\n",
    "-----X-X\n",
    "--------\n",
    "-----X--\n",
    "--X-----\n",
    "-------X\n",
    "\n",
    "print(display(deposits, 5, 8, 5, 8))\n",
    "X--\n",
    "---\n",
    "--X\n",
    "\n",
    "```\n",
    "\n",
    "Next, complete the following function to compute the total number of tons in a rectangular subregion of the grid."
   ]
  },
  {
   "cell_type": "code",
   "execution_count": 176,
   "metadata": {
    "collapsed": true
   },
   "outputs": [],
   "source": [
    "def tons_inside(deposits, top, bottom, left, right):\n",
    "    \"\"\"Returns the total number of tons of deposits for which the row is at least top,\n",
    "    but strictly less than bottom, and the column is at least left, but strictly\n",
    "    less than right.\"\"\"\n",
    "    # Do not alter the function header.  \n",
    "    # Just fill in the code so it returns the correct number of tons.\n",
    "    # assuming it's a 8*8 grid as n is not parameter of the function\n",
    "    import numpy as np\n",
    "    n=8\n",
    "    # initialize the grid with zerios\n",
    "    a = np.zeros((n,n))\n",
    "    # replace 0 with deposit number\n",
    "    for t in deposits:\n",
    "        a[t[0]][t[1]]=t[2]\n",
    "    # create a new array for the subregion of the grid\n",
    "    b=a[top:bottom,left:right]\n",
    "    # return the total of deposits in the array\n",
    "    return sum(sum(b))"
   ]
  },
  {
   "cell_type": "code",
   "execution_count": 177,
   "metadata": {
    "collapsed": false
   },
   "outputs": [
    {
     "name": "stdout",
     "output_type": "stream",
     "text": [
      "6.8\n",
      "0.5\n"
     ]
    }
   ],
   "source": [
    "print(tons_inside(deposits,0,8,0,8))\n",
    "print(tons_inside(deposits,5,8,5,8))"
   ]
  },
  {
   "cell_type": "markdown",
   "metadata": {},
   "source": [
    "Next, write a function to return the square i-by-i grid subregion with the highest amount of deposits.  This is the subregion of size i-by-i with the most tons.  If there are multiple such regions with the maximum number of tons, your function should return any one of these regions."
   ]
  },
  {
   "cell_type": "code",
   "execution_count": 178,
   "metadata": {
    "collapsed": true
   },
   "outputs": [],
   "source": [
    "def best_square(n, deposits, i):\n",
    "    \"\"\"Returns a tuple (top, left) representing the top row and left column of the \n",
    "    square i-by-i subgrid with the highest amount of deposits.\"\"\"\n",
    "    if i > n:\n",
    "        raise Exception(\"Subregion grid is greater than the grid. Please enter i no larger than n.\")\n",
    "    if i <= 0:\n",
    "        raise Exception(\"Please enter a positive integer.\")\n",
    "    # initialize the answers to 0\n",
    "    max_tons = 0\n",
    "    max_top, max_left = 0, 0\n",
    "    \n",
    "    # loop through the row and then the column for any combination of the i-i grid\n",
    "    top = 0\n",
    "    while top <= n and top + i <= n:\n",
    "        left = 0\n",
    "        while left <= n and left + i <= n:\n",
    "             # call the tons_inside funtion to calcualte the total deposits within the i-i grid\n",
    "            temp = tons_inside(deposits,top,top + i, left, left + i)\n",
    "            \n",
    "            if temp > max_tons:\n",
    "                max_tons = temp\n",
    "                max_top = top\n",
    "                max_left = left\n",
    "            #print('total tons:',temp,'  top is: ',top,'  left is: ',left)\n",
    "            left += 1\n",
    "        #print('total tons:',temp,'  top is: ',top,'  left is: ',left)\n",
    "        top += 1\n",
    "    return (max_top, max_left)"
   ]
  },
  {
   "cell_type": "code",
   "execution_count": 179,
   "metadata": {
    "collapsed": false
   },
   "outputs": [
    {
     "name": "stdout",
     "output_type": "stream",
     "text": [
      "(3, 5)\n",
      "3\n"
     ]
    }
   ],
   "source": [
    "a=best_square(8,deposits,3)\n",
    "print(a)\n",
    "print(a[0])"
   ]
  },
  {
   "cell_type": "markdown",
   "metadata": {},
   "source": [
    "Finally, write code to find the 4x4 subgrid of the sample grid above with the highest density of deposits and display that subgrid."
   ]
  },
  {
   "cell_type": "code",
   "execution_count": 180,
   "metadata": {
    "collapsed": false
   },
   "outputs": [
    {
     "name": "stdout",
     "output_type": "stream",
     "text": [
      "(3, 2)\n",
      "[['-' '-' '-' 'X']\n",
      " ['-' '-' '-' '-']\n",
      " ['-' '-' '-' 'X']\n",
      " ['X' '-' '-' '-']]\n"
     ]
    }
   ],
   "source": [
    "print(best_square(8,deposits,4))\n",
    "start = best_square(8,deposits,4)\n",
    "print(display(deposits, start[0], start[0] + 4, start[1], start[1] + 4))"
   ]
  },
  {
   "cell_type": "code",
   "execution_count": 181,
   "metadata": {
    "collapsed": false
   },
   "outputs": [
    {
     "name": "stdout",
     "output_type": "stream",
     "text": [
      "[[ 0.   0.   0.   0.8]\n",
      " [ 0.   0.   0.   0. ]\n",
      " [ 0.   0.   0.   0.5]\n",
      " [ 3.   0.   0.   0. ]]\n"
     ]
    }
   ],
   "source": [
    "# print the subgrid with number below to confirm\n",
    "n=8\n",
    "a = np.zeros((n,n))\n",
    "for t in deposits:\n",
    "    a[t[0]][t[1]]=t[2]\n",
    "start = best_square(8,deposits,4)\n",
    "b=a[start[0]: start[0] + 4, start[1]: start[1] + 4]\n",
    "print(b)"
   ]
  }
 ],
 "metadata": {
  "anaconda-cloud": {},
  "kernelspec": {
   "display_name": "Python [Root]",
   "language": "python",
   "name": "Python [Root]"
  },
  "language_info": {
   "codemirror_mode": {
    "name": "ipython",
    "version": 3
   },
   "file_extension": ".py",
   "mimetype": "text/x-python",
   "name": "python",
   "nbconvert_exporter": "python",
   "pygments_lexer": "ipython3",
   "version": "3.5.2"
  }
 },
 "nbformat": 4,
 "nbformat_minor": 0
}
