{
 "cells": [
  {
   "cell_type": "markdown",
   "metadata": {},
   "source": [
    "## Week 4 Assignment - W18 MIDS Python"
   ]
  },
  {
   "cell_type": "markdown",
   "metadata": {},
   "source": [
    "Write code in this Jupyter Notebook to solve each of the following problems. Each problem should have its solution in a separate cell. Please upload this Notebook with your solutions to your GitHub repository in your week_3 folder by the midnight before class."
   ]
  },
  {
   "cell_type": "markdown",
   "metadata": {},
   "source": [
    "## Part 1 - Loops\n",
    "### 4-1-1 For Loops\n",
    "\n",
    "Write a script that prompts the user for two words.  Print all the letters that are common to both words, in alphabetical order, using for loops in your solution.\n",
    "```\n",
    "Enter one word: Home\n",
    "Enter another word: meter\n",
    "Letters in common: em\n",
    "```"
   ]
  },
  {
   "cell_type": "code",
   "execution_count": 1,
   "metadata": {
    "collapsed": false
   },
   "outputs": [
    {
     "name": "stdout",
     "output_type": "stream",
     "text": [
      "Enter one word: happy\n",
      "Enter another word: birthday\n",
      "Letters in common: a, h, y\n"
     ]
    }
   ],
   "source": [
    "# Feinstein\n",
    "\n",
    "word = input(\"Enter one word: \").lower()\n",
    "another = input(\"Enter another word: \").lower()\n",
    "common = []\n",
    "\n",
    "for x in word:\n",
    "    for y in another:\n",
    "        if x == y:\n",
    "            common.append(x)\n",
    "            \n",
    "common = list(set(common))\n",
    "common.sort()\n",
    "\n",
    "print (\"Letters in common: \" + ', '.join(common))"
   ]
  },
  {
   "cell_type": "code",
   "execution_count": 3,
   "metadata": {
    "collapsed": false
   },
   "outputs": [
    {
     "name": "stdout",
     "output_type": "stream",
     "text": [
      "Please enter two words, separated by space: happy birthday\n",
      "ahy\n"
     ]
    }
   ],
   "source": [
    "# Alice Lam\n",
    "word1, word2 = (input(\"Please enter two words, separated by space: \").lower().split())\n",
    "print (\"\".join(sorted((set([letter for letter in word1 if letter in word2])))))"
   ]
  },
  {
   "cell_type": "code",
   "execution_count": 4,
   "metadata": {
    "collapsed": false
   },
   "outputs": [
    {
     "name": "stdout",
     "output_type": "stream",
     "text": [
      "Enter one word:  happy\n",
      "Enter another word: birthday\n",
      "ahy\n"
     ]
    }
   ],
   "source": [
    "# Plumley\n",
    "s1 = {x for x in input(\"Enter one word:  \").lower()}\n",
    "s2 = {x for x in input(\"Enter another word: \").lower()}\n",
    "alphabet = {x for x in (\"abcdefghijklmnopqrstuvwxyz\")}\n",
    "print(\"\".join(sorted(list(s1 & s2 & alphabet))))"
   ]
  },
  {
   "cell_type": "markdown",
   "metadata": {},
   "source": [
    "### 4-1-2 A Game of Chess\n",
    "You place a pawn at the top left corner of an n-by-n chess board, labeled (0,0).  For each move, you have a choice: move the pawn down a single space, or move the pawn down one space and right one space.  That is, if the pawn is at position (i,j), you can move the pawn to (i+1,j) or (i+1, j+1).\n",
    "\n",
    "Ask the user for the size of a chessboard, n.  Find the number of different paths the pawn could take to reach each position on the chess board.  For example, there are two different paths the pawn can take to reach (2,1): \n",
    "\n",
    "* (0,0) -> (1,0) -> (2,1)\n",
    "* (0,0) -> (1,1) -> (2,1)\n",
    "\n",
    "print the board with the number of ways to reach each square labeled as shown below.\n",
    "\n",
    "Enter a size: 3\n",
    "```\n",
    "1 0 0\n",
    "1 1 0\n",
    "1 2 1\n",
    "```\n",
    "\n",
    "#### Please create pseudocode for this problem in a separate cell, then implement your solution\n",
    "\n",
    "Below is the code to take a convert that board size input."
   ]
  },
  {
   "cell_type": "code",
   "execution_count": 6,
   "metadata": {
    "collapsed": true
   },
   "outputs": [],
   "source": [
    "# Pseudocode Here\n",
    "# Pseudocode Here  Scott A. George\n",
    "\n",
    "# giving a second look 2016 09 27 because I missed one of the ways to make a path for the pawn\n",
    "\n",
    "# pawn is at zero, zero\n",
    "# allowed moves: i,j to i+1,j, or i,j to i+1,j+1\n",
    "#  the pawn can't move to the right directly, so all columns in this row where col_index > row_index  will be zero\n",
    "\n",
    "\n",
    "# size 4\n",
    "# ...\n",
    "# 1 0 0 0\n",
    "# 1 1 0 0\n",
    "# 1 2 1 0\n",
    "# 1 3 3 1\n",
    "\n",
    "# size 5\n",
    "#...\n",
    "# 1 0 0 0 0\n",
    "# 1 1 0 0 0\n",
    "# 1 2 1 0 0\n",
    "# 1 3 3 1 0\n",
    "# 1 4 6 4 1 \n",
    "\n",
    "# size 6\n",
    "#...\n",
    "# 1 0 0  0  0 0\n",
    "# 1 1 0  0  0 0\n",
    "# 1 2 1  0  0 0\n",
    "# 1 3 2  1  0 0\n",
    "# 1 4 6  4  1 0\n",
    "# 1 5 10 10 5 1\n",
    "\n",
    "# the emergent pattern is:\n",
    "# Pascal's triangle!  Not what I had before!\n",
    "\n",
    "# create board structure \n",
    "# board <- zeros array(n,n)\n",
    "#\n",
    "#\n",
    "\n",
    "# looping over rows in outer loop, for i < n\n",
    "# looping over columns in inner loop, for j <= i  # initializing to zero means we don't need to consider upper right half of array\n",
    "#     if j == 0,\n",
    "#       array(i,j) <- 1\n",
    "#     elif i==j, \n",
    "#       array(i,j) <-1\n",
    "#     else\n",
    "#       array(i,j) <- array(i-1,j-1)+array(i-1,j)\n",
    "# then print this out in a pretty fashion\n",
    "#\n",
    "#  might actually need to extend the inner loop up to the input integer to make it print well "
   ]
  },
  {
   "cell_type": "code",
   "execution_count": 7,
   "metadata": {
    "collapsed": true
   },
   "outputs": [],
   "source": [
    "# Cynthia Hu\n",
    "\n",
    "# Pseudocode Here\n",
    "# ask the user to input the size of the board n\n",
    "# the first row\n",
    "    #only 1 way for the first position but always 0 to other positions\n",
    "# move to the second row\n",
    "    # 1 way for the first position (moved one space down from the first position of first row)\n",
    "    # 1 way for the second position (start-> down one and right one)\n",
    "    # 0 ways for position beyond the second\n",
    "# move to the ith row\n",
    "    # always 1 for the first position (start-> down one->down one...)\n",
    "    # for jth position, can be moved from (i-1,j-1) or (i-1,j), thus ways to (i-1,j-1)+ ways to (i-1,j)\n",
    "# loop through the column and then loop through the rows\n"
   ]
  },
  {
   "cell_type": "code",
   "execution_count": 8,
   "metadata": {
    "collapsed": true
   },
   "outputs": [],
   "source": [
    "### W4-1-2\n",
    "### Tom Seddon\n",
    "\n",
    "# With these pawn move constraints, the problem is like Pascals Triangle.\n",
    "# The number of paths to each square is the sum of the number of paths to two other squares.\n",
    "# My overall approach will be to build each row from the one above.\n",
    "# Each square, except the first column, will be the sum of two squares in the row above.\n",
    "#\n",
    "# Steps:\n",
    "#\n",
    "# 1. Get a number of rows/columns from user that is an integer greater than zero\n",
    "# 2. Create a Last Row list that is n columns wide and all zeros\n",
    "# 3. Create a new Current Row list\n",
    "# 4. If it is the first column in the row, start with a 1 in the first column\n",
    "# 5. If not the first column in the row, append Current Row list with\n",
    "#    a value = Last Row[this column-1] and Last Row[this column] \n",
    "# 6. If there are still columns to add, go back to step 5\n",
    "# 7. Print out the Current Row\n",
    "# 8. Make the new Last Row list equal to this Current Row list\n",
    "# 9. If there are no more rows to print, end, otherwise go back up to step 3\n",
    "#\n",
    "# Note:  Assume I don't need to try to line up numbers in columns neatly as \n",
    "#        board grows larger.  Doing that would require calculating all the rows\n",
    "#        before printing, to establish the spacing needed for alignment.\n"
   ]
  },
  {
   "cell_type": "code",
   "execution_count": 9,
   "metadata": {
    "collapsed": false
   },
   "outputs": [
    {
     "name": "stdout",
     "output_type": "stream",
     "text": [
      "Enter a board size: 5\n",
      "1 0 0 0 0 \n",
      "1 1 0 0 0 \n",
      "1 2 1 0 0 \n",
      "1 3 3 1 0 \n",
      "1 4 6 4 1 \n"
     ]
    }
   ],
   "source": [
    "### Harding\n",
    "\n",
    "n = int(input(\"Enter a board size: \"))\n",
    "\n",
    "import numpy as np\n",
    "\n",
    "x = np.zeros((n,n))\n",
    "\n",
    "x[0,0] = int(1)\n",
    "\n",
    "for i in range(1,n):\n",
    "    x[i,0] = x[i-1,0]\n",
    "    for j in range(1,n):\n",
    "        x[i,j] = x[i-1,j-1] + x[i-1,j]\n",
    "\n",
    "# print(x) if needed to check \n",
    "\n",
    "# to print the array in a cleaner format:\n",
    "\n",
    "for row in x:\n",
    "    for item in row:\n",
    "        print(int(item), end=' ')\n",
    "    print('')"
   ]
  },
  {
   "cell_type": "code",
   "execution_count": 10,
   "metadata": {
    "collapsed": false
   },
   "outputs": [
    {
     "name": "stdout",
     "output_type": "stream",
     "text": [
      "Enter a board size: 5\n",
      "1 0 0 0 0\n",
      "1 1 0 0 0\n",
      "1 2 1 0 0\n",
      "1 3 3 1 0\n",
      "1 4 6 4 1\n"
     ]
    }
   ],
   "source": [
    "### Alice\n",
    "from math import factorial\n",
    "\n",
    "# Implement Here\n",
    "n = int(input(\"Enter a board size: \"))\n",
    "\n",
    "count_row = []\n",
    "for i in list(range(n)):\n",
    "    count_col = []\n",
    "    for j in list(range(n)):\n",
    "        if i < j :\n",
    "            count =0\n",
    "        elif i == j:\n",
    "            count = 1\n",
    "        elif j == 0:\n",
    "            count = 1\n",
    "        elif j < i:\n",
    "            count = int(factorial(i)/(factorial(i-j)*factorial(j)))\n",
    "        count_col.append(count)\n",
    "    count_row.append(count_col)\n",
    "\n",
    "count_row\n",
    "\n",
    "for i in range(n):\n",
    "    print (\" \".join([str(x) for x in count_row[i]]))"
   ]
  },
  {
   "cell_type": "code",
   "execution_count": 11,
   "metadata": {
    "collapsed": false
   },
   "outputs": [
    {
     "name": "stdout",
     "output_type": "stream",
     "text": [
      "Enter a board size: 5\n",
      "[1, 0, 0, 0, 0]\n",
      "[1, 1, 0, 0, 0]\n",
      "[1, 2, 1, 0, 0]\n",
      "[1, 3, 3, 1, 0]\n",
      "[1, 4, 6, 4, 1]\n"
     ]
    }
   ],
   "source": [
    "### Hu\n",
    "\n",
    "n = int(input(\"Enter a board size: \"))\n",
    "# initialize the matrix to store multiple rows\n",
    "board=[]\n",
    "# initialize the 1st row and print it\n",
    "last=[i-i for i in range(n)]\n",
    "last[0]=1\n",
    "board.append(last)\n",
    "print(last)\n",
    "for j in range(1,n):\n",
    "    current=[]\n",
    "    current.insert(0,1)\n",
    "    for i in range(1,n):\n",
    "        current.insert(i,last[i-1]+last[i])\n",
    "    board.insert(j,current)\n",
    "    print(current) # print this way instead of matrix to be more readable\n",
    "    last=current\n",
    "#print(board)"
   ]
  },
  {
   "cell_type": "markdown",
   "metadata": {},
   "source": [
    "## Part 2 - Algorithms\n",
    "\n",
    "### 4-2-1 Fixing the Bisection Search\n",
    "\n",
    "The bisection code below finds the square root of a number. Try inputting 16 into the code to confirm it works. Next, try inputting 0.25 into the bisection search algorithm below and confirm that it doesn't work. Then correct the algorithm so that it works for all positive numbers, including decimals such as 0.25."
   ]
  },
  {
   "cell_type": "code",
   "execution_count": 3,
   "metadata": {
    "collapsed": false
   },
   "outputs": [
    {
     "name": "stdout",
     "output_type": "stream",
     "text": [
      "enter a number:.25\n",
      "low = 0.0 high = 0.25\n",
      "low = 0.125 high = 0.25\n",
      "low = 0.1875 high = 0.25\n",
      "low = 0.21875 high = 0.25\n",
      "low = 0.234375 high = 0.25\n",
      "low = 0.2421875 high = 0.25\n",
      "low = 0.24609375 high = 0.25\n",
      "low = 0.248046875 high = 0.25\n",
      "low = 0.2490234375 high = 0.25\n",
      "low = 0.24951171875 high = 0.25\n",
      "low = 0.249755859375 high = 0.25\n",
      "low = 0.2498779296875 high = 0.25\n",
      "low = 0.24993896484375 high = 0.25\n",
      "low = 0.249969482421875 high = 0.25\n",
      "number of guesses = 14\n",
      "0.24999237060546875 is close to square root of 0.25\n"
     ]
    }
   ],
   "source": [
    "## Bisection Search to Find a Square Root\n",
    "\n",
    "x = float(input(\"enter a number:\"))\n",
    "epsilon = 0.00001\n",
    "num_guesses = 0\n",
    "low = 0.0\n",
    "high = x\n",
    "ans = (high + low)/2.0\n",
    "while high - low >= 2 * epsilon:\n",
    "    print(\"low =\",low,\"high =\", high)\n",
    "    num_guesses += 1\n",
    "    if ans ** 2 < x:\n",
    "        low = ans\n",
    "    else:\n",
    "        high = ans\n",
    "    ans = (high + low)/2.0\n",
    "print('number of guesses =', num_guesses)\n",
    "print(ans, 'is close to square root of', x)"
   ]
  },
  {
   "cell_type": "code",
   "execution_count": 12,
   "metadata": {
    "collapsed": false
   },
   "outputs": [
    {
     "name": "stdout",
     "output_type": "stream",
     "text": [
      "enter a number:.25\n",
      "low = 0.25 high = 1\n",
      "low = 0.25 high = 0.625\n",
      "low = 0.4375 high = 0.625\n",
      "low = 0.4375 high = 0.53125\n",
      "low = 0.484375 high = 0.53125\n",
      "low = 0.484375 high = 0.5078125\n",
      "low = 0.49609375 high = 0.5078125\n",
      "low = 0.49609375 high = 0.501953125\n",
      "low = 0.4990234375 high = 0.501953125\n",
      "low = 0.4990234375 high = 0.50048828125\n",
      "low = 0.499755859375 high = 0.50048828125\n",
      "low = 0.499755859375 high = 0.5001220703125\n",
      "low = 0.49993896484375 high = 0.5001220703125\n",
      "low = 0.49993896484375 high = 0.500030517578125\n",
      "low = 0.4999847412109375 high = 0.500030517578125\n",
      "low = 0.4999847412109375 high = 0.5000076293945312\n",
      "number of guesses = 16\n",
      "0.5000019073486328 is close to square root of 0.25\n"
     ]
    }
   ],
   "source": [
    "# Mike Amodeo\n",
    "## Bisection Search to Find a Square Root\n",
    "\n",
    "x = float(input(\"enter a number:\"))\n",
    "epsilon = 0.00001\n",
    "num_guesses = 0\n",
    "\n",
    "## Added if statement to reassign variables if x is less than 1\n",
    "if x >= 1:\n",
    "    low = 0.0\n",
    "    high = x\n",
    "else:\n",
    "    low = x\n",
    "    high = 1\n",
    "\n",
    "ans = (high + low)/2.0\n",
    "while high - low >= 2 * epsilon:\n",
    "    print(\"low =\",low,\"high =\", high)\n",
    "    num_guesses += 1\n",
    "    if ans ** 2 < x:\n",
    "        low = ans\n",
    "    else:\n",
    "        high = ans\n",
    "    ans = (high + low)/2.0\n",
    "        \n",
    "print('number of guesses =', num_guesses)\n",
    "print(ans, 'is close to square root of', x)"
   ]
  },
  {
   "cell_type": "code",
   "execution_count": 13,
   "metadata": {
    "collapsed": false
   },
   "outputs": [
    {
     "name": "stdout",
     "output_type": "stream",
     "text": [
      "enter a number:.25\n",
      "low = 0.0 high = 1.0\n",
      "low = 0.0 high = 0.5\n",
      "low = 0.25 high = 0.5\n",
      "low = 0.375 high = 0.5\n",
      "low = 0.4375 high = 0.5\n",
      "low = 0.46875 high = 0.5\n",
      "low = 0.484375 high = 0.5\n",
      "low = 0.4921875 high = 0.5\n",
      "low = 0.49609375 high = 0.5\n",
      "low = 0.498046875 high = 0.5\n",
      "low = 0.4990234375 high = 0.5\n",
      "low = 0.49951171875 high = 0.5\n",
      "low = 0.499755859375 high = 0.5\n",
      "low = 0.4998779296875 high = 0.5\n",
      "low = 0.49993896484375 high = 0.5\n",
      "low = 0.499969482421875 high = 0.5\n",
      "number of guesses = 16\n",
      "0.49999237060546875 is close to square root of 0.25\n"
     ]
    }
   ],
   "source": [
    "## Bisection Search to Find a Square Root\n",
    "## Gutiers\n",
    "\n",
    "x = float(input(\"enter a number:\"))\n",
    "epsilon = 0.00001\n",
    "num_guesses = 0\n",
    "low = 0.0\n",
    "\n",
    "high = max(1.0,x)\n",
    "# I think that this corrects the glitch. Square roots of a number between 0 and 1 are bigger than the number\n",
    "ans = (high + low)/2.0\n",
    "while high - low >= 2 * epsilon:\n",
    "    print(\"low =\",low,\"high =\", high)\n",
    "    num_guesses += 1\n",
    "    if ans ** 2 < x:\n",
    "        low = ans\n",
    "    else:\n",
    "        high = ans\n",
    "    ans = (high + low)/2.0\n",
    "print('number of guesses =', num_guesses)\n",
    "print(ans, 'is close to square root of', x)"
   ]
  },
  {
   "cell_type": "markdown",
   "metadata": {},
   "source": [
    "### 4-2-2 Bisection Search Runtime\n",
    "\n",
    "You run the bisection search algorithm to find the square root of x to a precision of epsilon.  Write down a formula for how many loop iterations it takes for the algorithm to complete.  Hint: first suppose that x has the special value $epsilon * 2^n$, where n is an integer."
   ]
  },
  {
   "cell_type": "markdown",
   "metadata": {},
   "source": [
    "#### Chris Llop Solution\n",
    "n = 1 search space is x<br>\n",
    "n = 2 search space is x/2<br>\n",
    "n = 3 search space is x/(2*2)<br>\n",
    "n = n search space is x/(2^(n-1))<br>\n",
    "\n",
    "The stopping condition is [(high - low) < (2 * epsilon)]\n",
    "\n",
    "Note that high-low is equal to the current search space.<br>\n",
    "So, the bisection search stops when the current [search space < (2 * epsilon)]<br>\n",
    "We know that on iteration n, the search space is x/(2^(n-1)).<br>\n",
    "Therefore, the algo stops when:<br>\n",
    "x/(2^(n-1)) < (2 * epsilon)<br>\n",
    "\n",
    "In this equation above, n is the number of iterations. We can thus solve for n.<br>\n",
    "x/(2^n) < epsilon<br>\n",
    "x < epsilon * (2^n)<br>\n",
    "x/epsilon < (2^n)<br>\n",
    "log2(x/epsilon) < n<br>\n",
    "\n",
    "What does this mean?  We see that the stopping point depends on both the magnitude of the original value, x, and the sensitivity of our epsilon stopping point.  However, as this x/epsilon term grows, the number of iterations only grows logarithmically. \n",
    "\n",
    "In computer science notation, we simplify and say that the algorithm's speed is \"log(n)\".\n"
   ]
  },
  {
   "cell_type": "markdown",
   "metadata": {},
   "source": [
    "\n"
   ]
  },
  {
   "cell_type": "markdown",
   "metadata": {},
   "source": [
    "### 4-2-3 Explaining the Bisection Search\n",
    "\n",
    "Please answer the following questions:\n",
    "\n",
    "In your own words, why does the bisection search algorthm for finding square roots work faster on large numbers than the brute force algorithm? Write your answer below."
   ]
  },
  {
   "cell_type": "markdown",
   "metadata": {},
   "source": [
    "**[Type your answer here]**"
   ]
  },
  {
   "cell_type": "markdown",
   "metadata": {},
   "source": [
    "In your own words, why does Newton's method for finding square roots outperform both the brute force and the bisection search algorithms? Write your answer below."
   ]
  },
  {
   "cell_type": "markdown",
   "metadata": {},
   "source": [
    "**[Type your answer here]**"
   ]
  },
  {
   "cell_type": "markdown",
   "metadata": {},
   "source": [
    "### 4-2-4 Following Pseudocode for an Algorithm\n",
    "\n",
    "Implement this digit-by-digit algorithm to find the square root of $x$ to a precision of epsilon.\n",
    "  1. Begin with a step of 1 and guess of zero.\n",
    "  2. Increase the guess by step repeatedly as long as doing so would not cause guess$^2$ to exceed $x$.\n",
    "  3. If the step is greater than epsilon, divide the step by 10 and go back to step 2.\n",
    "\n",
    "Notice that once a digit has been found, it is never changed again.  Try using your script to find the square root of 10 to 10 decimal places."
   ]
  },
  {
   "cell_type": "markdown",
   "metadata": {},
   "source": [
    "## Part 3 - Comprehensions\n",
    "### 4-3 Comprehensions\n",
    "\n",
    "**4-3-1:** Use a comprehension to make a list of the square numbers below 100 that give a remainder of 1 when divided by 3."
   ]
  },
  {
   "cell_type": "code",
   "execution_count": 14,
   "metadata": {
    "collapsed": false
   },
   "outputs": [
    {
     "name": "stdout",
     "output_type": "stream",
     "text": [
      "[1, 4, 16, 25, 49, 64]\n"
     ]
    }
   ],
   "source": [
    "print([x**2 for x in range(10) if x**2%3 == 1])"
   ]
  },
  {
   "cell_type": "markdown",
   "metadata": {},
   "source": [
    "**4-3-2:** A string is defined in the code snippet below. Split it into individual words and use a comprehension to make a list of the first letters of each word in the snippet."
   ]
  },
  {
   "cell_type": "code",
   "execution_count": 15,
   "metadata": {
    "collapsed": false
   },
   "outputs": [
    {
     "name": "stdout",
     "output_type": "stream",
     "text": [
      "['I', 'l', 'm', 'l', 'a', 'q', 'm', 'a', 'a', 't', 'N', 'e', 'm', 'n', 't', 'm', 'n', 't', 's', 'n', 'm', 't', 'a', 'a', 't', 'b', 'F', 't', 't', 's', 'o', 'l', 'I', 'f']\n"
     ]
    }
   ],
   "source": [
    "text = \"I live my life a quarter mile at a time. \\\n",
    "Nothing else matters: not the mortgage, not the store, \\\n",
    "not my team and all their bullshit. \\\n",
    "For those ten seconds or less, I’m free.\"\n",
    "# the slashes just mean that the string continues onto the next line\n",
    "# if you print the text, it will make no difference\n",
    "\n",
    "print([x[0] for x in text.split()])"
   ]
  },
  {
   "cell_type": "markdown",
   "metadata": {},
   "source": [
    "**4-3-3:** A Pythagorean triple is a set (x,y,z), with positive integers x≤y≤z such that x2+y2=z2. Use a comprehension to make a list of all Pythagorean triples with numbers below 25."
   ]
  },
  {
   "cell_type": "code",
   "execution_count": 16,
   "metadata": {
    "collapsed": false
   },
   "outputs": [
    {
     "data": {
      "text/plain": [
       "[(3, 4, 5), (5, 12, 13), (6, 8, 10), (8, 15, 17), (9, 12, 15), (12, 16, 20)]"
      ]
     },
     "execution_count": 16,
     "metadata": {},
     "output_type": "execute_result"
    }
   ],
   "source": [
    "[(x,y,z) for x in range(1,25) for y in range (1,25) for z in range (1,25) if x<=y<=z and z**2==x**2+y**2]"
   ]
  },
  {
   "cell_type": "markdown",
   "metadata": {},
   "source": [
    "**4-3-4:** Given a word, provided below, use a comprehension to make a list of all strings that can be formed by deleting exactly one character from the word."
   ]
  },
  {
   "cell_type": "code",
   "execution_count": 17,
   "metadata": {
    "collapsed": false
   },
   "outputs": [
    {
     "data": {
      "text/plain": [
       "['elcomed',\n",
       " 'Wlcomed',\n",
       " 'Wecomed',\n",
       " 'Welomed',\n",
       " 'Welcmed',\n",
       " 'Welcoed',\n",
       " 'Welcomd',\n",
       " 'Welcome']"
      ]
     },
     "execution_count": 17,
     "metadata": {},
     "output_type": "execute_result"
    }
   ],
   "source": [
    "word = \"Welcomed\"\n",
    "[word[:x] + word[x+1:] for x in range(len(word))]"
   ]
  },
  {
   "cell_type": "markdown",
   "metadata": {},
   "source": [
    "**4-3-5:** Given a word, provided below, use a comprehension to make a list of all strings that can be formed by replacing exactly one vowel in the word with a different vowel."
   ]
  },
  {
   "cell_type": "code",
   "execution_count": 18,
   "metadata": {
    "collapsed": false
   },
   "outputs": [
    {
     "data": {
      "text/plain": [
       "['Baoted',\n",
       " 'Beoted',\n",
       " 'Bioted',\n",
       " 'Buoted',\n",
       " 'Boated',\n",
       " 'Boeted',\n",
       " 'Boited',\n",
       " 'Bouted',\n",
       " 'Bootad',\n",
       " 'Bootid',\n",
       " 'Bootod',\n",
       " 'Bootud']"
      ]
     },
     "execution_count": 18,
     "metadata": {},
     "output_type": "execute_result"
    }
   ],
   "source": [
    "word = \"Booted\"\n",
    "[(word[:i] + y + word[i+1:]) for i in list(range(len(word))) for y in \"aeiou\" if word[i] in 'aeiou' and word[i] != y]"
   ]
  },
  {
   "cell_type": "markdown",
   "metadata": {},
   "source": [
    "# Please submit feedback for any and all homeworks!\n",
    "\n",
    "http://goo.gl/forms/74yCiQTf6k"
   ]
  },
  {
   "cell_type": "code",
   "execution_count": null,
   "metadata": {
    "collapsed": true
   },
   "outputs": [],
   "source": []
  }
 ],
 "metadata": {
  "kernelspec": {
   "display_name": "Python 2",
   "language": "python",
   "name": "python2"
  },
  "language_info": {
   "codemirror_mode": {
    "name": "ipython",
    "version": 2
   },
   "file_extension": ".py",
   "mimetype": "text/x-python",
   "name": "python",
   "nbconvert_exporter": "python",
   "pygments_lexer": "ipython2",
   "version": "2.7.12"
  }
 },
 "nbformat": 4,
 "nbformat_minor": 0
}
