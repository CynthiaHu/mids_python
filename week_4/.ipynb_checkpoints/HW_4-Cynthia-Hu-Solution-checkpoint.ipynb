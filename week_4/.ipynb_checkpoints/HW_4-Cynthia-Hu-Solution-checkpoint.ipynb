{
 "cells": [
  {
   "cell_type": "markdown",
   "metadata": {},
   "source": [
    "## Week 4 Assignment - W18 MIDS Python"
   ]
  },
  {
   "cell_type": "markdown",
   "metadata": {},
   "source": [
    "Write code in this Jupyter Notebook to solve each of the following problems. Each problem should have its solution in a separate cell. Please upload this Notebook with your solutions to your GitHub repository in your week_3 folder by the midnight before class."
   ]
  },
  {
   "cell_type": "markdown",
   "metadata": {},
   "source": [
    "## Part 1 - Loops\n",
    "### 4-1-1 For Loops\n",
    "\n",
    "Write a script that prompts the user for two words.  Print all the letters that are common to both words, in alphabetical order, using for loops in your solution.\n",
    "```\n",
    "Enter one word: Home\n",
    "Enter another word: meter\n",
    "Letters in common: em\n",
    "```"
   ]
  },
  {
   "cell_type": "code",
   "execution_count": 7,
   "metadata": {
    "collapsed": false
   },
   "outputs": [
    {
     "name": "stdout",
     "output_type": "stream",
     "text": [
      "Enter one word: Home\n",
      "Enter another word: meter\n",
      "Letters in common: em\n"
     ]
    }
   ],
   "source": [
    "First=input(\"Enter one word: \").lower()\n",
    "Second=input(\"Enter another word: \").lower()\n",
    "ans=[]\n",
    "for letter in First:\n",
    "    if letter in Second:\n",
    "        ans.append(letter)\n",
    "ans.sort()\n",
    "ans_str=''.join(ans)\n",
    "print(\"Letters in common: \",ans_str)"
   ]
  },
  {
   "cell_type": "markdown",
   "metadata": {},
   "source": [
    "### 4-1-2 A Game of Chess\n",
    "You place a pawn at the top left corner of an n-by-n chess board, labeled (0,0).  For each move, you have a choice: move the pawn down a single space, or move the pawn down one space and right one space.  That is, if the pawn is at position (i,j), you can move the pawn to (i+1,j) or (i+1, j+1).\n",
    "\n",
    "Ask the user for the size of a chessboard, n.  Find the number of different paths the pawn could take to reach each position on the chess board.  For example, there are two different paths the pawn can take to reach (2,1): \n",
    "\n",
    "* (0,0) -> (1,0) -> (2,1)\n",
    "* (0,0) -> (1,1) -> (2,1)\n",
    "\n",
    "print the board with the number of ways to reach each square labeled as shown below.\n",
    "\n",
    "Enter a size: 3\n",
    "```\n",
    "1 0 0\n",
    "1 1 0\n",
    "1 2 1\n",
    "```\n",
    "\n",
    "#### Please create pseudocode for this problem in a separate cell, then implement your solution\n",
    "\n",
    "Below is the code to take a convert that board size input."
   ]
  },
  {
   "cell_type": "code",
   "execution_count": null,
   "metadata": {
    "collapsed": true
   },
   "outputs": [],
   "source": [
    "# Pseudocode Here\n",
    "# ask the user to input the size of the board n\n",
    "# the first row\n",
    "    #only 1 way for the first position but always 0 to other positions\n",
    "# move to the second row\n",
    "    # 1 way for the first position (moved one space down from the first position of first row)\n",
    "    # 1 way for the second position (start-> down one and right one)\n",
    "    # 0 ways for position beyond the second\n",
    "# move to the ith row\n",
    "    # always 1 for the first position (start-> down one->down one...)\n",
    "    # for jth position, can be moved from (i-1,j-1) or (i-1,j), thus ways to (i-1,j-1)+ ways to (i-1,j)\n",
    "# loop through the column and then loop through the rows\n"
   ]
  },
  {
   "cell_type": "code",
   "execution_count": 19,
   "metadata": {
    "collapsed": false
   },
   "outputs": [
    {
     "name": "stdout",
     "output_type": "stream",
     "text": [
      "Enter a board size: 3\n",
      "[1, 0, 0]\n",
      "[1, 1, 0]\n",
      "[1, 2, 1]\n"
     ]
    }
   ],
   "source": [
    "n = int(input(\"Enter a board size: \"))\n",
    "# initialize the matrix to store multiple rows\n",
    "board=[]\n",
    "# initialize the 1st row and print it\n",
    "last=[i-i for i in range(n)]\n",
    "last[0]=1\n",
    "board.append(last)\n",
    "print(last)\n",
    "for j in range(1,n):\n",
    "    current=[]\n",
    "    current.insert(0,1)\n",
    "    for i in range(1,n):\n",
    "        current.insert(i,last[i-1]+last[i])\n",
    "    board.insert(j,current)\n",
    "    print(current) # print this way instead of matrix to be more readable\n",
    "    last=current\n",
    "#print(board)\n"
   ]
  },
  {
   "cell_type": "markdown",
   "metadata": {},
   "source": [
    "## Part 2 - Algorithms\n",
    "\n",
    "### 4-2-1 Fixing the Bisection Search\n",
    "\n",
    "The bisection code below finds the square root of a number. Try inputting 16 into the code to confirm it works. Next, try inputting 0.25 into the bisection search algorithm below and confirm that it doesn't work. Then correct the algorithm so that it works for all positive numbers, including decimals such as 0.25."
   ]
  },
  {
   "cell_type": "code",
   "execution_count": 18,
   "metadata": {
    "collapsed": false
   },
   "outputs": [
    {
     "name": "stdout",
     "output_type": "stream",
     "text": [
      "enter a number:1.25\n",
      "low = 0.0 high = 1.25\n",
      "low = 0.625 high = 1.25\n",
      "low = 0.9375 high = 1.25\n",
      "low = 1.09375 high = 1.25\n",
      "low = 1.09375 high = 1.171875\n",
      "low = 1.09375 high = 1.1328125\n",
      "low = 1.11328125 high = 1.1328125\n",
      "low = 1.11328125 high = 1.123046875\n",
      "low = 1.11328125 high = 1.1181640625\n",
      "low = 1.11572265625 high = 1.1181640625\n",
      "low = 1.116943359375 high = 1.1181640625\n",
      "low = 1.1175537109375 high = 1.1181640625\n",
      "low = 1.11785888671875 high = 1.1181640625\n",
      "low = 1.118011474609375 high = 1.1181640625\n",
      "low = 1.118011474609375 high = 1.1180877685546875\n",
      "low = 1.118011474609375 high = 1.1180496215820312\n",
      "number of guesses = 16\n",
      "1.1180400848388672 is close to square root of 1.25\n"
     ]
    }
   ],
   "source": [
    "## Bisection Search to Find a Square Root\n",
    "\n",
    "x = float(input(\"enter a number:\"))\n",
    "epsilon = 0.00001\n",
    "num_guesses = 0\n",
    "low = 0.0\n",
    "# if x is less than 1, then the square root would be greater than x itself; \n",
    "# thus, use 1 as the high value for this scenario\n",
    "high = max(1,x)\n",
    "ans = (high + low)/2.0\n",
    "while high - low >= 2 * epsilon:\n",
    "    print(\"low =\",low,\"high =\", high)\n",
    "    num_guesses += 1\n",
    "    if ans ** 2 < x:\n",
    "        low = ans\n",
    "    else:\n",
    "        high = ans\n",
    "    ans = (high + low)/2.0\n",
    "print('number of guesses =', num_guesses)\n",
    "print(ans, 'is close to square root of', x)"
   ]
  },
  {
   "cell_type": "markdown",
   "metadata": {},
   "source": [
    "### 4-2-2 Bisection Search Runtime\n",
    "\n",
    "You run the bisection search algorithm to find the square root of x to a precision of epsilon.  Write down a formula for how many loop iterations it takes for the algorithm to complete.  Hint: first suppose that x has the special value $epsilon * 2^n$, where n is an integer."
   ]
  },
  {
   "cell_type": "markdown",
   "metadata": {},
   "source": [
    "**[Type your answer here]**\n",
    "To simply the analysis, assuming that the answer is found after n loop iterations and its low end of the window is always 0, then the high end of the solution window would be x/2^(n-1). And the answer window satisfies that:\n",
    "high - low = x/2^(n-1)-0 <= 2 * epsilon. Below we are trying to find minimum integer n satisfying this formula.\n",
    "\n",
    "==> 2^(n-1) >= x/(2*epsilon)\n",
    "\n",
    "==> (n-1)log(2) >= log (x/(2*epsilon))\n",
    "\n",
    "==> n >= log(x/epsilon) / log(2)\n",
    "\n",
    "Below are the python codes to calculate desired n:\n",
    "\n",
    "import math\n",
    "\n",
    "x = 25\n",
    "\n",
    "epsilon = 0.00001\n",
    "\n",
    "n = round(math.log(x/epsilon)/math.log(2),0)\n",
    "\n",
    "print(\"it takes\",n,\"loop iterations for the bisection search algorithm to complete.\"\n"
   ]
  },
  {
   "cell_type": "markdown",
   "metadata": {},
   "source": [
    "### 4-2-3 Explaining the Bisection Search\n",
    "\n",
    "Please answer the following questions:\n",
    "\n",
    "In your own words, why does the bisection search algorthm for finding square roots work faster on large numbers than the brute force algorithm? Write your answer below."
   ]
  },
  {
   "cell_type": "markdown",
   "metadata": {},
   "source": [
    "**[Type your answer here]**\n",
    "Brute force need to search for all possible solutions in problem spaces with step=epsolon where epsolon is the required precision. Thus, the guesses converge to the answer slowly.\n",
    "The bisection search will remove half of the solutions in problem spaces during each loop, thus much fewer solutions to search and test. In other words, the step for bisection search is bigger for the same required precision."
   ]
  },
  {
   "cell_type": "markdown",
   "metadata": {},
   "source": [
    "In your own words, why does Newton's method for finding square roots outperform both the brute force and the bisection search algorithms? Write your answer below."
   ]
  },
  {
   "cell_type": "markdown",
   "metadata": {},
   "source": [
    "**[Type your answer here]**\n",
    "As explained above, the bisection search is faster than the brute force for the same precision.\n",
    "Newton's method is used to find the roots of a function which are intersections with x-axis. We use lines to approximate the function curve and can move our guesses faster to the answers. As we leverage the properties of the function (i.e. tangent of the guess on the curve) instead of just shrinking half of the solution space, we can converge faster to the answer even than the bisection method."
   ]
  },
  {
   "cell_type": "markdown",
   "metadata": {},
   "source": [
    "### 4-2-4 Following Pseudocode for an Algorithm\n",
    "\n",
    "Implement this digit-by-digit algorithm to find the square root of $x$ to a precision of epsilon.\n",
    "  1. Begin with a step of 1 and guess of zero.\n",
    "  2. Increase the guess by step repeatedly as long as doing so would not cause guess$^2$ to exceed $x$.\n",
    "  3. If the step is greater than epsilon, divide the step by 10 and go back to step 2.\n",
    "\n",
    "Notice that once a digit has been found, it is never changed again.  Try using your script to find the square root of 10 to 10 decimal places."
   ]
  },
  {
   "cell_type": "code",
   "execution_count": 2,
   "metadata": {
    "collapsed": false
   },
   "outputs": [
    {
     "name": "stdout",
     "output_type": "stream",
     "text": [
      "Enter a number: 10\n",
      "The square root of 10 is close to 3.1622800000\n"
     ]
    }
   ],
   "source": [
    "# i'm a little confused by the instructions above, especially the order\n",
    "x=float(input(\"Enter a number: \"))\n",
    "num_guesses=0\n",
    "step=1\n",
    "guess=0\n",
    "epsilon=0.00001 \n",
    "\n",
    "while guess**2 <= x:\n",
    "    if step > epsilon:\n",
    "        step /=10\n",
    "        \n",
    "    guess +=step\n",
    "    num_guesses +=1\n",
    "print(\"The square root of 10 is close to\",\"{:,.10f}\".format(guess))"
   ]
  },
  {
   "cell_type": "markdown",
   "metadata": {},
   "source": [
    "## Part 3 - Comprehensions\n",
    "### 4-3 Comprehensions\n",
    "\n",
    "**4-3-1:** Use a comprehension to make a list of the square numbers below 100 that give a remainder of 1 when divided by 3."
   ]
  },
  {
   "cell_type": "code",
   "execution_count": 25,
   "metadata": {
    "collapsed": false
   },
   "outputs": [
    {
     "data": {
      "text/plain": [
       "[1, 4, 16, 25, 49, 64]"
      ]
     },
     "execution_count": 25,
     "metadata": {},
     "output_type": "execute_result"
    }
   ],
   "source": [
    "[i**2 for i in range(10) if (i**2)%3==1] # below 100, not including 100"
   ]
  },
  {
   "cell_type": "markdown",
   "metadata": {},
   "source": [
    "**4-3-2:** A string is defined in the code snippet below. Split it into individual words and use a comprehension to make a list of the first letters of each word in the snippet."
   ]
  },
  {
   "cell_type": "code",
   "execution_count": 39,
   "metadata": {
    "collapsed": false
   },
   "outputs": [
    {
     "name": "stdout",
     "output_type": "stream",
     "text": [
      "I live my life a quarter mile at a time. Nothing else matters: not the mortgage, not the store, not my team and all their bullshit. For those ten seconds or less, I’m free.\n",
      "['I', 'l', 'm', 'l', 'a', 'q', 'm', 'a', 'a', 't', 'N', 'e', 'm', 'n', 't', 'm', 'n', 't', 's', 'n', 'm', 't', 'a', 'a', 't', 'b', 'F', 't', 't', 's', 'o', 'l', 'I', 'f']\n"
     ]
    }
   ],
   "source": [
    "text = \"I live my life a quarter mile at a time. \\\n",
    "Nothing else matters: not the mortgage, not the store, \\\n",
    "not my team and all their bullshit. \\\n",
    "For those ten seconds or less, I’m free.\"\n",
    "print(text)\n",
    "# the slashes just mean that the string continues onto the next line\n",
    "# if you print the text, it will make no difference\n",
    "text_list=text.split() #as punctuation mark doesn't impact the task here, no further processing to remove that.\n",
    "ans=[]\n",
    "for i in range(len(text_list)):\n",
    "    ans.append(text_list[i][0])\n",
    "print(ans) #assuming case conversion is not required here\n"
   ]
  },
  {
   "cell_type": "markdown",
   "metadata": {},
   "source": [
    "**4-3-3:** A Pythagorean triple is a set (x,y,z), with positive integers x≤y≤z such that x2+y2=z2. Use a comprehension to make a list of all Pythagorean triples with numbers below 25."
   ]
  },
  {
   "cell_type": "code",
   "execution_count": 5,
   "metadata": {
    "collapsed": false
   },
   "outputs": [
    {
     "data": {
      "text/plain": [
       "[(3, 4, 5), (5, 12, 13), (6, 8, 10), (8, 15, 17), (9, 12, 15), (12, 16, 20)]"
      ]
     },
     "execution_count": 5,
     "metadata": {},
     "output_type": "execute_result"
    }
   ],
   "source": [
    "[(x,y,z) for x in range(1,25) for y in range(1,25) for z in range(1,25) if x**2+y**2==z**2 and x<=y and y<=z]"
   ]
  },
  {
   "cell_type": "markdown",
   "metadata": {},
   "source": [
    "**4-3-4:** Given a word, provided below, use a comprehension to make a list of all strings that can be formed by deleting exactly one character from the word."
   ]
  },
  {
   "cell_type": "code",
   "execution_count": 22,
   "metadata": {
    "collapsed": false
   },
   "outputs": [
    {
     "data": {
      "text/plain": [
       "['elcomed',\n",
       " 'Wlcomed',\n",
       " 'Wecomed',\n",
       " 'Welomed',\n",
       " 'Welcmed',\n",
       " 'Welcoed',\n",
       " 'Welcomd',\n",
       " 'Welcome']"
      ]
     },
     "execution_count": 22,
     "metadata": {},
     "output_type": "execute_result"
    }
   ],
   "source": [
    "word = \"Welcomed\"\n",
    "# assuming that just delete one character but not change the order of remaining characters\n",
    "[word[0:n-1]+word[n:] for n in range(1,len(word)+1)]"
   ]
  },
  {
   "cell_type": "markdown",
   "metadata": {},
   "source": [
    "**4-3-5:** Given a word, provided below, use a comprehension to make a list of all strings that can be formed by replacing exactly one vowel in the word with a different vowel."
   ]
  },
  {
   "cell_type": "code",
   "execution_count": 39,
   "metadata": {
    "collapsed": false
   },
   "outputs": [
    {
     "data": {
      "text/plain": [
       "['Baoted',\n",
       " 'Beoted',\n",
       " 'Bioted',\n",
       " 'Buoted',\n",
       " 'Boated',\n",
       " 'Boeted',\n",
       " 'Boited',\n",
       " 'Bouted',\n",
       " 'Bootad',\n",
       " 'Bootid',\n",
       " 'Bootod',\n",
       " 'Bootud']"
      ]
     },
     "execution_count": 39,
     "metadata": {},
     "output_type": "execute_result"
    }
   ],
   "source": [
    "word = \"Booted\"\n",
    "[word[0:n-1]+vowel+word[n:] for n in range(1,len(word)) for vowel in 'aeiou' if word[n-1] in 'aeiou' and vowel!=word[n-1]]"
   ]
  },
  {
   "cell_type": "markdown",
   "metadata": {},
   "source": [
    "# Please submit feedback for any and all homeworks!\n",
    "\n",
    "http://goo.gl/forms/74yCiQTf6k"
   ]
  },
  {
   "cell_type": "code",
   "execution_count": null,
   "metadata": {
    "collapsed": true
   },
   "outputs": [],
   "source": []
  }
 ],
 "metadata": {
  "anaconda-cloud": {},
  "kernelspec": {
   "display_name": "Python [Root]",
   "language": "python",
   "name": "Python [Root]"
  },
  "language_info": {
   "codemirror_mode": {
    "name": "ipython",
    "version": 3
   },
   "file_extension": ".py",
   "mimetype": "text/x-python",
   "name": "python",
   "nbconvert_exporter": "python",
   "pygments_lexer": "ipython3",
   "version": "3.5.2"
  }
 },
 "nbformat": 4,
 "nbformat_minor": 0
}
