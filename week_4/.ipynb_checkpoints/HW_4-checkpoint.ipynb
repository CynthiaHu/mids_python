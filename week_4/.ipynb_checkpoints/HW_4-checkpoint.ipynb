{
 "cells": [
  {
   "cell_type": "markdown",
   "metadata": {},
   "source": [
    "## Week 4 Assignment - W18 MIDS Python"
   ]
  },
  {
   "cell_type": "markdown",
   "metadata": {},
   "source": [
    "Write code in this Jupyter Notebook to solve each of the following problems. Each problem should have its solution in a separate cell. Please upload this Notebook with your solutions to your GitHub repository in your week_3 folder by the midnight before class."
   ]
  },
  {
   "cell_type": "markdown",
   "metadata": {},
   "source": [
    "## Part 1 - Loops\n",
    "### 4-1-1 For Loops\n",
    "\n",
    "Write a script that prompts the user for two words.  Print all the letters that are common to both words, in alphabetical order, using for loops in your solution.\n",
    "```\n",
    "Enter one word: Home\n",
    "Enter another word: meter\n",
    "Letters in common: em\n",
    "```"
   ]
  },
  {
   "cell_type": "code",
   "execution_count": null,
   "metadata": {
    "collapsed": true
   },
   "outputs": [],
   "source": []
  },
  {
   "cell_type": "markdown",
   "metadata": {},
   "source": [
    "### 4-1-2 A Game of Chess\n",
    "You place a pawn at the top left corner of an n-by-n chess board, labeled (0,0).  For each move, you have a choice: move the pawn down a single space, or move the pawn down one space and right one space.  That is, if the pawn is at position (i,j), you can move the pawn to (i+1,j) or (i+1, j+1).\n",
    "\n",
    "Ask the user for the size of a chessboard, n.  Find the number of different paths the pawn could take to reach each position on the chess board.  For example, there are two different paths the pawn can take to reach (2,1): \n",
    "\n",
    "* (0,0) -> (1,0) -> (2,1)\n",
    "* (0,0) -> (1,1) -> (2,1)\n",
    "\n",
    "print the board with the number of ways to reach each square labeled as shown below.\n",
    "\n",
    "Enter a size: 3\n",
    "```\n",
    "1 0 0\n",
    "1 1 0\n",
    "1 2 1\n",
    "```\n",
    "\n",
    "#### Please create pseudocode for this problem in a separate cell, then implement your solution\n",
    "\n",
    "Below is the code to take a convert that board size input."
   ]
  },
  {
   "cell_type": "code",
   "execution_count": null,
   "metadata": {
    "collapsed": true
   },
   "outputs": [],
   "source": [
    "# Pseudocode Here"
   ]
  },
  {
   "cell_type": "code",
   "execution_count": null,
   "metadata": {
    "collapsed": false
   },
   "outputs": [],
   "source": [
    "# Implement Here\n",
    "n = int(input(\"Enter a board size: \"))"
   ]
  },
  {
   "cell_type": "markdown",
   "metadata": {},
   "source": [
    "## Part 2 - Algorithms\n",
    "\n",
    "### 4-2-1 Fixing the Bisection Search\n",
    "\n",
    "The bisection code below finds the square root of a number. Try inputting 16 into the code to confirm it works. Next, try inputting 0.25 into the bisection search algorithm below and confirm that it doesn't work. Then correct the algorithm so that it works for all positive numbers, including decimals such as 0.25."
   ]
  },
  {
   "cell_type": "code",
   "execution_count": 3,
   "metadata": {
    "collapsed": false
   },
   "outputs": [
    {
     "name": "stdout",
     "output_type": "stream",
     "text": [
      "enter a number:.25\n",
      "low = 0.0 high = 0.25\n",
      "low = 0.125 high = 0.25\n",
      "low = 0.1875 high = 0.25\n",
      "low = 0.21875 high = 0.25\n",
      "low = 0.234375 high = 0.25\n",
      "low = 0.2421875 high = 0.25\n",
      "low = 0.24609375 high = 0.25\n",
      "low = 0.248046875 high = 0.25\n",
      "low = 0.2490234375 high = 0.25\n",
      "low = 0.24951171875 high = 0.25\n",
      "low = 0.249755859375 high = 0.25\n",
      "low = 0.2498779296875 high = 0.25\n",
      "low = 0.24993896484375 high = 0.25\n",
      "low = 0.249969482421875 high = 0.25\n",
      "number of guesses = 14\n",
      "0.24999237060546875 is close to square root of 0.25\n"
     ]
    }
   ],
   "source": [
    "## Bisection Search to Find a Square Root\n",
    "\n",
    "x = float(input(\"enter a number:\"))\n",
    "epsilon = 0.00001\n",
    "num_guesses = 0\n",
    "low = 0.0\n",
    "high = x\n",
    "ans = (high + low)/2.0\n",
    "while high - low >= 2 * epsilon:\n",
    "    print(\"low =\",low,\"high =\", high)\n",
    "    num_guesses += 1\n",
    "    if ans ** 2 < x:\n",
    "        low = ans\n",
    "    else:\n",
    "        high = ans\n",
    "    ans = (high + low)/2.0\n",
    "print('number of guesses =', num_guesses)\n",
    "print(ans, 'is close to square root of', x)"
   ]
  },
  {
   "cell_type": "markdown",
   "metadata": {},
   "source": [
    "### 4-2-2 Bisection Search Runtime\n",
    "\n",
    "You run the bisection search algorithm to find the square root of x to a precision of epsilon.  Write down a formula for how many loop iterations it takes for the algorithm to complete.  Hint: first suppose that x has the special value $epsilon * 2^n$, where n is an integer."
   ]
  },
  {
   "cell_type": "markdown",
   "metadata": {},
   "source": [
    "**[Type your answer here]**"
   ]
  },
  {
   "cell_type": "markdown",
   "metadata": {},
   "source": [
    "### 4-2-3 Explaining the Bisection Search\n",
    "\n",
    "Please answer the following questions:\n",
    "\n",
    "In your own words, why does the bisection search algorthm for finding square roots work faster on large numbers than the brute force algorithm? Write your answer below."
   ]
  },
  {
   "cell_type": "markdown",
   "metadata": {},
   "source": [
    "**[Type your answer here]**"
   ]
  },
  {
   "cell_type": "markdown",
   "metadata": {},
   "source": [
    "In your own words, why does Newton's method for finding square roots outperform both the brute force and the bisection search algorithms? Write your answer below."
   ]
  },
  {
   "cell_type": "markdown",
   "metadata": {},
   "source": [
    "**[Type your answer here]**"
   ]
  },
  {
   "cell_type": "markdown",
   "metadata": {},
   "source": [
    "### 4-2-4 Following Pseudocode for an Algorithm\n",
    "\n",
    "Implement this digit-by-digit algorithm to find the square root of $x$ to a precision of epsilon.\n",
    "  1. Begin with a step of 1 and guess of zero.\n",
    "  2. Increase the guess by step repeatedly as long as doing so would not cause guess$^2$ to exceed $x$.\n",
    "  3. If the step is greater than epsilon, divide the step by 10 and go back to step 2.\n",
    "\n",
    "Notice that once a digit has been found, it is never changed again.  Try using your script to find the square root of 10 to 10 decimal places."
   ]
  },
  {
   "cell_type": "markdown",
   "metadata": {},
   "source": [
    "## Part 3 - Comprehensions\n",
    "### 4-3 Comprehensions\n",
    "\n",
    "**4-3-1:** Use a comprehension to make a list of the square numbers below 100 that give a remainder of 1 when divided by 3."
   ]
  },
  {
   "cell_type": "code",
   "execution_count": null,
   "metadata": {
    "collapsed": true
   },
   "outputs": [],
   "source": []
  },
  {
   "cell_type": "markdown",
   "metadata": {},
   "source": [
    "**4-3-2:** A string is defined in the code snippet below. Split it into individual words and use a comprehension to make a list of the first letters of each word in the snippet."
   ]
  },
  {
   "cell_type": "code",
   "execution_count": null,
   "metadata": {
    "collapsed": true
   },
   "outputs": [],
   "source": [
    "text = \"I live my life a quarter mile at a time. \\\n",
    "Nothing else matters: not the mortgage, not the store, \\\n",
    "not my team and all their bullshit. \\\n",
    "For those ten seconds or less, I’m free.\"\n",
    "# the slashes just mean that the string continues onto the next line\n",
    "# if you print the text, it will make no difference"
   ]
  },
  {
   "cell_type": "markdown",
   "metadata": {},
   "source": [
    "**4-3-3:** A Pythagorean triple is a set (x,y,z), with positive integers x≤y≤z such that x2+y2=z2. Use a comprehension to make a list of all Pythagorean triples with numbers below 25."
   ]
  },
  {
   "cell_type": "code",
   "execution_count": null,
   "metadata": {
    "collapsed": true
   },
   "outputs": [],
   "source": []
  },
  {
   "cell_type": "markdown",
   "metadata": {},
   "source": [
    "**4-3-4:** Given a word, provided below, use a comprehension to make a list of all strings that can be formed by deleting exactly one character from the word."
   ]
  },
  {
   "cell_type": "code",
   "execution_count": null,
   "metadata": {
    "collapsed": true
   },
   "outputs": [],
   "source": [
    "word = \"Welcomed\"`"
   ]
  },
  {
   "cell_type": "markdown",
   "metadata": {},
   "source": [
    "**4-3-5:** Given a word, provided below, use a comprehension to make a list of all strings that can be formed by replacing exactly one vowel in the word with a different vowel."
   ]
  },
  {
   "cell_type": "code",
   "execution_count": null,
   "metadata": {
    "collapsed": true
   },
   "outputs": [],
   "source": [
    "word = \"Booted\"`"
   ]
  },
  {
   "cell_type": "markdown",
   "metadata": {},
   "source": [
    "# Please submit feedback for any and all homeworks!\n",
    "\n",
    "http://goo.gl/forms/74yCiQTf6k"
   ]
  },
  {
   "cell_type": "code",
   "execution_count": null,
   "metadata": {
    "collapsed": true
   },
   "outputs": [],
   "source": []
  }
 ],
 "metadata": {
  "kernelspec": {
   "display_name": "Python 3",
   "language": "python",
   "name": "python3"
  },
  "language_info": {
   "codemirror_mode": {
    "name": "ipython",
    "version": 3
   },
   "file_extension": ".py",
   "mimetype": "text/x-python",
   "name": "python",
   "nbconvert_exporter": "python",
   "pygments_lexer": "ipython3",
   "version": "3.5.2"
  }
 },
 "nbformat": 4,
 "nbformat_minor": 0
}
