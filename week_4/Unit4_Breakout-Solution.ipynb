{
 "cells": [
  {
   "cell_type": "markdown",
   "metadata": {},
   "source": [
    "0. Load in the data that is available in this repository! Here's how to get started with loading in the data.\n",
    "\n",
    "```python\n",
    "import json\n",
    "\n",
    "with open(\"data.json\") as f:\n",
    "     temp = json.load(f)\n",
    "     data = temp['data']\n",
    "     cols = temp['cols']\n",
    "```\n",
    "\n",
    "1. Write a comprehension that will extract out all the names and removes duplicates in doing so. The resulting data structure may be a list or a set.\n",
    "2. Count the number of people in each state. There are several ways of doing this so I won't give any tips!\n",
    "3. Write a comprehension that will end up with a key of name and value of phone number. The result should be a dictionary.\n",
    "4. Write a comprehension to find which letters of the alphabet (if any) are not used as the first letter in their names. Don't just list which ones we have, but which ones we are missing.\n",
    "\n",
    "Hint for this last one use:\n",
    "```python\n",
    "import string\n",
    "string.ascii_lowercase\n",
    "```\n"
   ]
  },
  {
   "cell_type": "code",
   "execution_count": 1,
   "metadata": {
    "collapsed": true
   },
   "outputs": [],
   "source": [
    "import json\n",
    "\n",
    "with open(\"data.json\") as f:\n",
    "     temp = json.load(f)\n",
    "     data = temp['data']\n",
    "     cols = temp['cols']"
   ]
  },
  {
   "cell_type": "markdown",
   "metadata": {},
   "source": [
    "### 1. Write a comprehension that will extract out all the names and removes duplicates in doing so. The resulting data structure may be a list or a set.\n"
   ]
  },
  {
   "cell_type": "code",
   "execution_count": 4,
   "metadata": {
    "collapsed": false
   },
   "outputs": [
    {
     "data": {
      "text/plain": [
       "100"
      ]
     },
     "execution_count": 4,
     "metadata": {},
     "output_type": "execute_result"
    }
   ],
   "source": [
    "len(data)"
   ]
  },
  {
   "cell_type": "code",
   "execution_count": 5,
   "metadata": {
    "collapsed": false
   },
   "outputs": [
    {
     "data": {
      "text/plain": [
       "[['Reed',\n",
       "  '1-186-988-9663',\n",
       "  'P.O. Box 371, 4863 Sed, St.',\n",
       "  'Iowa City',\n",
       "  'Iowa',\n",
       "  '18517'],\n",
       " ['Clark',\n",
       "  '757-2680',\n",
       "  'P.O. Box 220, 8838 Ligula Street',\n",
       "  'Jacksonville',\n",
       "  'FL',\n",
       "  '43572'],\n",
       " ['Demetrius',\n",
       "  '1-707-814-6484',\n",
       "  '282-6791 Lorem Rd.',\n",
       "  'Reading',\n",
       "  'PA',\n",
       "  '80187']]"
      ]
     },
     "execution_count": 5,
     "metadata": {},
     "output_type": "execute_result"
    }
   ],
   "source": [
    "data[:3]"
   ]
  },
  {
   "cell_type": "code",
   "execution_count": 14,
   "metadata": {
    "collapsed": false
   },
   "outputs": [
    {
     "name": "stdout",
     "output_type": "stream",
     "text": [
      "100 names\n",
      "88 unique names: \n",
      "['Hu', 'Reese', 'Kenyon', 'Jamal', 'Avram', 'Ulysses', 'Marshall', 'Neil', 'Devin', 'Cyrus', 'Beck', 'Dillon', 'Brian', 'Yoshio', 'Demetrius', 'Noah', 'James', 'Vance', 'Alec', 'Lucas', 'Steven', 'Bert', 'Giacomo', 'Xanthus', 'Ian', 'Harlan', 'Phillip', 'Benjamin', 'Joel', 'Kennedy', 'George', 'David', 'Ivor', 'Clayton', 'Tobias', 'Brady', 'Drake', 'Keith', 'Austin', 'Brody', 'Sean', 'Galvin', 'Logan', 'Alexander', 'Davis', 'Dalton', 'Macaulay', 'Lane', 'Yasir', 'Quentin', 'Hammett', 'Dylan', 'Norman', 'Aidan', 'Amery', 'Arsenio', 'Emery', 'Nolan', 'Lionel', 'Warren', 'Driscoll', 'Christian', 'Kaseem', 'Burton', 'Lester', 'Vladimir', 'Marsden', 'Armando', 'Roth', 'Jarrod', 'Carter', 'Jerry', 'Ali', 'Clark', 'Philip', 'Thomas', 'Joseph', 'Joshua', 'Drew', 'Dean', 'Reed', 'Hoyt', 'Ferdinand', 'Ralph', 'Thor', 'Connor', 'Talon', 'Derek']\n"
     ]
    }
   ],
   "source": [
    "# Get the name out using a comprehension\n",
    "names = [item[0] for item in data]\n",
    "# Converting to a set takes the unique ones\n",
    "unique_names = list(set(names))\n",
    "print(len(names),\"names\")\n",
    "print(len(unique_names),\"unique names: \")\n",
    "print(unique_names)"
   ]
  },
  {
   "cell_type": "code",
   "execution_count": 21,
   "metadata": {
    "collapsed": false
   },
   "outputs": [
    {
     "name": "stdout",
     "output_type": "stream",
     "text": [
      "['Hu', 'Reese', 'Kenyon', 'Jamal', 'Avram', 'Ulysses', 'Marshall', 'Neil', 'Devin', 'Cyrus', 'Beck', 'Dillon', 'Brian', 'Yoshio', 'Demetrius', 'Noah', 'James', 'Vance', 'Alec', 'Lucas', 'Steven', 'Bert', 'Giacomo', 'Xanthus', 'Ian', 'Harlan', 'Phillip', 'Benjamin', 'Joel', 'Kennedy', 'George', 'David', 'Ivor', 'Clayton', 'Tobias', 'Brady', 'Drake', 'Keith', 'Austin', 'Brody', 'Sean', 'Galvin', 'Logan', 'Alexander', 'Davis', 'Dalton', 'Macaulay', 'Lane', 'Yasir', 'Quentin', 'Hammett', 'Dylan', 'Norman', 'Aidan', 'Amery', 'Arsenio', 'Emery', 'Nolan', 'Lionel', 'Warren', 'Driscoll', 'Christian', 'Kaseem', 'Burton', 'Lester', 'Vladimir', 'Marsden', 'Armando', 'Roth', 'Jarrod', 'Carter', 'Jerry', 'Ali', 'Clark', 'Philip', 'Thomas', 'Joseph', 'Joshua', 'Drew', 'Dean', 'Reed', 'Hoyt', 'Ferdinand', 'Ralph', 'Thor', 'Connor', 'Talon', 'Derek']\n"
     ]
    }
   ],
   "source": [
    "# We could also directly do set comprehension!\n",
    "unique_names = list({item[0] for item in data})\n",
    "print(unique_names)"
   ]
  },
  {
   "cell_type": "markdown",
   "metadata": {},
   "source": [
    "### 2. Count the number of people in each state. There are several ways of doing this so I won't give any tips!\n"
   ]
  },
  {
   "cell_type": "code",
   "execution_count": 37,
   "metadata": {
    "collapsed": false
   },
   "outputs": [],
   "source": [
    "state_dict = dict()\n",
    "for item in data:\n",
    "    state_dict[item[4]] = state_dict.get(item[4], 0) +1"
   ]
  },
  {
   "cell_type": "code",
   "execution_count": 38,
   "metadata": {
    "collapsed": false
   },
   "outputs": [
    {
     "name": "stdout",
     "output_type": "stream",
     "text": [
      "{'Colorado': 1, 'Montana': 2, 'VA': 2, 'MI': 2, 'HI': 1, 'FL': 3, 'Nevada': 1, 'MT': 1, 'Arkansas': 1, 'Oklahoma': 1, 'IA': 1, 'GA': 1, 'Ohio': 3, 'Wisconsin': 1, 'AR': 2, 'KS': 3, 'Oregon': 1, 'Minnesota': 4, 'VT': 1, 'Alaska': 2, 'Maine': 1, 'ID': 1, 'Michigan': 2, 'Kansas': 2, 'CO': 2, 'WY': 1, 'Louisiana': 1, 'Wyoming': 1, 'Texas': 2, 'Kentucky': 1, 'Georgia': 2, 'MO': 1, 'LA': 2, 'Washington': 1, 'NE': 1, 'Pennsylvania': 2, 'Utah': 2, 'IL': 6, 'California': 1, 'Maryland': 1, 'Nebraska': 2, 'MA': 3, 'PA': 1, 'Iowa': 2, 'UT': 1, 'Mississippi': 1, 'Massachusetts': 2, 'AK': 1, 'Hawaii': 3, 'Vermont': 1, 'CT': 1, 'AZ': 1, 'OR': 2, 'MS': 2, 'WA': 2, 'ME': 2, 'MN': 1, 'Illinois': 1, 'TN': 1, 'TX': 3}\n"
     ]
    }
   ],
   "source": [
    "print(state_dict)"
   ]
  },
  {
   "cell_type": "markdown",
   "metadata": {},
   "source": [
    "### 3. Write a comprehension that will end up with a key of name and value of phone number. The result should be a dictionary."
   ]
  },
  {
   "cell_type": "code",
   "execution_count": 44,
   "metadata": {
    "collapsed": false
   },
   "outputs": [
    {
     "name": "stdout",
     "output_type": "stream",
     "text": [
      "1-984-711-9462\n",
      "123-7017\n"
     ]
    }
   ],
   "source": [
    "# We can create a dictionary comprehension\n",
    "phone_book = {item[0]:item[1] for item in data}\n",
    "print(phone_book['Aidan'])\n",
    "print(phone_book['Ivor'])"
   ]
  },
  {
   "cell_type": "markdown",
   "metadata": {},
   "source": [
    "### 4. Write a comprehension to find which letters of the alphabet (if any) are not used as the first letter in their names. Don't just list which ones we have, but which ones we are missing.\n"
   ]
  },
  {
   "cell_type": "code",
   "execution_count": 69,
   "metadata": {
    "collapsed": false
   },
   "outputs": [
    {
     "name": "stdout",
     "output_type": "stream",
     "text": [
      "abcdefghijklmnopqrstuvwxyz\n"
     ]
    }
   ],
   "source": [
    "# Let's first create a quick list of all characters\n",
    "import string\n",
    "all_chars = string.ascii_lowercase\n",
    "\n",
    "print(all_chars)"
   ]
  },
  {
   "cell_type": "code",
   "execution_count": 59,
   "metadata": {
    "collapsed": false
   },
   "outputs": [],
   "source": [
    "letters_to_remove = \"\".join(set([item[0][0].lower() for item in data]))"
   ]
  },
  {
   "cell_type": "code",
   "execution_count": 60,
   "metadata": {
    "collapsed": false,
    "scrolled": true
   },
   "outputs": [
    {
     "data": {
      "text/plain": [
       "'ytcinhxkasldvgmfpbejuqrw'"
      ]
     },
     "execution_count": 60,
     "metadata": {},
     "output_type": "execute_result"
    }
   ],
   "source": [
    "letters_to_remove"
   ]
  },
  {
   "cell_type": "code",
   "execution_count": 72,
   "metadata": {
    "collapsed": false
   },
   "outputs": [],
   "source": [
    "for letter in letters_to_remove:\n",
    "    all_chars = all_chars.replace(letter,'')"
   ]
  },
  {
   "cell_type": "code",
   "execution_count": 74,
   "metadata": {
    "collapsed": false
   },
   "outputs": [
    {
     "name": "stdout",
     "output_type": "stream",
     "text": [
      "The following letters are not the first letter in a name:  oz\n"
     ]
    }
   ],
   "source": [
    "print(\"The following letters are not the first letter in a name: \", all_chars)"
   ]
  },
  {
   "cell_type": "code",
   "execution_count": 75,
   "metadata": {
    "collapsed": true
   },
   "outputs": [],
   "source": [
    "#### Alternative Approach\n",
    "all_chars = {letter for letter in string.ascii_lowercase}\n",
    "letters_to_remove = set([item[0][0].lower() for item in data])"
   ]
  },
  {
   "cell_type": "code",
   "execution_count": 81,
   "metadata": {
    "collapsed": false
   },
   "outputs": [
    {
     "name": "stdout",
     "output_type": "stream",
     "text": [
      "{'y', 't', 'c', 'i', 'n', 'h', 'x', 'k', 'a', 's', 'l', 'd', 'v', 'g', 'm', 'f', 'p', 'z', 'b', 'j', 'e', 'u', 'q', 'o', 'r', 'w'}\n",
      "{'y', 't', 'c', 'i', 'n', 'h', 'x', 'k', 'a', 's', 'l', 'd', 'v', 'g', 'm', 'f', 'p', 'b', 'e', 'j', 'u', 'q', 'r', 'w'}\n",
      "{'z', 'o'}\n",
      "\n",
      "The following letters are nto the first letter in a name:  zo\n"
     ]
    }
   ],
   "source": [
    "print(all_chars)\n",
    "print(letters_to_remove)\n",
    "print(all_chars - letters_to_remove)\n",
    "print()\n",
    "print(\"The following letters are nto the first letter in a name: \", \"\".join(all_chars - letters_to_remove))"
   ]
  },
  {
   "cell_type": "code",
   "execution_count": null,
   "metadata": {
    "collapsed": true
   },
   "outputs": [],
   "source": []
  }
 ],
 "metadata": {
  "kernelspec": {
   "display_name": "Python 2",
   "language": "python",
   "name": "python2"
  },
  "language_info": {
   "codemirror_mode": {
    "name": "ipython",
    "version": 2
   },
   "file_extension": ".py",
   "mimetype": "text/x-python",
   "name": "python",
   "nbconvert_exporter": "python",
   "pygments_lexer": "ipython2",
   "version": "2.7.12"
  }
 },
 "nbformat": 4,
 "nbformat_minor": 0
}
