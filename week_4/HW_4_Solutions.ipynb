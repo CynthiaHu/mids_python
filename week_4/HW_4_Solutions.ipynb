{
 "cells": [
  {
   "cell_type": "markdown",
   "metadata": {},
   "source": [
    "## Week 4 Assignment - W18 MIDS Python"
   ]
  },
  {
   "cell_type": "markdown",
   "metadata": {},
   "source": [
    "Write code in this Jupyter Notebook to solve each of the following problems. Each problem should have its solution in a separate cell. Please upload this Notebook with your solutions to your GitHub repository in your week_3 folder by the midnight before class."
   ]
  },
  {
   "cell_type": "markdown",
   "metadata": {},
   "source": [
    "## Part 1 - Loops\n",
    "### 4-1-1 For Loops\n",
    "\n",
    "Write a script that prompts the user for two words.  Print all the letters that are common to both words, in alphabetical order, using for loops in your solution.\n",
    "```\n",
    "Enter one word: Home\n",
    "Enter another word: meter\n",
    "Letters in common: em\n",
    "```"
   ]
  },
  {
   "cell_type": "code",
   "execution_count": 31,
   "metadata": {
    "collapsed": false
   },
   "outputs": [
    {
     "name": "stdout",
     "output_type": "stream",
     "text": [
      "enter word 1: home sweet home\n",
      "enter word 2: meter long meter\n",
      " emot"
     ]
    }
   ],
   "source": [
    "word1=input('enter word 1: ')\n",
    "word2=input('enter word 2: ')\n",
    "\n",
    "# split the items into lists of unique characters on alphabetical order\n",
    "# note the use of set to get uniques and sorted (not sort)\n",
    "alphaLs1=sorted(list(set(word1)))\n",
    "alphaLs2=sorted(list(set(word2)))\n",
    "\n",
    "for letter in alphaLs1:\n",
    "    if letter in alphaLs2: \n",
    "        print (letter, end=\"\")\n",
    "\n"
   ]
  },
  {
   "cell_type": "markdown",
   "metadata": {},
   "source": [
    "### 4-1-2 A Game of Chess\n",
    "You place a pawn at the top left corner of an n-by-n chess board, labeled (0,0).  For each move, you have a choice: move the pawn down a single space, or move the pawn down one space and right one space.  That is, if the pawn is at position (i,j), you can move the pawn to (i+1,j) or (i+1, j+1).\n",
    "\n",
    "Ask the user for the size of a chessboard, n.  Find the number of different paths the pawn could take to reach each position on the chess board.  For example, there are two different paths the pawn can take to reach (2,1): \n",
    "\n",
    "* (0,0) -> (1,0) -> (2,1)\n",
    "* (0,0) -> (1,1) -> (2,1)\n",
    "\n",
    "print the board with the number of ways to reach each square labeled as shown below.\n",
    "\n",
    "Enter a size: 3\n",
    "```\n",
    "1 0 0\n",
    "1 1 0\n",
    "1 2 1\n",
    "```\n",
    "\n",
    "#### Please create pseudocode for this problem in a separate cell, then implement your solution\n",
    "\n",
    "Below is the code to take a convert that board size input."
   ]
  },
  {
   "cell_type": "code",
   "execution_count": null,
   "metadata": {
    "collapsed": true
   },
   "outputs": [],
   "source": [
    "# Pseudocode Here\n",
    "\n",
    "#for a board that is i x j where i = j\n",
    "    # initialize a square array i x j with zeros    \n",
    "\n",
    "# place pawn at top right i=0, j=0 , such that array[0,0]=1\n",
    "\n",
    "# for each row 1 to j-1 (we leave out the last row because there is no where to go) \n",
    "# cycle through the colums\n",
    "    # take the value in the current row, col \n",
    "        # add it to the value in the next row same col (you can go one down (i+1))\n",
    "        # add it to the value in the next row next col (you can go one down and one over (i+1,j+1)\n"
   ]
  },
  {
   "cell_type": "code",
   "execution_count": 41,
   "metadata": {
    "collapsed": false
   },
   "outputs": [
    {
     "name": "stdout",
     "output_type": "stream",
     "text": [
      "Enter size of one square edge: 6\n"
     ]
    },
    {
     "data": {
      "text/plain": [
       "array([[  1.,   0.,   0.,   0.,   0.,   0.],\n",
       "       [  1.,   1.,   0.,   0.,   0.,   0.],\n",
       "       [  1.,   2.,   1.,   0.,   0.,   0.],\n",
       "       [  1.,   3.,   3.,   1.,   0.,   0.],\n",
       "       [  1.,   4.,   6.,   4.,   1.,   0.],\n",
       "       [  1.,   5.,  10.,  10.,   5.,   1.]])"
      ]
     },
     "execution_count": 41,
     "metadata": {},
     "output_type": "execute_result"
    }
   ],
   "source": [
    "import numpy as np\n",
    "n = int(input(\"Enter size of one square edge: \"))\n",
    "arr=np.zeros((n,n))\n",
    "arr[0,0]=1  # intitalize the starting position\n",
    "arr\n",
    "# start with row 2 and add one to any value that you can move to\n",
    "\n",
    "#range(1, )\n",
    "for row in range(0,n-1): # cycle down the rows \n",
    "    # cycle across columns filling in possible next moves\n",
    "    # note the last col will be special \n",
    "    # but with a square we don't get to the last col\n",
    "    for col in range(0,n-1): # for each cell in column 1 \n",
    "        arr[row+1,col] =arr[row,col]+arr[row+1,col]  # one move down\n",
    "        arr[row+1,col+1]=arr[row,col]+ arr[row+1,col+1] # one move down and one over\n",
    "arr"
   ]
  },
  {
   "cell_type": "markdown",
   "metadata": {},
   "source": [
    "## Part 2 - Algorithms\n",
    "\n",
    "### 4-2-1 Fixing the Bisection Search\n",
    "\n",
    "The bisection code below finds the square root of a number. Try inputting 16 into the code to confirm it works. Next, try inputting 0.25 into the bisection search algorithm below and confirm that it doesn't work. Then correct the algorithm so that it works for all positive numbers, including decimals such as 0.25."
   ]
  },
  {
   "cell_type": "code",
   "execution_count": 42,
   "metadata": {
    "collapsed": false
   },
   "outputs": [
    {
     "name": "stdout",
     "output_type": "stream",
     "text": [
      "enter a number:.25\n",
      "low = 0.0 high = 0.25\n",
      "low = 0.125 high = 0.25\n",
      "low = 0.1875 high = 0.25\n",
      "low = 0.21875 high = 0.25\n",
      "low = 0.234375 high = 0.25\n",
      "low = 0.2421875 high = 0.25\n",
      "low = 0.24609375 high = 0.25\n",
      "low = 0.248046875 high = 0.25\n",
      "low = 0.2490234375 high = 0.25\n",
      "low = 0.24951171875 high = 0.25\n",
      "low = 0.249755859375 high = 0.25\n",
      "low = 0.2498779296875 high = 0.25\n",
      "low = 0.24993896484375 high = 0.25\n",
      "low = 0.249969482421875 high = 0.25\n",
      "number of guesses = 14\n",
      "0.24999237060546875 is close to square root of 0.25\n"
     ]
    }
   ],
   "source": [
    "## Bisection Search to Find a Square Root\n",
    "\n",
    "x = float(input(\"enter a number:\"))\n",
    "epsilon = 0.00001\n",
    "num_guesses = 0\n",
    "low = 0.0\n",
    "high = x\n",
    "ans = (high + low)/2.0\n",
    "while high - low >= 2 * epsilon:\n",
    "    print(\"low =\",low,\"high =\", high)\n",
    "    num_guesses += 1\n",
    "    if ans ** 2 < x:\n",
    "        low = ans\n",
    "    else:\n",
    "        high = ans\n",
    "    ans = (high + low)/2.0\n",
    "print('number of guesses =', num_guesses)\n",
    "print(ans, 'is close to square root of', x)"
   ]
  },
  {
   "cell_type": "code",
   "execution_count": 55,
   "metadata": {
    "collapsed": false
   },
   "outputs": [
    {
     "name": "stdout",
     "output_type": "stream",
     "text": [
      "enter a number:25\n",
      "low = 0.0 high = 25.0\n",
      "low = 0.0 high = 12.5\n",
      "low = 0.0 high = 6.25\n",
      "low = 3.125 high = 6.25\n",
      "low = 4.6875 high = 6.25\n",
      "low = 4.6875 high = 5.46875\n",
      "low = 4.6875 high = 5.078125\n",
      "low = 4.8828125 high = 5.078125\n",
      "low = 4.98046875 high = 5.078125\n",
      "low = 4.98046875 high = 5.029296875\n",
      "low = 4.98046875 high = 5.0048828125\n",
      "low = 4.99267578125 high = 5.0048828125\n",
      "low = 4.998779296875 high = 5.0048828125\n",
      "low = 4.998779296875 high = 5.0018310546875\n",
      "low = 4.998779296875 high = 5.00030517578125\n",
      "low = 4.999542236328125 high = 5.00030517578125\n",
      "low = 4.9999237060546875 high = 5.00030517578125\n",
      "low = 4.9999237060546875 high = 5.000114440917969\n",
      "low = 4.9999237060546875 high = 5.000019073486328\n",
      "low = 4.999971389770508 high = 5.000019073486328\n",
      "low = 4.999995231628418 high = 5.000019073486328\n",
      "number of guesses = 21\n",
      "5.0000011920928955 is close to square root of 25.0\n"
     ]
    }
   ],
   "source": [
    "## Bisection Search to Find a Square Root\n",
    "\n",
    "x = float(input(\"enter a number:\"))\n",
    "epsilon = 0.00001\n",
    "num_guesses = 0\n",
    "low = 0.0\n",
    "high = x\n",
    "\n",
    "\n",
    "#########\n",
    "# the problem is the algorythm looks in the wring search space for a root of a decimal\n",
    "# reset search space for the special case of the root of a decimal\n",
    "if abs(x) < 1:  \n",
    "    high =1\n",
    "##########\n",
    "\n",
    "\n",
    "ans = (high + low)/2.0\n",
    "while high - low >= 2 * epsilon:\n",
    "    print(\"low =\",low,\"high =\", high)\n",
    "    num_guesses += 1\n",
    "    if ans ** 2 < x:\n",
    "        low = ans\n",
    "    else:\n",
    "        high = ans\n",
    "    ans = (high + low)/2.0\n",
    "print('number of guesses =', num_guesses)\n",
    "print(ans, 'is close to square root of', x)"
   ]
  },
  {
   "cell_type": "markdown",
   "metadata": {},
   "source": [
    "### 4-2-2 Bisection Search Runtime\n",
    "\n",
    "You run the bisection search algorithm to find the square root of x to a precision of epsilon.  Write down a formula for how many loop iterations it takes for the algorithm to complete.  Hint: first suppose that x has the special value $epsilon * 2^n$, where n is an integer."
   ]
  },
  {
   "cell_type": "markdown",
   "metadata": {
    "collapsed": true
   },
   "source": [
    "**Let's define \"n\" as the iteration.**\n",
    "\n",
    "* n = 1 search space is x\n",
    "* n = 2 search space is x/2\n",
    "* n = 3 search space is x/(2^2)\n",
    "* n = n search space is x/(2^(n-1))\n",
    "\n",
    "\n",
    "** The stopping condition is [(high - low) < (2 * epsilon)]**\n",
    "\n",
    "* Note that (high-low) is equal to the current search space. So, the bisection search stops when the current [search space < (2 epsilon)]\n",
    "\n",
    "We know that on iteration n, the search space is x/(2^(n-1)).\n",
    "Therefore, the algo stops when:\n",
    "\n",
    "** x/(2^(n-1)) < (2 epsilon) **\n",
    "\n",
    "In this equation above, n is the number of iterations. We can thus solve for n.\n",
    "\n",
    "** x/(2^n) < epsilon **\n",
    "\n",
    "** x < epsilon * (2^n) **\n",
    "\n",
    "** x/epsilon < (2^n) **\n",
    "\n",
    "log2(x/epsilon) < n\n",
    "What does this mean? We see that the stopping point depends on both the magnitude of the original value, x, and the sensitivity of our epsilon stopping point. However, as this x/epsilon term grows, the number of iterations only grows logarithmically.\n",
    "In computer science notation, we simplify and say that the algorithm's speed is \"O(log n)\".\n",
    "\n",
    "* **Note - technically you could argue the n = 1 search space should be defined after the first iteration completes, so n = 1 search space is x/2.  However, the math from here still gets you to O(log n).**\n"
   ]
  },
  {
   "cell_type": "markdown",
   "metadata": {},
   "source": [
    "### 4-2-3 Explaining the Bisection Search\n",
    "\n",
    "Please answer the following questions:\n",
    "\n",
    "In your own words, why does the bisection search algorthm for finding square roots work faster on large numbers than the brute force algorithm? Write your answer below."
   ]
  },
  {
   "cell_type": "markdown",
   "metadata": {},
   "source": [
    "**In the brute force alogrythm, the entire solution space is searched sequentialy, in the bisection algorythm, the solution space is sequentially cut in half with each turn So the space that is searched is dramatically reduced.**"
   ]
  },
  {
   "cell_type": "markdown",
   "metadata": {},
   "source": [
    "In your own words, why does Newton's method for finding square roots outperform both the brute force and the bisection search algorithms? Write your answer below."
   ]
  },
  {
   "cell_type": "markdown",
   "metadata": {},
   "source": [
    "**Newton's method reduces the search space every turn like the bisection seach but it does so faster. Rather than taking half of the previous interval, it uses the tangent line to the square function to hone in on the root.  This method is similar to \"gradient descent\", which you will use in later machine learning courses.**\n",
    "\n",
    "![title](newton.png)"
   ]
  },
  {
   "cell_type": "markdown",
   "metadata": {},
   "source": [
    "### 4-2-4 Following Pseudocode for an Algorithm\n",
    "\n",
    "Implement this digit-by-digit algorithm to find the square root of $x$ to a precision of epsilon.\n",
    "  1. Begin with a step of 1 and guess of zero.\n",
    "  2. Increase the guess by step repeatedly as long as doing so would not cause guess$^2$ to exceed $x$.\n",
    "  3. If the step is greater than epsilon, divide the step by 10 and go back to step 2.\n",
    "\n",
    "Notice that once a digit has been found, it is never changed again.  Try using your script to find the square root of 10 to 10 decimal places.\n",
    "\n"
   ]
  },
  {
   "cell_type": "code",
   "execution_count": 52,
   "metadata": {
    "collapsed": false
   },
   "outputs": [
    {
     "name": "stdout",
     "output_type": "stream",
     "text": [
      "find the square root of x?10\n",
      "1\n",
      "2\n",
      "3\n",
      "new step is:  0.1\n",
      "3.1\n",
      "new step is:  0.01\n",
      "3.11\n",
      "3.12\n",
      "3.13\n",
      "3.14\n",
      "3.15\n",
      "3.16\n",
      "new step is:  0.001\n",
      "3.161\n",
      "3.162\n",
      "new step is:  0.0001\n",
      "3.1621\n",
      "3.1622\n",
      "new step is:  1e-05\n",
      "3.16221\n",
      "3.16222\n",
      "3.16223\n",
      "3.16224\n",
      "3.16225\n",
      "3.16226\n",
      "3.16227\n",
      "new step is:  1.0000000000000002e-06\n",
      "3.162271\n",
      "3.162272\n",
      "3.162273\n",
      "3.162274\n",
      "3.162275\n",
      "3.162276\n",
      "3.162277\n",
      "new step is:  1.0000000000000002e-07\n",
      "3.1622771\n",
      "3.1622772\n",
      "3.1622773\n",
      "3.1622774\n",
      "3.1622775\n",
      "3.1622776\n",
      "new step is:  1.0000000000000002e-08\n",
      "3.16227761\n",
      "3.16227762\n",
      "3.16227763\n",
      "3.16227764\n",
      "3.16227765\n",
      "3.16227766\n",
      "new step is:  1.0000000000000003e-09\n",
      "new step is:  1.0000000000000003e-10\n",
      "3.1622776601\n",
      "new step is:  1.0000000000000003e-11\n",
      "3.16227766011\n",
      "3.16227766012\n",
      "3.16227766013\n",
      "3.16227766014\n",
      "3.16227766015\n",
      "3.16227766016\n",
      "new step is:  1.0000000000000002e-12\n"
     ]
    }
   ],
   "source": [
    "import decimal\n",
    "\n",
    "x=int(input('find the square root of x?'))\n",
    "guess=0\n",
    "step=1\n",
    "places=0 # you have to implement a rounding scheme to get a nice output\n",
    "while step > .00000000001: # stop after you reach 10 decimal resoulution \n",
    "    if (guess+step)*(guess+step) < x: # if the increment does not push the guess over then do it\n",
    "        guess=round(guess+step,places)\n",
    "        print (guess)\n",
    "    else:\n",
    "        #guess=guess-step\n",
    "        places=places+1\n",
    "        step=step/10\n",
    "        print ('new step is: ', step)\n"
   ]
  },
  {
   "cell_type": "markdown",
   "metadata": {},
   "source": [
    "## Part 3 - Comprehensions\n",
    "### 4-3 Comprehensions\n",
    "\n",
    "**4-3-1:** Use a comprehension to make a list of the square numbers below 100 that give a remainder of 1 when divided by 3."
   ]
  },
  {
   "cell_type": "code",
   "execution_count": 8,
   "metadata": {
    "collapsed": false
   },
   "outputs": [
    {
     "data": {
      "text/plain": [
       "[1, 4, 16, 25, 49, 64]"
      ]
     },
     "execution_count": 8,
     "metadata": {},
     "output_type": "execute_result"
    }
   ],
   "source": [
    "[x**2 for x in range(11) if (x**2)%3==1 and x**2 < 100]"
   ]
  },
  {
   "cell_type": "markdown",
   "metadata": {},
   "source": [
    "**4-3-2:** A string is defined in the code snippet below. Split it into individual words and use a comprehension to make a list of the first letters of each word in the snippet."
   ]
  },
  {
   "cell_type": "code",
   "execution_count": 3,
   "metadata": {
    "collapsed": false
   },
   "outputs": [
    {
     "data": {
      "text/plain": [
       "['I',\n",
       " 'l',\n",
       " 'm',\n",
       " 'l',\n",
       " 'a',\n",
       " 'q',\n",
       " 'm',\n",
       " 'a',\n",
       " 'a',\n",
       " 't',\n",
       " 'N',\n",
       " 'e',\n",
       " 'm',\n",
       " 'n',\n",
       " 't',\n",
       " 'm',\n",
       " 'n',\n",
       " 't',\n",
       " 's',\n",
       " 'n',\n",
       " 'm',\n",
       " 't',\n",
       " 'a',\n",
       " 'a',\n",
       " 't',\n",
       " 'b',\n",
       " 'F',\n",
       " 't',\n",
       " 't',\n",
       " 's',\n",
       " 'o',\n",
       " 'l',\n",
       " 'I',\n",
       " 'f']"
      ]
     },
     "execution_count": 3,
     "metadata": {},
     "output_type": "execute_result"
    }
   ],
   "source": [
    "text = \"I live my life a quarter mile at a time. \\\n",
    "Nothing else matters: not the mortgage, not the store, \\\n",
    "not my team and all their bullshit. \\\n",
    "For those ten seconds or less, I’m free.\"\n",
    "# the slashes just mean that the string continues onto the next line\n",
    "# if you print the text, it will make no difference\n",
    "\n",
    "[word[0] for word in text.split(\" \")]"
   ]
  },
  {
   "cell_type": "markdown",
   "metadata": {},
   "source": [
    "**4-3-3:** A Pythagorean triple is a set (x,y,z), with positive integers x≤y≤z such that x2+y2=z2. Use a comprehension to make a list of all Pythagorean triples with numbers below 25."
   ]
  },
  {
   "cell_type": "code",
   "execution_count": 9,
   "metadata": {
    "collapsed": false
   },
   "outputs": [
    {
     "data": {
      "text/plain": [
       "[(3, 4, 5), (5, 12, 13), (6, 8, 10), (8, 15, 17), (9, 12, 15), (12, 16, 20)]"
      ]
     },
     "execution_count": 9,
     "metadata": {},
     "output_type": "execute_result"
    }
   ],
   "source": [
    " [(x, y, z) for x in range(25) for y in range(x+1,25) for z in range(y+1,25) if x**2+y**2==z**2]"
   ]
  },
  {
   "cell_type": "markdown",
   "metadata": {},
   "source": [
    "**4-3-4:** Given a word, provided below, use a comprehension to make a list of all strings that can be formed by deleting exactly one character from the word."
   ]
  },
  {
   "cell_type": "code",
   "execution_count": 17,
   "metadata": {
    "collapsed": false
   },
   "outputs": [
    {
     "data": {
      "text/plain": [
       "['elcomed', 'Wlcomed', 'Wecomed', 'Welomed', 'Welcmed', 'Welcoed', 'Welcomd']"
      ]
     },
     "execution_count": 17,
     "metadata": {},
     "output_type": "execute_result"
    }
   ],
   "source": [
    "word = \"Welcomed\"\n",
    "\n",
    "[word[:i-1] + word[i:] for i in range(1,len(word))] #\n",
    "#[del for letter in word"
   ]
  },
  {
   "cell_type": "markdown",
   "metadata": {},
   "source": [
    "**4-3-5:** Given a word, provided below, use a comprehension to make a list of all strings that can be formed by replacing exactly one vowel in the word with a different vowel."
   ]
  },
  {
   "cell_type": "code",
   "execution_count": 3,
   "metadata": {
    "collapsed": false
   },
   "outputs": [
    {
     "data": {
      "text/plain": [
       "['Baoted',\n",
       " 'Beoted',\n",
       " 'Bioted',\n",
       " 'Booted',\n",
       " 'Buoted',\n",
       " 'Boated',\n",
       " 'Boeted',\n",
       " 'Boited',\n",
       " 'Booted',\n",
       " 'Bouted',\n",
       " 'Bootad',\n",
       " 'Booted',\n",
       " 'Bootid',\n",
       " 'Bootod',\n",
       " 'Bootud']"
      ]
     },
     "execution_count": 3,
     "metadata": {},
     "output_type": "execute_result"
    }
   ],
   "source": [
    "word = \"Booted\"\n",
    "# this replaces each vowel with 'a'\n",
    "#[word[:i] + 'a' + word[i+1:] for i in range(1,len(word)) if word[i] in 'aeiou']\n",
    "# cycle the vowel here\n",
    "[word[:i] + v + word[i+1:] for i in range(1,len(word)) for v in 'aeiou' if word[i] in 'aeiou']\n",
    "\n"
   ]
  },
  {
   "cell_type": "markdown",
   "metadata": {},
   "source": [
    "# Please submit feedback for any and all homeworks!\n",
    "\n",
    "http://goo.gl/forms/74yCiQTf6k"
   ]
  },
  {
   "cell_type": "code",
   "execution_count": null,
   "metadata": {
    "collapsed": true
   },
   "outputs": [],
   "source": []
  }
 ],
 "metadata": {
  "kernelspec": {
   "display_name": "Python 3",
   "language": "python",
   "name": "python3"
  },
  "language_info": {
   "codemirror_mode": {
    "name": "ipython",
    "version": 3
   },
   "file_extension": ".py",
   "mimetype": "text/x-python",
   "name": "python",
   "nbconvert_exporter": "python",
   "pygments_lexer": "ipython3",
   "version": "3.5.1"
  }
 },
 "nbformat": 4,
 "nbformat_minor": 0
}
