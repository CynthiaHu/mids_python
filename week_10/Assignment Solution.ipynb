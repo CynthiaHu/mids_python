{
 "cells": [
  {
   "cell_type": "markdown",
   "metadata": {},
   "source": [
    "# Reading and Writing Data\n",
    "\n",
    "In this assignment you will be reading and writing data. In this folder are 3 included data files ending in `csv`, `json` and `pkl`. \n",
    "\n",
    "* data.csv\n",
    "* data.json\n",
    "* data.pkl\n",
    "\n",
    "These are different file formats that exist. You can run the following **on the command line** to see what is in each file:\n",
    "\n",
    "```sh\n",
    "head data.csv # or pkl # or json\n",
    "```\n",
    "\n",
    "You'll see that there is some method to the madness but that each file has its peculiarities. Each file contains a portion of the total dataset that consists of 100 records, so you will need to read in all of the files and combine them into some standard format with which you are comfortable.  Aim for something standard where each \"row\" is the same format.\n",
    "\n",
    "After you've standardized all of the data, report the following bits of information by writing them to a csv file labelled `question_1.csv`, `question_2.csv` etc.  In addition, show all your work in an iPython notebook.\n",
    "\n",
    "1. What are the unique countries in the dataset?\n",
    "2. What are the unique email domains in the dataset?\n",
    "3. What are the first names of everyone that does not have a P.O. Box address?\n",
    "4. What are the names of the first 5 people when you sort the data by Country?\n",
    "5. What are the names of the first 5 people when you sort the data by phone number?\n",
    "\n",
    "### Restrictions\n",
    "You should use these standard library imports\n",
    "\n",
    "```python\n",
    "import json\n",
    "import csv\n",
    "import pickle\n",
    "```\n",
    "\n",
    "Some of you may be familiar with a Python package called `pandas` which would greatly speed up this sort of file processing.  The point of this homework is to do the work manually.  You can use `pandas` to independently check your work  if you are so inclined.  Don't worry if you are not familiar with `pandas`.  We will do this homework as a class exercise using `pandas` in the near future.\n",
    "\n",
    "\n",
    "### Comments\n",
    "\n",
    "- You may use regular expressions if you wish to extract data from each row. You do not need to use them if you do not want to or see a need to.  The Python regular expression module is called `re`.\n",
    "- You may want to use the `operator` module to help in sorting.\n",
    "- There are many data structures and formats that you might use to solve this problem.  You will have to decide if you want to keep the information for each person together as one record or all the information for each of the fields together.\n",
    "\n",
    "** Hints** \n",
    "* you can put these files into sensible structures such as lists or or dictionaries. The async covers how to do this for csv and json. For pickle this might help https://wiki.python.org/moin/UsingPickle \n",
    "\n",
    "* .items() or .key() can be useful for dictionaries\n",
    "\n"
   ]
  },
  {
   "cell_type": "code",
   "execution_count": 35,
   "metadata": {
    "collapsed": false
   },
   "outputs": [],
   "source": [
    "import json\n",
    "import csv\n",
    "import pickle\n",
    "import pprint"
   ]
  },
  {
   "cell_type": "markdown",
   "metadata": {},
   "source": [
    "## Load and Process Data"
   ]
  },
  {
   "cell_type": "code",
   "execution_count": 50,
   "metadata": {
    "collapsed": false
   },
   "outputs": [
    {
     "name": "stdout",
     "output_type": "stream",
     "text": [
      "['', 'Name', 'Phone', 'Address', 'City', 'Country', 'Email']\n",
      "['0', 'Hillary Benton', '1-243-669-7472', '144-1225 In Road', 'Navsari', 'Togo', 'rutrum.magna.Cras@eudolor.edu']\n",
      "['1', 'Morgan Y. Little', '155-3483', 'Ap #909-6656 Ac St.', 'Kitimat', 'Nauru', 'pede.sagittis.augue@quis.ca']\n",
      "['2', 'Camden Z. Blair', '123-5058', 'P.O. Box 441, 6183 Ligula St.', 'Casanova Elvo', 'Palestine, State of', 'consectetuer.rhoncus.Nullam@ultrices.org']\n",
      "['3', 'Alexandra E. Saunders', '1-637-740-7614', '305-496 Morbi Rd.', 'Biggleswade', 'Malawi', 'dui.Fusce@duinecurna.org']\n",
      "['4', 'Hanae P. Walsh', '901-2461', '7058 Dapibus St.', 'Dhuy', 'Qatar', 'Morbi@tinciduntpedeac.com']\n",
      "['5', 'Jescie Sargent', '265-1176', '421-5501 Cursus. St.', 'Tulsa', 'Holy See (Vatican City State)', 'non.egestas.a@ullamcorper.co.uk']\n",
      "['6', 'Kessie Morgan', '945-0713', 'Ap #481-6631 Vehicula Rd.', 'Pedro Aguirre Cerda', 'Bonaire, Sint Eustatius and Saba', 'est@vitaeeratVivamus.net']\n",
      "['7', 'Bevis M. Santos', '227-9994', 'P.O. Box 575, 4033 Mi St.', 'Saint-Vincent', 'Kuwait', 'Nunc@Aliquamfringilla.com']\n",
      "['8', 'Flynn Alston', '398-8097', 'Ap #763-5990 Nec, Av.', 'TirÃºa', 'Romania', 'Nunc.pulvinar@Phasellusdapibus.edu']\n",
      "['9', 'Charles F. Crawford', '791-5111', 'Ap #841-1623 Vitae Avenue', 'Hindupur', 'South Georgia and The South Sandwich Islands', 'dis.parturient@nectellusNunc.net']\n",
      "['10', 'Cairo Wolfe', '1-930-942-2322', '9269 Libero Ave', 'Whitchurch', 'Lesotho', 'sociis.natoque@arcuVestibulumante.org']\n",
      "['11', 'Elijah Myers', '1-238-336-4864', 'P.O. Box 677, 2311 Aliquet. Road', 'Port Harcourt', 'Kyrgyzstan', 'tempus.risus@posuereat.net']\n",
      "['12', 'Thane Burch', '1-894-978-3696', '7438 Amet, Rd.', 'Algeciras', 'Anguilla', 'lobortis.quis.pede@Namligula.edu']\n",
      "['13', 'Katelyn Munoz', '220-5054', 'P.O. Box 432, 9085 Nulla Ave', 'RequÃ\\xadnoa', 'Congo (Brazzaville)', 'Vivamus.nisi.Mauris@fermentumarcu.edu']\n",
      "['14', 'Genevieve Holland', '992-6968', '1768 Magna. Road', 'Moose Jaw', 'Uruguay', 'Maecenas.malesuada@euultrices.co.uk']\n",
      "['15', 'Wesley Z. Sharp', '1-960-740-2261', 'P.O. Box 497, 8354 Habitant St.', 'Bear', 'Cayman Islands', 'et@sedsapien.ca']\n",
      "['16', 'Tatyana H. French', '1-120-782-6047', '217-9163 Lobortis Road', 'Salles', 'Eritrea', 'Curabitur@magna.com']\n",
      "['17', 'Meredith F. Clayton', '425-7583', 'Ap #929-9420 Vivamus Rd.', 'Friedberg', 'Czech Republic', 'elit.pharetra@dui.co.uk']\n",
      "['18', 'Rajah Carrillo', '1-576-789-5730', '910-8300 Varius Rd.', 'Bertiolo', 'Afghanistan', 'sapien.gravida.non@cursuset.net']\n",
      "['19', 'Gabriel Richmond', '1-387-932-2096', '7458 Sapien. St.', 'Tropea', 'Cambodia', 'nunc.nulla.vulputate@anteblanditviverra.co.uk']\n"
     ]
    }
   ],
   "source": [
    "# Load Data\n",
    "dataset = []\n",
    "with open('data.csv', 'r') as data_csv:\n",
    "    x = csv.reader(data_csv)\n",
    "    [dataset.append(row) for row in x]\n",
    "\n",
    "# Examine Data\n",
    "for row in dataset:\n",
    "    print(row) "
   ]
  },
  {
   "cell_type": "code",
   "execution_count": 51,
   "metadata": {
    "collapsed": false
   },
   "outputs": [
    {
     "name": "stdout",
     "output_type": "stream",
     "text": [
      "{'Address': {'20': '916-8087 Vehicula Rd.',\n",
      "             '21': '878-2231 Suspendisse Rd.',\n",
      "             '22': 'P.O. Box 572, 7680 Ullamcorper Ave',\n",
      "             '23': '563-4105 Donec Avenue',\n",
      "             '24': '462-2112 In Rd.',\n",
      "             '25': '420-7327 Facilisis Street',\n",
      "             '26': '561-7476 Eget St.',\n",
      "             '27': '1247 Nonummy Rd.',\n",
      "             '28': 'Ap #603-3303 Libero. St.',\n",
      "             '29': 'P.O. Box 975, 4593 Ante. Street',\n",
      "             '30': '3696 Augue Ave',\n",
      "             '31': 'P.O. Box 365, 6109 Metus. Rd.',\n",
      "             '32': 'Ap #861-8699 Non Ave',\n",
      "             '33': '371-7266 Tortor Avenue',\n",
      "             '34': '4167 Nunc Ave',\n",
      "             '35': 'Ap #302-2966 Cum Av.',\n",
      "             '36': 'Ap #275-2917 Curabitur Rd.',\n",
      "             '37': '6930 Duis Road',\n",
      "             '38': '1511 Lobortis Ave',\n",
      "             '39': 'Ap #711-213 Sagittis Avenue'},\n",
      " 'City': {'20': 'Le Mans',\n",
      "          '21': 'Wilhelmshaven',\n",
      "          '22': 'Sangli',\n",
      "          '23': 'Wabamun',\n",
      "          '24': 'Barddhaman',\n",
      "          '25': 'Pfungstadt',\n",
      "          '26': 'Saint John',\n",
      "          '27': 'Avellino',\n",
      "          '28': 'Winnipeg',\n",
      "          '29': 'Vitória da Conquista',\n",
      "          '30': 'Hualpén',\n",
      "          '31': 'Kapuskasing',\n",
      "          '32': 'Pontypridd',\n",
      "          '33': 'Saint-Remy-Geest',\n",
      "          '34': 'Arsimont',\n",
      "          '35': 'Nieuwenrode',\n",
      "          '36': 'La Baie',\n",
      "          '37': 'College',\n",
      "          '38': 'Richmond Hill',\n",
      "          '39': 'Quinta Normal'},\n",
      " 'Country': {'20': 'Somalia',\n",
      "             '21': 'Samoa',\n",
      "             '22': 'Taiwan',\n",
      "             '23': 'Morocco',\n",
      "             '24': 'Hong Kong',\n",
      "             '25': 'Iran',\n",
      "             '26': 'Macao',\n",
      "             '27': 'Dominica',\n",
      "             '28': 'Congo (Brazzaville)',\n",
      "             '29': 'Slovakia',\n",
      "             '30': 'France',\n",
      "             '31': 'Indonesia',\n",
      "             '32': 'Turks and Caicos Islands',\n",
      "             '33': 'Marshall Islands',\n",
      "             '34': 'Montserrat',\n",
      "             '35': 'Faroe Islands',\n",
      "             '36': 'Ireland',\n",
      "             '37': 'United States',\n",
      "             '38': 'Israel',\n",
      "             '39': 'Sudan'},\n",
      " 'Email': {'20': 'diam.Pellentesque@suscipitest.ca',\n",
      "           '21': 'euismod.et.commodo@nisi.co.uk',\n",
      "           '22': 'accumsan.laoreet.ipsum@Quisqueimperdiet.ca',\n",
      "           '23': 'nec.orci.Donec@Suspendisse.co.uk',\n",
      "           '24': 'eget@tinciduntaliquamarcu.com',\n",
      "           '25': 'tellus.faucibus.leo@Sedpharetrafelis.org',\n",
      "           '26': 'urna@Lorem.net',\n",
      "           '27': 'libero.Integer@ligulaelitpretium.org',\n",
      "           '28': 'Donec.nibh.enim@consectetuercursuset.org',\n",
      "           '29': 'mauris.sit.amet@blanditatnisi.ca',\n",
      "           '30': 'eu@Aenean.edu',\n",
      "           '31': 'facilisis.eget.ipsum@consequat.com',\n",
      "           '32': 'ipsum@liberoDonec.net',\n",
      "           '33': 'Curabitur.dictum.Phasellus@maurisipsum.edu',\n",
      "           '34': 'Fusce.aliquam@velesttempor.edu',\n",
      "           '35': 'elementum.lorem@convallisdolor.co.uk',\n",
      "           '36': 'Aenean@ametrisus.com',\n",
      "           '37': 'bibendum@interdumfeugiatSed.edu',\n",
      "           '38': 'faucibus.id.libero@egestas.net',\n",
      "           '39': 'egestas@malesuadamalesuadaInteger.ca'},\n",
      " 'Name': {'20': 'Paul Merrill',\n",
      "          '21': 'Brynne S. Barr',\n",
      "          '22': 'Cyrus Buckley',\n",
      "          '23': 'Chloe Burnett',\n",
      "          '24': 'Zachery Wilcox',\n",
      "          '25': 'Casey Mcgowan',\n",
      "          '26': 'Cole X. Hopper',\n",
      "          '27': 'Tara Bender',\n",
      "          '28': 'Malik Grimes',\n",
      "          '29': 'Ulla Russo',\n",
      "          '30': 'Colby Moran',\n",
      "          '31': 'Maggy Wooten',\n",
      "          '32': 'Cameron Guthrie',\n",
      "          '33': 'Gail Villarreal',\n",
      "          '34': 'Harding Salinas',\n",
      "          '35': 'Idona W. Bonner',\n",
      "          '36': 'Warren Castillo',\n",
      "          '37': 'Clayton Harmon',\n",
      "          '38': 'Alana Vasquez',\n",
      "          '39': 'Mason R. Trujillo'},\n",
      " 'Phone': {'20': '1-313-739-3854',\n",
      "           '21': '939-4818',\n",
      "           '22': '266-3123',\n",
      "           '23': '828-0406',\n",
      "           '24': '1-611-756-4723',\n",
      "           '25': '1-155-558-4461',\n",
      "           '26': '1-328-505-0545',\n",
      "           '27': '1-757-378-4079',\n",
      "           '28': '793-4359',\n",
      "           '29': '662-7778',\n",
      "           '30': '1-788-230-1991',\n",
      "           '31': '912-7242',\n",
      "           '32': '988-2217',\n",
      "           '33': '1-405-823-4207',\n",
      "           '34': '1-505-843-5401',\n",
      "           '35': '283-6921',\n",
      "           '36': '1-250-875-9104',\n",
      "           '37': '1-609-380-9257',\n",
      "           '38': '1-853-288-4269',\n",
      "           '39': '172-5777'}}\n"
     ]
    },
    {
     "ename": "AttributeError",
     "evalue": "'_csv.reader' object has no attribute 'items'",
     "output_type": "error",
     "traceback": [
      "\u001b[0;31m---------------------------------------------------------------------------\u001b[0m",
      "\u001b[0;31mAttributeError\u001b[0m                            Traceback (most recent call last)",
      "\u001b[0;32m<ipython-input-51-927315f85f45>\u001b[0m in \u001b[0;36m<module>\u001b[0;34m()\u001b[0m\n\u001b[1;32m      4\u001b[0m \u001b[1;31m# Examine Data\u001b[0m\u001b[1;33m\u001b[0m\u001b[1;33m\u001b[0m\u001b[0m\n\u001b[1;32m      5\u001b[0m \u001b[0mpprint\u001b[0m\u001b[1;33m.\u001b[0m\u001b[0mpprint\u001b[0m\u001b[1;33m(\u001b[0m\u001b[0mdata_json\u001b[0m\u001b[1;33m)\u001b[0m\u001b[1;33m\u001b[0m\u001b[0m\n\u001b[0;32m----> 6\u001b[0;31m \u001b[1;32mfor\u001b[0m \u001b[0mk\u001b[0m\u001b[1;33m,\u001b[0m\u001b[0mv\u001b[0m \u001b[1;32min\u001b[0m \u001b[0mx\u001b[0m\u001b[1;33m.\u001b[0m\u001b[0mitems\u001b[0m\u001b[1;33m(\u001b[0m\u001b[1;33m)\u001b[0m\u001b[1;33m:\u001b[0m\u001b[1;33m\u001b[0m\u001b[0m\n\u001b[0m\u001b[1;32m      7\u001b[0m     \u001b[0mprint\u001b[0m\u001b[1;33m(\u001b[0m\u001b[0mk\u001b[0m\u001b[1;33m,\u001b[0m \u001b[0mlen\u001b[0m\u001b[1;33m(\u001b[0m\u001b[0mv\u001b[0m\u001b[1;33m)\u001b[0m\u001b[1;33m)\u001b[0m\u001b[1;33m\u001b[0m\u001b[0m\n\u001b[1;32m      8\u001b[0m \u001b[0mprint\u001b[0m\u001b[1;33m(\u001b[0m\u001b[0mlen\u001b[0m\u001b[1;33m(\u001b[0m\u001b[0mdata_json\u001b[0m\u001b[1;33m[\u001b[0m\u001b[1;34m'Address'\u001b[0m\u001b[1;33m]\u001b[0m\u001b[1;33m)\u001b[0m\u001b[1;33m)\u001b[0m\u001b[1;33m\u001b[0m\u001b[0m\n",
      "\u001b[0;31mAttributeError\u001b[0m: '_csv.reader' object has no attribute 'items'"
     ]
    }
   ],
   "source": [
    "# Load Data\n",
    "data_json = json.load(open(\"data.json\"))\n",
    "\n",
    "# Examine Data\n",
    "pprint.pprint(data_json)\n",
    "for k,v in data_json.items():\n",
    "    print(k, len(v))"
   ]
  },
  {
   "cell_type": "code",
   "execution_count": 52,
   "metadata": {
    "collapsed": false
   },
   "outputs": [
    {
     "name": "stdout",
     "output_type": "stream",
     "text": [
      "[20, 'Paul Merrill', '1-313-739-3854', '916-8087 Vehicula Rd.', 'Le Mans', 'Somalia', 'diam.Pellentesque@suscipitest.ca']\n",
      "[21, 'Brynne S. Barr', '939-4818', '878-2231 Suspendisse Rd.', 'Wilhelmshaven', 'Samoa', 'euismod.et.commodo@nisi.co.uk']\n",
      "[22, 'Cyrus Buckley', '266-3123', 'P.O. Box 572, 7680 Ullamcorper Ave', 'Sangli', 'Taiwan', 'accumsan.laoreet.ipsum@Quisqueimperdiet.ca']\n",
      "[23, 'Chloe Burnett', '828-0406', '563-4105 Donec Avenue', 'Wabamun', 'Morocco', 'nec.orci.Donec@Suspendisse.co.uk']\n",
      "[24, 'Zachery Wilcox', '1-611-756-4723', '462-2112 In Rd.', 'Barddhaman', 'Hong Kong', 'eget@tinciduntaliquamarcu.com']\n",
      "[25, 'Casey Mcgowan', '1-155-558-4461', '420-7327 Facilisis Street', 'Pfungstadt', 'Iran', 'tellus.faucibus.leo@Sedpharetrafelis.org']\n",
      "[26, 'Cole X. Hopper', '1-328-505-0545', '561-7476 Eget St.', 'Saint John', 'Macao', 'urna@Lorem.net']\n",
      "[27, 'Tara Bender', '1-757-378-4079', '1247 Nonummy Rd.', 'Avellino', 'Dominica', 'libero.Integer@ligulaelitpretium.org']\n",
      "[28, 'Malik Grimes', '793-4359', 'Ap #603-3303 Libero. St.', 'Winnipeg', 'Congo (Brazzaville)', 'Donec.nibh.enim@consectetuercursuset.org']\n",
      "[29, 'Ulla Russo', '662-7778', 'P.O. Box 975, 4593 Ante. Street', 'Vitória da Conquista', 'Slovakia', 'mauris.sit.amet@blanditatnisi.ca']\n",
      "[30, 'Colby Moran', '1-788-230-1991', '3696 Augue Ave', 'Hualpén', 'France', 'eu@Aenean.edu']\n",
      "[31, 'Maggy Wooten', '912-7242', 'P.O. Box 365, 6109 Metus. Rd.', 'Kapuskasing', 'Indonesia', 'facilisis.eget.ipsum@consequat.com']\n",
      "[32, 'Cameron Guthrie', '988-2217', 'Ap #861-8699 Non Ave', 'Pontypridd', 'Turks and Caicos Islands', 'ipsum@liberoDonec.net']\n",
      "[33, 'Gail Villarreal', '1-405-823-4207', '371-7266 Tortor Avenue', 'Saint-Remy-Geest', 'Marshall Islands', 'Curabitur.dictum.Phasellus@maurisipsum.edu']\n",
      "[34, 'Harding Salinas', '1-505-843-5401', '4167 Nunc Ave', 'Arsimont', 'Montserrat', 'Fusce.aliquam@velesttempor.edu']\n",
      "[35, 'Idona W. Bonner', '283-6921', 'Ap #302-2966 Cum Av.', 'Nieuwenrode', 'Faroe Islands', 'elementum.lorem@convallisdolor.co.uk']\n",
      "[36, 'Warren Castillo', '1-250-875-9104', 'Ap #275-2917 Curabitur Rd.', 'La Baie', 'Ireland', 'Aenean@ametrisus.com']\n",
      "[37, 'Clayton Harmon', '1-609-380-9257', '6930 Duis Road', 'College', 'United States', 'bibendum@interdumfeugiatSed.edu']\n",
      "[38, 'Alana Vasquez', '1-853-288-4269', '1511 Lobortis Ave', 'Richmond Hill', 'Israel', 'faucibus.id.libero@egestas.net']\n",
      "[39, 'Mason R. Trujillo', '172-5777', 'Ap #711-213 Sagittis Avenue', 'Quinta Normal', 'Sudan', 'egestas@malesuadamalesuadaInteger.ca']\n"
     ]
    }
   ],
   "source": [
    "# Append Data\n",
    "for x in range(20,40):\n",
    "    newline = [x, data_json['Name'][str(x)], data_json['Phone'][str(x)], data_json['Address'][str(x)], \n",
    "           data_json['City'][str(x)], data_json['Country'][str(x)], data_json['Email'][str(x)]]\n",
    "    print(newline)\n",
    "    dataset.append(newline)"
   ]
  },
  {
   "cell_type": "code",
   "execution_count": 55,
   "metadata": {
    "collapsed": false
   },
   "outputs": [
    {
     "name": "stdout",
     "output_type": "stream",
     "text": [
      "{'Address': {40: 'P.O. Box 466, 7919 In Av.',\n",
      "             41: 'P.O. Box 484, 9648 Sit Avenue',\n",
      "             42: 'P.O. Box 254, 2688 Luctus, Street',\n",
      "             43: 'Ap #682-9992 Neque Rd.',\n",
      "             44: '245-8811 Ut St.',\n",
      "             45: 'P.O. Box 383, 139 A Ave',\n",
      "             46: '7989 Magna Rd.',\n",
      "             47: '7312 Tristique St.',\n",
      "             48: 'P.O. Box 720, 9179 Fermentum Street',\n",
      "             49: '200-5702 Mollis St.',\n",
      "             50: 'Ap #221-1593 Fringilla St.',\n",
      "             51: 'P.O. Box 133, 5382 Enim Ave',\n",
      "             52: 'Ap #869-5869 Neque Avenue',\n",
      "             53: '2992 Vitae Rd.',\n",
      "             54: '6427 Eros Avenue',\n",
      "             55: 'P.O. Box 133, 6862 Diam Road',\n",
      "             56: 'P.O. Box 679, 7373 Mollis Ave',\n",
      "             57: 'P.O. Box 642, 2289 Volutpat. Street',\n",
      "             58: '221-3908 Pellentesque Av.',\n",
      "             59: '581-1223 Aliquam Rd.',\n",
      "             60: '2398 Lectus, Road',\n",
      "             61: '1274 Nullam St.',\n",
      "             62: '1229 Nisl. Av.',\n",
      "             63: '263-4846 Sed St.',\n",
      "             64: '3247 Parturient Ave',\n",
      "             65: '6138 Faucibus Ave',\n",
      "             66: '865-2066 Vel Rd.',\n",
      "             67: '173-4952 Pede, Avenue',\n",
      "             68: '593 Turpis. Av.',\n",
      "             69: '567-6664 Egestas St.',\n",
      "             70: 'P.O. Box 618, 8055 Integer St.',\n",
      "             71: '7304 Euismod Avenue',\n",
      "             72: '890-4439 Varius. Avenue',\n",
      "             73: '1488 Dignissim Ave',\n",
      "             74: '1506 Egestas Rd.',\n",
      "             75: '859-3576 Tincidunt Street',\n",
      "             76: 'Ap #788-4701 Aliquet St.',\n",
      "             77: '685-2553 Ultrices Avenue',\n",
      "             78: 'Ap #595-189 Malesuada Road',\n",
      "             79: '997 Posuere Rd.',\n",
      "             80: 'Ap #890-8397 Euismod Ave',\n",
      "             81: 'P.O. Box 469, 4278 Condimentum Rd.',\n",
      "             82: '6247 Aliquet Av.',\n",
      "             83: '7121 Diam. Rd.',\n",
      "             84: '8198 Curae; Av.',\n",
      "             85: '203-4493 A Road',\n",
      "             86: 'P.O. Box 881, 7563 Nisl. Av.',\n",
      "             87: '482-4531 Mauris Rd.',\n",
      "             88: 'Ap #678-3509 Nascetur Av.',\n",
      "             89: 'P.O. Box 656, 5397 Gravida. Ave',\n",
      "             90: 'Ap #815-7648 Non Rd.',\n",
      "             91: 'Ap #836-7039 Lorem Avenue',\n",
      "             92: '159-6608 Eu, St.',\n",
      "             93: '8916 Pede St.',\n",
      "             94: 'Ap #810-9918 Enim Street',\n",
      "             95: '177-9263 Vitae Ave',\n",
      "             96: '870-7596 Eros Rd.',\n",
      "             97: 'Ap #215-8596 Cursus Ave',\n",
      "             98: 'P.O. Box 634, 4298 Elit. Rd.',\n",
      "             99: '624-5679 Nulla. Rd.'},\n",
      " 'City': {40: 'Dunbar',\n",
      "          41: 'Pollena Trocchia',\n",
      "          42: 'Hastings',\n",
      "          43: 'Gespeg',\n",
      "          44: 'Whitehorse',\n",
      "          45: 'Fernie',\n",
      "          46: 'Ludlow',\n",
      "          47: 'Tirrases',\n",
      "          48: 'Ingolstadt',\n",
      "          49: 'HavrŽ',\n",
      "          50: 'Gentbrugge',\n",
      "          51: 'Rionero in Vulture',\n",
      "          52: 'Pudahuel',\n",
      "          53: 'Moricone',\n",
      "          54: 'Northumberland',\n",
      "          55: 'Lagonegro',\n",
      "          56: 'Rampur',\n",
      "          57: 'Dolceacqua',\n",
      "          58: 'Ourense',\n",
      "          59: 'Logan City',\n",
      "          60: 'Rutten',\n",
      "          61: 'Esslingen',\n",
      "          62: 'Windsor',\n",
      "          63: 'Castel Maggiore',\n",
      "          64: 'Kitchener',\n",
      "          65: 'Cavallino',\n",
      "          66: 'Dordrecht',\n",
      "          67: 'Zwevegem',\n",
      "          68: 'Fraser-Fort George',\n",
      "          69: 'Burgos',\n",
      "          70: 'Bosa',\n",
      "          71: 'Sommariva Perno',\n",
      "          72: 'Richmond',\n",
      "          73: 'Teruel',\n",
      "          74: 'Piła',\n",
      "          75: 'Oostkamp',\n",
      "          76: 'Chaitén',\n",
      "          77: 'Placilla',\n",
      "          78: 'Mira Bhayandar',\n",
      "          79: 'San Miguel',\n",
      "          80: 'Westende',\n",
      "          81: 'Gönen',\n",
      "          82: 'Caerphilly',\n",
      "          83: 'Illapel',\n",
      "          84: 'Baton Rouge',\n",
      "          85: 'Herentals',\n",
      "          86: 'Bihain',\n",
      "          87: 'Schepdaal',\n",
      "          88: 'Albany',\n",
      "          89: 'Tulita',\n",
      "          90: 'Duffel',\n",
      "          91: 'Attimis',\n",
      "          92: 'High Level',\n",
      "          93: 'Rothesay',\n",
      "          94: 'Essex',\n",
      "          95: 'Redwater',\n",
      "          96: 'Pocatello',\n",
      "          97: 'Toronto',\n",
      "          98: 'Cuccaro Vetere',\n",
      "          99: 'Gijzelbrechtegem'},\n",
      " 'Country': {40: 'Zambia',\n",
      "             41: 'Burkina Faso',\n",
      "             42: 'Tunisia',\n",
      "             43: 'Canada',\n",
      "             44: 'Norway',\n",
      "             45: 'Israel',\n",
      "             46: 'Cocos (Keeling) Islands',\n",
      "             47: 'Western Sahara',\n",
      "             48: 'Saint Vincent and The Grenadines',\n",
      "             49: 'Austria',\n",
      "             50: 'Isle of Man',\n",
      "             51: 'Hong Kong',\n",
      "             52: 'Rwanda',\n",
      "             53: 'Jamaica',\n",
      "             54: 'Latvia',\n",
      "             55: 'Ireland',\n",
      "             56: 'Saint Pierre and Miquelon',\n",
      "             57: 'Ghana',\n",
      "             58: 'Ukraine',\n",
      "             59: 'Guatemala',\n",
      "             60: 'Isle of Man',\n",
      "             61: 'Italy',\n",
      "             62: 'Mauritius',\n",
      "             63: 'Romania',\n",
      "             64: 'Niger',\n",
      "             65: 'Chile',\n",
      "             66: 'Egypt',\n",
      "             67: 'Dominican Republic',\n",
      "             68: 'Uganda',\n",
      "             69: 'Turks and Caicos Islands',\n",
      "             70: 'Anguilla',\n",
      "             71: 'Kyrgyzstan',\n",
      "             72: 'Turkmenistan',\n",
      "             73: 'Switzerland',\n",
      "             74: 'Croatia',\n",
      "             75: 'Mayotte',\n",
      "             76: 'Antigua and Barbuda',\n",
      "             77: 'Botswana',\n",
      "             78: 'Montserrat',\n",
      "             79: 'Albania',\n",
      "             80: 'Dominican Republic',\n",
      "             81: 'American Samoa',\n",
      "             82: 'Guyana',\n",
      "             83: 'Czech Republic',\n",
      "             84: 'Wallis and Futuna',\n",
      "             85: 'Iraq',\n",
      "             86: 'Guinea',\n",
      "             87: 'Moldova',\n",
      "             88: 'Sint Maarten',\n",
      "             89: 'Sudan',\n",
      "             90: 'Botswana',\n",
      "             91: 'Venezuela',\n",
      "             92: 'Algeria',\n",
      "             93: 'Tajikistan',\n",
      "             94: 'Bahamas',\n",
      "             95: 'Bahamas',\n",
      "             96: 'Northern Mariana Islands',\n",
      "             97: 'Estonia',\n",
      "             98: 'Saudi Arabia',\n",
      "             99: 'Kyrgyzstan'},\n",
      " 'Email': {40: 'ipsum.ac@quam.net',\n",
      "           41: 'Nulla.facilisis.Suspendisse@urnanec.net',\n",
      "           42: 'quis.accumsan.convallis@fringilla.edu',\n",
      "           43: 'rutrum.non.hendrerit@etlacinia.com',\n",
      "           44: 'arcu@laciniaorciconsectetuer.ca',\n",
      "           45: 'sit@eros.ca',\n",
      "           46: 'eu@aenim.ca',\n",
      "           47: 'purus.Duis.elementum@ut.org',\n",
      "           48: 'ante.ipsum.primis@ornare.org',\n",
      "           49: 'magna.sed.dui@diamPellentesquehabitant.com',\n",
      "           50: 'enim@nuncinterdum.edu',\n",
      "           51: 'dui.lectus@erat.org',\n",
      "           52: 'Cras@dictumeu.org',\n",
      "           53: 'neque.vitae@nullamagna.edu',\n",
      "           54: 'Integer.vitae@arcu.org',\n",
      "           55: 'tincidunt@egestasadui.co.uk',\n",
      "           56: 'eleifend@purus.ca',\n",
      "           57: 'eget.venenatis.a@Curae.com',\n",
      "           58: 'amet.risus@risusaultricies.co.uk',\n",
      "           59: 'In@ornarelectusjusto.net',\n",
      "           60: 'ornare@egestas.co.uk',\n",
      "           61: 'pede.Suspendisse.dui@ullamcorper.ca',\n",
      "           62: 'Suspendisse.commodo.tincidunt@placerat.ca',\n",
      "           63: 'iaculis.lacus@ipsumprimis.com',\n",
      "           64: 'sit@risusDonec.net',\n",
      "           65: 'sapien.molestie@nonbibendum.edu',\n",
      "           66: 'purus.sapien@odioAliquamvulputate.edu',\n",
      "           67: 'augue.malesuada@magnisdisparturient.co.uk',\n",
      "           68: 'Maecenas.mi@tortordictumeu.org',\n",
      "           69: 'rhoncus.Donec@placerataugueSed.com',\n",
      "           70: 'in@eratEtiam.net',\n",
      "           71: 'amet@facilisisvitae.ca',\n",
      "           72: 'sit.amet.nulla@orciluctus.org',\n",
      "           73: 'nec.tempus.scelerisque@ettristiquepellentesque.ca',\n",
      "           74: 'eget.tincidunt@Curabiturvellectus.net',\n",
      "           75: 'consequat.nec.mollis@vitaeodiosagittis.edu',\n",
      "           76: 'laoreet@magnaUt.org',\n",
      "           77: 'Ut.nec@pedeSuspendissedui.edu',\n",
      "           78: 'ut@Maecenasiaculis.co.uk',\n",
      "           79: 'molestie.orci.tincidunt@feugiat.org',\n",
      "           80: 'Donec@consequat.co.uk',\n",
      "           81: 'nunc@erat.co.uk',\n",
      "           82: 'Maecenas@temporaugueac.com',\n",
      "           83: 'in@est.ca',\n",
      "           84: 'Suspendisse@lectusNullam.co.uk',\n",
      "           85: 'nulla.ante@purus.net',\n",
      "           86: 'lobortis.mauris.Suspendisse@seddolor.org',\n",
      "           87: 'vitae@miac.edu',\n",
      "           88: 'vel.venenatis.vel@orcilobortis.net',\n",
      "           89: 'sit.amet@tinciduntvehicularisus.org',\n",
      "           90: 'adipiscing@Duisdignissimtempor.com',\n",
      "           91: 'semper.dui.lectus@rutrumnon.com',\n",
      "           92: 'Mauris.vestibulum.neque@odio.ca',\n",
      "           93: 'consectetuer@inmagnaPhasellus.edu',\n",
      "           94: 'eu.metus.In@magnis.edu',\n",
      "           95: 'euismod.est@cursusinhendrerit.edu',\n",
      "           96: 'orci.Phasellus@enim.org',\n",
      "           97: 'augue@vitae.edu',\n",
      "           98: 'mi.lorem@Maurismolestie.co.uk',\n",
      "           99: 'faucibus.ut.nulla@dapibus.ca'},\n",
      " 'Name': {40: 'Garrison Lindsey',\n",
      "          41: 'Jenna Mercado',\n",
      "          42: 'Drake Savage',\n",
      "          43: 'Rana Z. Colon',\n",
      "          44: 'Melodie Knox',\n",
      "          45: 'Cooper T. Horton',\n",
      "          46: 'Eaton Nelson',\n",
      "          47: 'Lucian W. Lynn',\n",
      "          48: 'Sydney Anderson',\n",
      "          49: 'Jane Joyner',\n",
      "          50: 'Yen P. Browning',\n",
      "          51: 'Katell Simmons',\n",
      "          52: 'Freya B. Fischer',\n",
      "          53: 'Rama W. Mack',\n",
      "          54: 'Lawrence Z. Carrillo',\n",
      "          55: 'Quyn Serrano',\n",
      "          56: 'Indira L. Mccormick',\n",
      "          57: 'Rina W. Harris',\n",
      "          58: 'Cherokee George',\n",
      "          59: 'Michael Riddle',\n",
      "          60: 'Kay Rice',\n",
      "          61: 'Arden Leonard',\n",
      "          62: 'Chantale Sharpe',\n",
      "          63: 'Calvin Herman',\n",
      "          64: 'Walter R. Gaines',\n",
      "          65: 'Berk Finley',\n",
      "          66: 'Timothy Chambers',\n",
      "          67: 'Ariana M. Olson',\n",
      "          68: 'Mason E. Kelly',\n",
      "          69: 'Keane Stein',\n",
      "          70: 'Ginger Morse',\n",
      "          71: 'Maggy Cotton',\n",
      "          72: 'Talon R. May',\n",
      "          73: 'Devin L. Boone',\n",
      "          74: 'Orli E. Baxter',\n",
      "          75: 'Wing Velazquez',\n",
      "          76: 'Inez Simon',\n",
      "          77: 'Kyle Leonard',\n",
      "          78: 'Selma Christensen',\n",
      "          79: 'Gwendolyn Crosby',\n",
      "          80: 'Gary Alvarez',\n",
      "          81: 'Knox L. Cash',\n",
      "          82: 'Drake P. Guerrero',\n",
      "          83: 'Blossom Chandler',\n",
      "          84: 'Joan O. Ingram',\n",
      "          85: 'Buffy R. Austin',\n",
      "          86: 'Yoko M. Mcgowan',\n",
      "          87: 'Walker Q. Wolfe',\n",
      "          88: 'Blake Cross',\n",
      "          89: 'Naida Guthrie',\n",
      "          90: 'Yardley Singleton',\n",
      "          91: 'Lenore M. Boyer',\n",
      "          92: 'Edan Cortez',\n",
      "          93: 'Quintessa T. Martinez',\n",
      "          94: 'Reuben Skinner',\n",
      "          95: 'Yoshio Leblanc',\n",
      "          96: 'Rebecca French',\n",
      "          97: 'Shana K. Kerr',\n",
      "          98: 'Gemma Leonard',\n",
      "          99: 'Adara Estrada'},\n",
      " 'Phone': {40: '420-1477',\n",
      "           41: '102-2189',\n",
      "           42: '1-790-105-7695',\n",
      "           43: '486-7539',\n",
      "           44: '1-479-861-6093',\n",
      "           45: '768-1000',\n",
      "           46: '746-8562',\n",
      "           47: '1-392-783-0634',\n",
      "           48: '1-610-717-0447',\n",
      "           49: '1-131-574-3183',\n",
      "           50: '473-1433',\n",
      "           51: '1-647-852-3590',\n",
      "           52: '514-9914',\n",
      "           53: '1-849-217-6292',\n",
      "           54: '352-3711',\n",
      "           55: '1-450-807-5530',\n",
      "           56: '1-330-764-3846',\n",
      "           57: '760-1654',\n",
      "           58: '1-722-165-1370',\n",
      "           59: '476-0145',\n",
      "           60: '477-5481',\n",
      "           61: '383-6541',\n",
      "           62: '1-600-834-9076',\n",
      "           63: '1-461-665-6848',\n",
      "           64: '370-5831',\n",
      "           65: '1-765-752-4793',\n",
      "           66: '819-2872',\n",
      "           67: '447-5000',\n",
      "           68: '1-896-767-7525',\n",
      "           69: '457-2683',\n",
      "           70: '1-228-310-1687',\n",
      "           71: '1-541-405-3049',\n",
      "           72: '143-7688',\n",
      "           73: '1-132-242-8605',\n",
      "           74: '371-7491',\n",
      "           75: '354-5776',\n",
      "           76: '461-0691',\n",
      "           77: '179-3944',\n",
      "           78: '978-6407',\n",
      "           79: '692-9172',\n",
      "           80: '1-692-738-4449',\n",
      "           81: '535-9704',\n",
      "           82: '250-6382',\n",
      "           83: '142-2607',\n",
      "           84: '1-889-203-6592',\n",
      "           85: '413-3678',\n",
      "           86: '1-731-637-5890',\n",
      "           87: '1-240-595-6907',\n",
      "           88: '979-7498',\n",
      "           89: '1-138-699-9182',\n",
      "           90: '945-1641',\n",
      "           91: '513-0044',\n",
      "           92: '1-223-433-5209',\n",
      "           93: '1-672-341-8336',\n",
      "           94: '1-790-135-9618',\n",
      "           95: '1-508-613-2127',\n",
      "           96: '397-3408',\n",
      "           97: '354-7392',\n",
      "           98: '175-7956',\n",
      "           99: '1-893-111-1453'}}\n",
      "Address 60\n",
      "Country 60\n",
      "Email 60\n",
      "Name 60\n",
      "City 60\n",
      "Phone 60\n",
      "60\n"
     ]
    }
   ],
   "source": [
    "# Load Data\n",
    "data_pkl = pickle.load(open(\"data.pkl\", \"rb\"))\n",
    "\n",
    "# Examine Data\n",
    "pprint.pprint(data_pkl)\n",
    "for k,v in data_pkl.items():\n",
    "    print(k, len(v))"
   ]
  },
  {
   "cell_type": "code",
   "execution_count": 59,
   "metadata": {
    "collapsed": false
   },
   "outputs": [
    {
     "name": "stdout",
     "output_type": "stream",
     "text": [
      "['40', 'Garrison Lindsey', '420-1477', 'P.O. Box 466, 7919 In Av.', 'Dunbar', 'Zambia', 'ipsum.ac@quam.net']\n",
      "['41', 'Jenna Mercado', '102-2189', 'P.O. Box 484, 9648 Sit Avenue', 'Pollena Trocchia', 'Burkina Faso', 'Nulla.facilisis.Suspendisse@urnanec.net']\n",
      "['42', 'Drake Savage', '1-790-105-7695', 'P.O. Box 254, 2688 Luctus, Street', 'Hastings', 'Tunisia', 'quis.accumsan.convallis@fringilla.edu']\n",
      "['43', 'Rana Z. Colon', '486-7539', 'Ap #682-9992 Neque Rd.', 'Gespeg', 'Canada', 'rutrum.non.hendrerit@etlacinia.com']\n",
      "['44', 'Melodie Knox', '1-479-861-6093', '245-8811 Ut St.', 'Whitehorse', 'Norway', 'arcu@laciniaorciconsectetuer.ca']\n",
      "['45', 'Cooper T. Horton', '768-1000', 'P.O. Box 383, 139 A Ave', 'Fernie', 'Israel', 'sit@eros.ca']\n",
      "['46', 'Eaton Nelson', '746-8562', '7989 Magna Rd.', 'Ludlow', 'Cocos (Keeling) Islands', 'eu@aenim.ca']\n",
      "['47', 'Lucian W. Lynn', '1-392-783-0634', '7312 Tristique St.', 'Tirrases', 'Western Sahara', 'purus.Duis.elementum@ut.org']\n",
      "['48', 'Sydney Anderson', '1-610-717-0447', 'P.O. Box 720, 9179 Fermentum Street', 'Ingolstadt', 'Saint Vincent and The Grenadines', 'ante.ipsum.primis@ornare.org']\n",
      "['49', 'Jane Joyner', '1-131-574-3183', '200-5702 Mollis St.', 'HavrŽ', 'Austria', 'magna.sed.dui@diamPellentesquehabitant.com']\n",
      "['50', 'Yen P. Browning', '473-1433', 'Ap #221-1593 Fringilla St.', 'Gentbrugge', 'Isle of Man', 'enim@nuncinterdum.edu']\n",
      "['51', 'Katell Simmons', '1-647-852-3590', 'P.O. Box 133, 5382 Enim Ave', 'Rionero in Vulture', 'Hong Kong', 'dui.lectus@erat.org']\n",
      "['52', 'Freya B. Fischer', '514-9914', 'Ap #869-5869 Neque Avenue', 'Pudahuel', 'Rwanda', 'Cras@dictumeu.org']\n",
      "['53', 'Rama W. Mack', '1-849-217-6292', '2992 Vitae Rd.', 'Moricone', 'Jamaica', 'neque.vitae@nullamagna.edu']\n",
      "['54', 'Lawrence Z. Carrillo', '352-3711', '6427 Eros Avenue', 'Northumberland', 'Latvia', 'Integer.vitae@arcu.org']\n",
      "['55', 'Quyn Serrano', '1-450-807-5530', 'P.O. Box 133, 6862 Diam Road', 'Lagonegro', 'Ireland', 'tincidunt@egestasadui.co.uk']\n",
      "['56', 'Indira L. Mccormick', '1-330-764-3846', 'P.O. Box 679, 7373 Mollis Ave', 'Rampur', 'Saint Pierre and Miquelon', 'eleifend@purus.ca']\n",
      "['57', 'Rina W. Harris', '760-1654', 'P.O. Box 642, 2289 Volutpat. Street', 'Dolceacqua', 'Ghana', 'eget.venenatis.a@Curae.com']\n",
      "['58', 'Cherokee George', '1-722-165-1370', '221-3908 Pellentesque Av.', 'Ourense', 'Ukraine', 'amet.risus@risusaultricies.co.uk']\n",
      "['59', 'Michael Riddle', '476-0145', '581-1223 Aliquam Rd.', 'Logan City', 'Guatemala', 'In@ornarelectusjusto.net']\n",
      "['60', 'Kay Rice', '477-5481', '2398 Lectus, Road', 'Rutten', 'Isle of Man', 'ornare@egestas.co.uk']\n",
      "['61', 'Arden Leonard', '383-6541', '1274 Nullam St.', 'Esslingen', 'Italy', 'pede.Suspendisse.dui@ullamcorper.ca']\n",
      "['62', 'Chantale Sharpe', '1-600-834-9076', '1229 Nisl. Av.', 'Windsor', 'Mauritius', 'Suspendisse.commodo.tincidunt@placerat.ca']\n",
      "['63', 'Calvin Herman', '1-461-665-6848', '263-4846 Sed St.', 'Castel Maggiore', 'Romania', 'iaculis.lacus@ipsumprimis.com']\n",
      "['64', 'Walter R. Gaines', '370-5831', '3247 Parturient Ave', 'Kitchener', 'Niger', 'sit@risusDonec.net']\n",
      "['65', 'Berk Finley', '1-765-752-4793', '6138 Faucibus Ave', 'Cavallino', 'Chile', 'sapien.molestie@nonbibendum.edu']\n",
      "['66', 'Timothy Chambers', '819-2872', '865-2066 Vel Rd.', 'Dordrecht', 'Egypt', 'purus.sapien@odioAliquamvulputate.edu']\n",
      "['67', 'Ariana M. Olson', '447-5000', '173-4952 Pede, Avenue', 'Zwevegem', 'Dominican Republic', 'augue.malesuada@magnisdisparturient.co.uk']\n",
      "['68', 'Mason E. Kelly', '1-896-767-7525', '593 Turpis. Av.', 'Fraser-Fort George', 'Uganda', 'Maecenas.mi@tortordictumeu.org']\n",
      "['69', 'Keane Stein', '457-2683', '567-6664 Egestas St.', 'Burgos', 'Turks and Caicos Islands', 'rhoncus.Donec@placerataugueSed.com']\n",
      "['70', 'Ginger Morse', '1-228-310-1687', 'P.O. Box 618, 8055 Integer St.', 'Bosa', 'Anguilla', 'in@eratEtiam.net']\n",
      "['71', 'Maggy Cotton', '1-541-405-3049', '7304 Euismod Avenue', 'Sommariva Perno', 'Kyrgyzstan', 'amet@facilisisvitae.ca']\n",
      "['72', 'Talon R. May', '143-7688', '890-4439 Varius. Avenue', 'Richmond', 'Turkmenistan', 'sit.amet.nulla@orciluctus.org']\n",
      "['73', 'Devin L. Boone', '1-132-242-8605', '1488 Dignissim Ave', 'Teruel', 'Switzerland', 'nec.tempus.scelerisque@ettristiquepellentesque.ca']\n",
      "['74', 'Orli E. Baxter', '371-7491', '1506 Egestas Rd.', 'Piła', 'Croatia', 'eget.tincidunt@Curabiturvellectus.net']\n",
      "['75', 'Wing Velazquez', '354-5776', '859-3576 Tincidunt Street', 'Oostkamp', 'Mayotte', 'consequat.nec.mollis@vitaeodiosagittis.edu']\n",
      "['76', 'Inez Simon', '461-0691', 'Ap #788-4701 Aliquet St.', 'Chaitén', 'Antigua and Barbuda', 'laoreet@magnaUt.org']\n",
      "['77', 'Kyle Leonard', '179-3944', '685-2553 Ultrices Avenue', 'Placilla', 'Botswana', 'Ut.nec@pedeSuspendissedui.edu']\n",
      "['78', 'Selma Christensen', '978-6407', 'Ap #595-189 Malesuada Road', 'Mira Bhayandar', 'Montserrat', 'ut@Maecenasiaculis.co.uk']\n",
      "['79', 'Gwendolyn Crosby', '692-9172', '997 Posuere Rd.', 'San Miguel', 'Albania', 'molestie.orci.tincidunt@feugiat.org']\n",
      "['80', 'Gary Alvarez', '1-692-738-4449', 'Ap #890-8397 Euismod Ave', 'Westende', 'Dominican Republic', 'Donec@consequat.co.uk']\n",
      "['81', 'Knox L. Cash', '535-9704', 'P.O. Box 469, 4278 Condimentum Rd.', 'Gönen', 'American Samoa', 'nunc@erat.co.uk']\n",
      "['82', 'Drake P. Guerrero', '250-6382', '6247 Aliquet Av.', 'Caerphilly', 'Guyana', 'Maecenas@temporaugueac.com']\n",
      "['83', 'Blossom Chandler', '142-2607', '7121 Diam. Rd.', 'Illapel', 'Czech Republic', 'in@est.ca']\n",
      "['84', 'Joan O. Ingram', '1-889-203-6592', '8198 Curae; Av.', 'Baton Rouge', 'Wallis and Futuna', 'Suspendisse@lectusNullam.co.uk']\n",
      "['85', 'Buffy R. Austin', '413-3678', '203-4493 A Road', 'Herentals', 'Iraq', 'nulla.ante@purus.net']\n",
      "['86', 'Yoko M. Mcgowan', '1-731-637-5890', 'P.O. Box 881, 7563 Nisl. Av.', 'Bihain', 'Guinea', 'lobortis.mauris.Suspendisse@seddolor.org']\n",
      "['87', 'Walker Q. Wolfe', '1-240-595-6907', '482-4531 Mauris Rd.', 'Schepdaal', 'Moldova', 'vitae@miac.edu']\n",
      "['88', 'Blake Cross', '979-7498', 'Ap #678-3509 Nascetur Av.', 'Albany', 'Sint Maarten', 'vel.venenatis.vel@orcilobortis.net']\n",
      "['89', 'Naida Guthrie', '1-138-699-9182', 'P.O. Box 656, 5397 Gravida. Ave', 'Tulita', 'Sudan', 'sit.amet@tinciduntvehicularisus.org']\n",
      "['90', 'Yardley Singleton', '945-1641', 'Ap #815-7648 Non Rd.', 'Duffel', 'Botswana', 'adipiscing@Duisdignissimtempor.com']\n",
      "['91', 'Lenore M. Boyer', '513-0044', 'Ap #836-7039 Lorem Avenue', 'Attimis', 'Venezuela', 'semper.dui.lectus@rutrumnon.com']\n",
      "['92', 'Edan Cortez', '1-223-433-5209', '159-6608 Eu, St.', 'High Level', 'Algeria', 'Mauris.vestibulum.neque@odio.ca']\n",
      "['93', 'Quintessa T. Martinez', '1-672-341-8336', '8916 Pede St.', 'Rothesay', 'Tajikistan', 'consectetuer@inmagnaPhasellus.edu']\n",
      "['94', 'Reuben Skinner', '1-790-135-9618', 'Ap #810-9918 Enim Street', 'Essex', 'Bahamas', 'eu.metus.In@magnis.edu']\n",
      "['95', 'Yoshio Leblanc', '1-508-613-2127', '177-9263 Vitae Ave', 'Redwater', 'Bahamas', 'euismod.est@cursusinhendrerit.edu']\n",
      "['96', 'Rebecca French', '397-3408', '870-7596 Eros Rd.', 'Pocatello', 'Northern Mariana Islands', 'orci.Phasellus@enim.org']\n",
      "['97', 'Shana K. Kerr', '354-7392', 'Ap #215-8596 Cursus Ave', 'Toronto', 'Estonia', 'augue@vitae.edu']\n",
      "['98', 'Gemma Leonard', '175-7956', 'P.O. Box 634, 4298 Elit. Rd.', 'Cuccaro Vetere', 'Saudi Arabia', 'mi.lorem@Maurismolestie.co.uk']\n",
      "['99', 'Adara Estrada', '1-893-111-1453', '624-5679 Nulla. Rd.', 'Gijzelbrechtegem', 'Kyrgyzstan', 'faucibus.ut.nulla@dapibus.ca']\n"
     ]
    }
   ],
   "source": [
    "# Append Data\n",
    "for x in range(40,100):\n",
    "    newline = [str(x), data_pkl['Name'][x], data_pkl['Phone'][x], data_pkl['Address'][x], \n",
    "           data_pkl['City'][x], data_pkl['Country'][x], data_pkl['Email'][x]]\n",
    "    print(newline)\n",
    "    dataset.append(newline)"
   ]
  },
  {
   "cell_type": "code",
   "execution_count": 64,
   "metadata": {
    "collapsed": false
   },
   "outputs": [
    {
     "name": "stdout",
     "output_type": "stream",
     "text": [
      "101\n",
      "7 7 7 7 7 7 7 7 7 7 7 7 7 7 7 7 7 7 7 7 7 7 7 7 7 7 7 7 7 7 7 7 7 7 7 7 7 7 7 7 7 7 7 7 7 7 7 7 7 7 7 7 7 7 7 7 7 7 7 7 7 7 7 7 7 7 7 7 7 7 7 7 7 7 7 7 7 7 7 7 7 7 7 7 7 7 7 7 7 7 7 7 7 7 7 7 7 7 7 7 7 "
     ]
    }
   ],
   "source": [
    "# Final Checks - Should be 101 records (header + 100)\n",
    "print(len(dataset))\n",
    "# Make sure all rows have 7 enteries\n",
    "for row in dataset:\n",
    "    print(len(row),end=' ')"
   ]
  },
  {
   "cell_type": "markdown",
   "metadata": {},
   "source": [
    "## 1. What are the unique countries in the dataset?\n"
   ]
  },
  {
   "cell_type": "code",
   "execution_count": 89,
   "metadata": {
    "collapsed": false
   },
   "outputs": [
    {
     "name": "stdout",
     "output_type": "stream",
     "text": [
      "['', 'Name', 'Phone', 'Address', 'City', 'Country', 'Email']\n",
      "\n",
      "{'Venezuela', 'Nauru', 'Dominica', 'Norway', 'Isle of Man', 'Sint Maarten', 'Mayotte', 'Switzerland', 'Lesotho', 'Bahamas', 'Turks and Caicos Islands', 'Ireland', 'Wallis and Futuna', 'Tajikistan', 'Canada', 'Malawi', 'Macao', 'Niger', 'Iraq', 'Austria', 'Cambodia', 'Zambia', 'Czech Republic', 'Jamaica', 'Slovakia', 'Moldova', 'Taiwan', 'Qatar', 'Kyrgyzstan', 'Uruguay', 'Indonesia', 'Mauritius', 'Antigua and Barbuda', 'Egypt', 'Guyana', 'Western Sahara', 'Guatemala', 'Botswana', 'Uganda', 'Togo', 'Croatia', 'Algeria', 'Latvia', 'Palestine, State of', 'Bonaire, Sint Eustatius and Saba', 'Saint Vincent and The Grenadines', 'Afghanistan', 'Israel', 'Marshall Islands', 'Faroe Islands', 'Italy', 'Turkmenistan', 'Estonia', 'Iran', 'Ghana', 'Morocco', 'Tunisia', 'Cayman Islands', 'Burkina Faso', 'Holy See (Vatican City State)', 'Dominican Republic', 'American Samoa', 'South Georgia and The South Sandwich Islands', 'Northern Mariana Islands', 'Kuwait', 'Ukraine', 'France', 'Samoa', 'Congo (Brazzaville)', 'Anguilla', 'Somalia', 'United States', 'Saint Pierre and Miquelon', 'Cocos (Keeling) Islands', 'Eritrea', 'Montserrat', 'Chile', 'Guinea', 'Saudi Arabia', 'Hong Kong', 'Rwanda', 'Romania', 'Albania', 'Sudan'}\n",
      "84\n"
     ]
    }
   ],
   "source": [
    "## Check Variable Positions\n",
    "print(dataset[0])\n",
    "print()\n",
    "\n",
    "## Extract Countries into a Set, which removes duplicates automatically\n",
    "question_1 = {row[5] for row in dataset[1:]}\n",
    "print(question_1)\n",
    "print(len(question_1))"
   ]
  },
  {
   "cell_type": "markdown",
   "metadata": {},
   "source": [
    "## 2. What are the unique email domains in the dataset?\n"
   ]
  },
  {
   "cell_type": "code",
   "execution_count": 88,
   "metadata": {
    "collapsed": false
   },
   "outputs": [
    {
     "name": "stdout",
     "output_type": "stream",
     "text": [
      "rutrum.magna.Cras@eudolor.edu\n",
      "17\n",
      "eudolor.edu\n",
      "\n",
      "{'arcu.org', 'erat.co.uk', 'anteblanditviverra.co.uk', 'convallisdolor.co.uk', 'urnanec.net', 'ametrisus.com', 'miac.edu', 'erat.org', 'egestas.net', 'facilisisvitae.ca', 'aenim.ca', 'consectetuercursuset.org', 'risusaultricies.co.uk', 'Curae.com', 'ornare.org', 'dictumeu.org', 'enim.org', 'tinciduntaliquamarcu.com', 'Namligula.edu', 'Lorem.net', 'quam.net', 'arcuVestibulumante.org', 'tinciduntpedeac.com', 'cursuset.net', 'ullamcorper.co.uk', 'ornarelectusjusto.net', 'nuncinterdum.edu', 'Suspendisse.co.uk', 'purus.ca', 'ut.org', 'Maurismolestie.co.uk', 'Aenean.edu', 'ettristiquepellentesque.ca', 'eudolor.edu', 'maurisipsum.edu', 'vitae.edu', 'Curabiturvellectus.net', 'Aliquamfringilla.com', 'est.ca', 'Duisdignissimtempor.com', 'purus.net', 'etlacinia.com', 'temporaugueac.com', 'suscipitest.ca', 'nullamagna.edu', 'laciniaorciconsectetuer.ca', 'lectusNullam.co.uk', 'cursusinhendrerit.edu', 'duinecurna.org', 'liberoDonec.net', 'dapibus.ca', 'orciluctus.org', 'ultrices.org', 'fermentumarcu.edu', 'seddolor.org', 'velesttempor.edu', 'quis.ca', 'interdumfeugiatSed.edu', 'ullamcorper.ca', 'euultrices.co.uk', 'Maecenasiaculis.co.uk', 'risusDonec.net', 'rutrumnon.com', 'blanditatnisi.ca', 'magnisdisparturient.co.uk', 'vitaeodiosagittis.edu', 'nectellusNunc.net', 'fringilla.edu', 'egestasadui.co.uk', 'Quisqueimperdiet.ca', 'feugiat.org', 'Phasellusdapibus.edu', 'vitaeeratVivamus.net', 'posuereat.net', 'consequat.co.uk', 'sedsapien.ca', 'diamPellentesquehabitant.com', 'pedeSuspendissedui.edu', 'odioAliquamvulputate.edu', 'inmagnaPhasellus.edu', 'ligulaelitpretium.org', 'tortordictumeu.org', 'malesuadamalesuadaInteger.ca', 'orcilobortis.net', 'ipsumprimis.com', 'eratEtiam.net', 'consequat.com', 'magna.com', 'nonbibendum.edu', 'egestas.co.uk', 'magnaUt.org', 'tinciduntvehicularisus.org', 'placerataugueSed.com', 'magnis.edu', 'Sedpharetrafelis.org', 'odio.ca', 'nisi.co.uk', 'placerat.ca', 'dui.co.uk', 'eros.ca'}\n",
      "100\n"
     ]
    }
   ],
   "source": [
    "## Practice extracting everything after the '@' symbol\n",
    "print(dataset[1][6])\n",
    "print(dataset[1][6].index('@'))\n",
    "print(dataset[1][6][dataset[1][6].index('@') + 1:])\n",
    "print()\n",
    "\n",
    "## extract the domain for each user, and put it into a set to find uniques\n",
    "question_2 = {row[6][row[6].index('@') + 1:] for row in dataset[1:]}\n",
    "print(question_2)\n",
    "print(len(question_2))"
   ]
  },
  {
   "cell_type": "markdown",
   "metadata": {},
   "source": [
    "## 3. What are the first names of everyone that does not have a P.O. Box address?\n"
   ]
  },
  {
   "cell_type": "code",
   "execution_count": 96,
   "metadata": {
    "collapsed": false
   },
   "outputs": [
    {
     "name": "stdout",
     "output_type": "stream",
     "text": [
      "['', 'Name', 'Phone', 'Address', 'City', 'Country', 'Email']\n",
      "['144-1225 In Road', 'Ap #909-6656 Ac St.', 'P.O. Box 441, 6183 Ligula St.', '305-496 Morbi Rd.', '7058 Dapibus St.', '421-5501 Cursus. St.', 'Ap #481-6631 Vehicula Rd.', 'P.O. Box 575, 4033 Mi St.', 'Ap #763-5990 Nec, Av.', 'Ap #841-1623 Vitae Avenue', '9269 Libero Ave', 'P.O. Box 677, 2311 Aliquet. Road', '7438 Amet, Rd.', 'P.O. Box 432, 9085 Nulla Ave', '1768 Magna. Road', 'P.O. Box 497, 8354 Habitant St.', '217-9163 Lobortis Road', 'Ap #929-9420 Vivamus Rd.', '910-8300 Varius Rd.', '7458 Sapien. St.', '916-8087 Vehicula Rd.', '878-2231 Suspendisse Rd.', 'P.O. Box 572, 7680 Ullamcorper Ave', '563-4105 Donec Avenue', '462-2112 In Rd.', '420-7327 Facilisis Street', '561-7476 Eget St.', '1247 Nonummy Rd.', 'Ap #603-3303 Libero. St.', 'P.O. Box 975, 4593 Ante. Street', '3696 Augue Ave', 'P.O. Box 365, 6109 Metus. Rd.', 'Ap #861-8699 Non Ave', '371-7266 Tortor Avenue', '4167 Nunc Ave', 'Ap #302-2966 Cum Av.', 'Ap #275-2917 Curabitur Rd.', '6930 Duis Road', '1511 Lobortis Ave', 'Ap #711-213 Sagittis Avenue', 'P.O. Box 466, 7919 In Av.', 'P.O. Box 484, 9648 Sit Avenue', 'P.O. Box 254, 2688 Luctus, Street', 'Ap #682-9992 Neque Rd.', '245-8811 Ut St.', 'P.O. Box 383, 139 A Ave', '7989 Magna Rd.', '7312 Tristique St.', 'P.O. Box 720, 9179 Fermentum Street', '200-5702 Mollis St.', 'Ap #221-1593 Fringilla St.', 'P.O. Box 133, 5382 Enim Ave', 'Ap #869-5869 Neque Avenue', '2992 Vitae Rd.', '6427 Eros Avenue', 'P.O. Box 133, 6862 Diam Road', 'P.O. Box 679, 7373 Mollis Ave', 'P.O. Box 642, 2289 Volutpat. Street', '221-3908 Pellentesque Av.', '581-1223 Aliquam Rd.', '2398 Lectus, Road', '1274 Nullam St.', '1229 Nisl. Av.', '263-4846 Sed St.', '3247 Parturient Ave', '6138 Faucibus Ave', '865-2066 Vel Rd.', '173-4952 Pede, Avenue', '593 Turpis. Av.', '567-6664 Egestas St.', 'P.O. Box 618, 8055 Integer St.', '7304 Euismod Avenue', '890-4439 Varius. Avenue', '1488 Dignissim Ave', '1506 Egestas Rd.', '859-3576 Tincidunt Street', 'Ap #788-4701 Aliquet St.', '685-2553 Ultrices Avenue', 'Ap #595-189 Malesuada Road', '997 Posuere Rd.', 'Ap #890-8397 Euismod Ave', 'P.O. Box 469, 4278 Condimentum Rd.', '6247 Aliquet Av.', '7121 Diam. Rd.', '8198 Curae; Av.', '203-4493 A Road', 'P.O. Box 881, 7563 Nisl. Av.', '482-4531 Mauris Rd.', 'Ap #678-3509 Nascetur Av.', 'P.O. Box 656, 5397 Gravida. Ave', 'Ap #815-7648 Non Rd.', 'Ap #836-7039 Lorem Avenue', '159-6608 Eu, St.', '8916 Pede St.', 'Ap #810-9918 Enim Street', '177-9263 Vitae Ave', '870-7596 Eros Rd.', 'Ap #215-8596 Cursus Ave', 'P.O. Box 634, 4298 Elit. Rd.', '624-5679 Nulla. Rd.']\n"
     ]
    }
   ],
   "source": [
    "# Because the dataset is small, we can manually examine to find out the differnet ways that P.O. Boxes are referenced\n",
    "print(dataset[0])\n",
    "print([row[3] for row in dataset[1:]])"
   ]
  },
  {
   "cell_type": "code",
   "execution_count": 98,
   "metadata": {
    "collapsed": false
   },
   "outputs": [
    {
     "name": "stdout",
     "output_type": "stream",
     "text": [
      "['144-1225 In Road', 'Ap #909-6656 Ac St.', '305-496 Morbi Rd.', '7058 Dapibus St.', '421-5501 Cursus. St.', 'Ap #481-6631 Vehicula Rd.', 'Ap #763-5990 Nec, Av.', 'Ap #841-1623 Vitae Avenue', '9269 Libero Ave', '7438 Amet, Rd.', '1768 Magna. Road', '217-9163 Lobortis Road', 'Ap #929-9420 Vivamus Rd.', '910-8300 Varius Rd.', '7458 Sapien. St.', '916-8087 Vehicula Rd.', '878-2231 Suspendisse Rd.', '563-4105 Donec Avenue', '462-2112 In Rd.', '420-7327 Facilisis Street', '561-7476 Eget St.', '1247 Nonummy Rd.', 'Ap #603-3303 Libero. St.', '3696 Augue Ave', 'Ap #861-8699 Non Ave', '371-7266 Tortor Avenue', '4167 Nunc Ave', 'Ap #302-2966 Cum Av.', 'Ap #275-2917 Curabitur Rd.', '6930 Duis Road', '1511 Lobortis Ave', 'Ap #711-213 Sagittis Avenue', 'Ap #682-9992 Neque Rd.', '245-8811 Ut St.', '7989 Magna Rd.', '7312 Tristique St.', '200-5702 Mollis St.', 'Ap #221-1593 Fringilla St.', 'Ap #869-5869 Neque Avenue', '2992 Vitae Rd.', '6427 Eros Avenue', '221-3908 Pellentesque Av.', '581-1223 Aliquam Rd.', '2398 Lectus, Road', '1274 Nullam St.', '1229 Nisl. Av.', '263-4846 Sed St.', '3247 Parturient Ave', '6138 Faucibus Ave', '865-2066 Vel Rd.', '173-4952 Pede, Avenue', '593 Turpis. Av.', '567-6664 Egestas St.', '7304 Euismod Avenue', '890-4439 Varius. Avenue', '1488 Dignissim Ave', '1506 Egestas Rd.', '859-3576 Tincidunt Street', 'Ap #788-4701 Aliquet St.', '685-2553 Ultrices Avenue', 'Ap #595-189 Malesuada Road', '997 Posuere Rd.', 'Ap #890-8397 Euismod Ave', '6247 Aliquet Av.', '7121 Diam. Rd.', '8198 Curae; Av.', '203-4493 A Road', '482-4531 Mauris Rd.', 'Ap #678-3509 Nascetur Av.', 'Ap #815-7648 Non Rd.', 'Ap #836-7039 Lorem Avenue', '159-6608 Eu, St.', '8916 Pede St.', 'Ap #810-9918 Enim Street', '177-9263 Vitae Ave', '870-7596 Eros Rd.', 'Ap #215-8596 Cursus Ave', '624-5679 Nulla. Rd.']\n"
     ]
    }
   ],
   "source": [
    "# Okay. 'P.O. Box' is one match. Let's strip those out and see what else remains\n",
    "print([row[3] for row in dataset[1:] if 'P.O. Box' not in row[3]])\n",
    "# It looks like there are no other representations of P.O. Box in the data!"
   ]
  },
  {
   "cell_type": "code",
   "execution_count": 102,
   "metadata": {
    "collapsed": false
   },
   "outputs": [
    {
     "name": "stdout",
     "output_type": "stream",
     "text": [
      "['Hillary', 'Morgan', 'Alexandra', 'Hanae', 'Jescie', 'Kessie', 'Flynn', 'Charles', 'Cairo', 'Thane', 'Genevieve', 'Tatyana', 'Meredith', 'Rajah', 'Gabriel', 'Paul', 'Brynne', 'Chloe', 'Zachery', 'Casey', 'Cole', 'Tara', 'Malik', 'Colby', 'Cameron', 'Gail', 'Harding', 'Idona', 'Warren', 'Clayton', 'Alana', 'Mason', 'Rana', 'Melodie', 'Eaton', 'Lucian', 'Jane', 'Yen', 'Freya', 'Rama', 'Lawrence', 'Cherokee', 'Michael', 'Kay', 'Arden', 'Chantale', 'Calvin', 'Walter', 'Berk', 'Timothy', 'Ariana', 'Mason', 'Keane', 'Maggy', 'Talon', 'Devin', 'Orli', 'Wing', 'Inez', 'Kyle', 'Selma', 'Gwendolyn', 'Gary', 'Drake', 'Blossom', 'Joan', 'Buffy', 'Walker', 'Blake', 'Yardley', 'Lenore', 'Edan', 'Quintessa', 'Reuben', 'Yoshio', 'Rebecca', 'Shana', 'Adara']\n"
     ]
    }
   ],
   "source": [
    "# Now we want the first names.  We can actually do this in the same comprehension, but keep row[1] instead of row[3]\n",
    "# Then, keep only the first word in the name\n",
    "question_3 = [row[1].split(' ')[0] for row in dataset[1:] if 'P.O. Box' not in row[3]]\n",
    "print(question_3)"
   ]
  },
  {
   "cell_type": "markdown",
   "metadata": {},
   "source": [
    "## 4. What are the names of the first 5 people when you sort the data by Country?"
   ]
  },
  {
   "cell_type": "code",
   "execution_count": 109,
   "metadata": {
    "collapsed": false
   },
   "outputs": [
    {
     "name": "stdout",
     "output_type": "stream",
     "text": [
      "['', 'Name', 'Phone', 'Address', 'City', 'Country', 'Email']\n",
      "['0', 'Hillary Benton', '1-243-669-7472', '144-1225 In Road', 'Navsari', 'Togo', 'rutrum.magna.Cras@eudolor.edu']\n",
      "['1', 'Morgan Y. Little', '155-3483', 'Ap #909-6656 Ac St.', 'Kitimat', 'Nauru', 'pede.sagittis.augue@quis.ca']\n",
      "['2', 'Camden Z. Blair', '123-5058', 'P.O. Box 441, 6183 Ligula St.', 'Casanova Elvo', 'Palestine, State of', 'consectetuer.rhoncus.Nullam@ultrices.org']\n",
      "['3', 'Alexandra E. Saunders', '1-637-740-7614', '305-496 Morbi Rd.', 'Biggleswade', 'Malawi', 'dui.Fusce@duinecurna.org']\n",
      "['4', 'Hanae P. Walsh', '901-2461', '7058 Dapibus St.', 'Dhuy', 'Qatar', 'Morbi@tinciduntpedeac.com']\n"
     ]
    }
   ],
   "source": [
    "# Here's a printing function just to make things nicer\n",
    "def nice_print(data, rows):\n",
    "    for row in data[:rows]:\n",
    "        print(row)\n",
    "        \n",
    "nice_print(dataset, 6)"
   ]
  },
  {
   "cell_type": "code",
   "execution_count": 127,
   "metadata": {
    "collapsed": false
   },
   "outputs": [
    {
     "name": "stdout",
     "output_type": "stream",
     "text": [
      "['18', 'Rajah Carrillo', '1-576-789-5730', '910-8300 Varius Rd.', 'Bertiolo', 'Afghanistan', 'sapien.gravida.non@cursuset.net']\n",
      "['79', 'Gwendolyn Crosby', '692-9172', '997 Posuere Rd.', 'San Miguel', 'Albania', 'molestie.orci.tincidunt@feugiat.org']\n",
      "['92', 'Edan Cortez', '1-223-433-5209', '159-6608 Eu, St.', 'High Level', 'Algeria', 'Mauris.vestibulum.neque@odio.ca']\n",
      "['81', 'Knox L. Cash', '535-9704', 'P.O. Box 469, 4278 Condimentum Rd.', 'Gönen', 'American Samoa', 'nunc@erat.co.uk']\n",
      "['12', 'Thane Burch', '1-894-978-3696', '7438 Amet, Rd.', 'Algeciras', 'Anguilla', 'lobortis.quis.pede@Namligula.edu']\n",
      "['Rajah Carrillo', 'Gwendolyn Crosby', 'Edan Cortez', 'Knox L. Cash', 'Thane Burch']\n"
     ]
    }
   ],
   "source": [
    "sort_dataset = dataset[1:].copy()\n",
    "sort_dataset.sort(key = lambda x: x[5])\n",
    "nice_print(sort_dataset, 5)\n",
    "\n",
    "question_4 = [row[1] for row in sort_dataset[:5]]\n",
    "print(question_4)"
   ]
  },
  {
   "cell_type": "markdown",
   "metadata": {},
   "source": [
    "\n",
    "## 5. What are the names of the first 5 people when you sort the data by phone number?"
   ]
  },
  {
   "cell_type": "code",
   "execution_count": 129,
   "metadata": {
    "collapsed": false
   },
   "outputs": [
    {
     "name": "stdout",
     "output_type": "stream",
     "text": [
      "['16', 'Tatyana H. French', '1-120-782-6047', '217-9163 Lobortis Road', 'Salles', 'Eritrea', 'Curabitur@magna.com']\n",
      "['49', 'Jane Joyner', '1-131-574-3183', '200-5702 Mollis St.', 'HavrŽ', 'Austria', 'magna.sed.dui@diamPellentesquehabitant.com']\n",
      "['73', 'Devin L. Boone', '1-132-242-8605', '1488 Dignissim Ave', 'Teruel', 'Switzerland', 'nec.tempus.scelerisque@ettristiquepellentesque.ca']\n",
      "['89', 'Naida Guthrie', '1-138-699-9182', 'P.O. Box 656, 5397 Gravida. Ave', 'Tulita', 'Sudan', 'sit.amet@tinciduntvehicularisus.org']\n",
      "[25, 'Casey Mcgowan', '1-155-558-4461', '420-7327 Facilisis Street', 'Pfungstadt', 'Iran', 'tellus.faucibus.leo@Sedpharetrafelis.org']\n",
      "['Tatyana H. French', 'Jane Joyner', 'Devin L. Boone', 'Naida Guthrie', 'Casey Mcgowan']\n"
     ]
    }
   ],
   "source": [
    "sort_dataset = dataset[1:].copy()\n",
    "sort_dataset.sort(key = lambda x: x[2])\n",
    "nice_print(sort_dataset, 5)\n",
    "\n",
    "question_5 = [row[1] for row in sort_dataset[:5]]\n",
    "print(question_5)"
   ]
  },
  {
   "cell_type": "markdown",
   "metadata": {},
   "source": [
    "## Output Results to CSV"
   ]
  },
  {
   "cell_type": "code",
   "execution_count": 133,
   "metadata": {
    "collapsed": true
   },
   "outputs": [],
   "source": [
    "def write_answer(file_name, solution):\n",
    "    with open(file_name,'w') as writefile:\n",
    "        x = csv.writer(writefile)\n",
    "        x.writerow(solution)"
   ]
  },
  {
   "cell_type": "code",
   "execution_count": 135,
   "metadata": {
    "collapsed": true
   },
   "outputs": [],
   "source": [
    "write_answer('question_1.csv', question_1)\n",
    "write_answer('question_2.csv', question_2)\n",
    "write_answer('question_3.csv', question_3)\n",
    "write_answer('question_4.csv', question_4)\n",
    "write_answer('question_5.csv', question_5)"
   ]
  },
  {
   "cell_type": "code",
   "execution_count": null,
   "metadata": {
    "collapsed": true
   },
   "outputs": [],
   "source": []
  }
 ],
 "metadata": {
  "anaconda-cloud": {},
  "kernelspec": {
   "display_name": "Python [default]",
   "language": "python",
   "name": "python3"
  },
  "language_info": {
   "codemirror_mode": {
    "name": "ipython",
    "version": 3
   },
   "file_extension": ".py",
   "mimetype": "text/x-python",
   "name": "python",
   "nbconvert_exporter": "python",
   "pygments_lexer": "ipython3",
   "version": "3.5.2"
  }
 },
 "nbformat": 4,
 "nbformat_minor": 0
}
