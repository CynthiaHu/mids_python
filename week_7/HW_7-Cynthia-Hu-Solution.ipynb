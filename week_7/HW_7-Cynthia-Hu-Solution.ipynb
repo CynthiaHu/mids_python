{
 "cells": [
  {
   "cell_type": "code",
   "execution_count": null,
   "metadata": {
    "collapsed": true
   },
   "outputs": [],
   "source": [
    "# Homework 7 - Fall 2016\n",
    "Assignment due date: Midnight the night before the Week 7 Live Session."
   ]
  },
  {
   "cell_type": "markdown",
   "metadata": {},
   "source": [
    "## Part 1 - Project Proposal\n",
    "Please complete your project proposal, as discussed in class and outlined in the project_1 folder.  You may submit your 1-2 page proposal in a Google Doc or PDF.  Please store your proposal (or a link to it) in the project_1 folder.\n"
   ]
  },
  {
   "cell_type": "markdown",
   "metadata": {},
   "source": [
    "## Part 2 - A Quick Reading\n",
    "\n",
    "Please read the following article and write a couple sentences of reaction. What is the most interesting part?\n",
    "\n",
    "<a href=\"http://programmingisterrible.com/post/139222674273/write-code-that-is-easy-to-delete-not-easy-to\">Write code that is easy to delete, not easy to extend</a> This article is written for you to take an \"architectural\" perspective towards thinking about writing in large code bases. This shouldn't really apply to the work that you are doing now but should provide some food for thought at the very least. Think about his perspective and why he seems to have come to it. Please don't worry about knowing all the terminology or programs/systems that he refers to. I want you to extract what he's trying to say about writing code not the intricacies of the low level systems that is referring to.\n"
   ]
  },
  {
   "cell_type": "markdown",
   "metadata": {},
   "source": [
    "**[Write Response Here]**\n",
    "The article not only refers to deletion but also other changes as well. I agree with the author that we need to have fewer dependencies in our code and have modules so that it's easy for change the codes. That reminds that in my solution to scrabble problem, I only create one function as requested but use normal codes for all other functionalities. Instead, I could improve my codes by create a few more functions and call them in my main script.\n",
    "\n",
    "But I don't understand why we care about the number of lines of codes so much. It should be ok if the codes are efficient and effective. Another concern is that it's great to separate my codes as the scrabble example. But if I don't need to reuse the parts, shall I still need to create functions for various parts. I haven't found clear guidance in the article yet.\n",
    "\n",
    "In all, this article shows a quite different perspective of coding. The architecture or design issue would become more and more important when we work on complex and bigger projects. Anyway, the easier, the better."
   ]
  },
  {
   "cell_type": "markdown",
   "metadata": {},
   "source": [
    "## Part 3 - Building Two Classes\n",
    "\n",
    "Please design two classes in this notebook as follows:\n",
    "\n",
    "1\\. Please create a class called playing_card. This class should have: <br>\n",
    "- An attribute, \"rank\" that takes a value of 2-9, J, Q, K, or A. <br>\n",
    "- An attribute, \"suit\" that takes a value of \"♠\" \"♥\" \"♦\" or \"♣\". <br>\n",
    "- An __init__ function "
   ]
  },
  {
   "cell_type": "code",
   "execution_count": 1,
   "metadata": {
    "collapsed": true
   },
   "outputs": [],
   "source": [
    "class playing_card:\n",
    "    def __init__(self, rank, suit):\n",
    "        if rank not in [str(i) for i in range(2,10)] + ['J','Q','K','A']:\n",
    "            raise Exception('Please specify a value in 2-9, J, Q, K, or A in string format for the rank.')\n",
    "        if suit not in [\"♠\",\"♥\",\"♦\",\"♣\"]:\n",
    "            raise Exception('Please specify a value in \"♠\",\"♥\",\"♦\",\"♣\" for the suit.')   \n",
    "        self.rank = rank\n",
    "        self.suit = suit"
   ]
  },
  {
   "cell_type": "code",
   "execution_count": 2,
   "metadata": {
    "collapsed": false
   },
   "outputs": [
    {
     "name": "stdout",
     "output_type": "stream",
     "text": [
      "2\n",
      "♠\n"
     ]
    }
   ],
   "source": [
    "card=playing_card(\"2\",\"♠\")\n",
    "print(card.rank)\n",
    "print(card.suit)"
   ]
  },
  {
   "cell_type": "markdown",
   "metadata": {},
   "source": [
    "2\\. Please create a class called deck.  This class should have: <br>\n",
    "- An attribute, \"cards\", that holds a list of playing_card objects. <br>\n",
    "- An __init__ function that: <br>\n",
    "    - By default stores a full deck of 52 playing cards (with proper numbers and suits) in the \"cards\" list. <br>\n",
    "    - Allows the user to specify a specific suit.  In this case, the program should only populate the deck with the 13 cards of that suit.\n",
    "    - After the cards object is initialized, call the \"shuffle_deck()\" function (below).<br>\n",
    "    \n",
    "- A \"shuffle_deck()\" function that randomly changes the order of cards in the deck.<br>\n",
    "- A \"deal_card(card_count)\" function that removes the first X cards from the deck and returns them as a list.<br>\n",
    "    - Make sure this function gives an appropriate response when the deck is out of cards."
   ]
  },
  {
   "cell_type": "markdown",
   "metadata": {},
   "source": [
    "3\\. Please write a few lines of code in your notebook to demonstrate that the functions work as expected."
   ]
  },
  {
   "cell_type": "code",
   "execution_count": 17,
   "metadata": {
    "collapsed": false
   },
   "outputs": [],
   "source": [
    "from itertools import product\n",
    "import random\n",
    "\n",
    "# class deck should be subclass of playing_card?\n",
    "class deck(playing_card):\n",
    "    \n",
    "    def __init__(self, suit=None):\n",
    "        rank_list = [str(i) for i in range(2,11)] + ['J','Q','K','A']\n",
    "        suit_list = [\"♠\",\"♥\",\"♦\",\"♣\"]\n",
    "         \n",
    "        if suit == None:\n",
    "            self.cards = [''.join(c) for c in list(product(rank_list,suit_list))]\n",
    "        else:\n",
    "            if suit not in suit_list:\n",
    "                raise Exception('Please specify a value in \"♠\",\"♥\",\"♦\",\"♣\" for the suit.')\n",
    "            self.cards = [''.join(c) for c in list(product(rank_list,suit))]\n",
    "\n",
    "    def shuffle_deck(self, cards):\n",
    "        random.shuffle(cards)\n",
    "        # doesn't need return statement in the function within class definition?\n",
    "        #return cards\n",
    "        \n",
    "    def deal_card(self, cards, card_count):\n",
    "        self.removed = []\n",
    "        if card_count > len(self.cards):\n",
    "            raise Exception(\"The desk is out of cards.\")\n",
    "        self.removed.extend(self.cards[0:card_count])\n",
    "        del self.cards[0:card_count]"
   ]
  },
  {
   "cell_type": "code",
   "execution_count": 18,
   "metadata": {
    "collapsed": false
   },
   "outputs": [
    {
     "name": "stdout",
     "output_type": "stream",
     "text": [
      "Shuffled card list: \n",
      " ['8♥', 'K♥', 'J♥', '4♣', '8♦', '5♦', '2♥', '2♣', 'Q♣', 'K♣', 'A♥', '10♥', '10♦', '9♥', 'A♣', 'A♠', '7♥', 'A♦', '3♦', '9♦', '8♠', '9♣', '7♦', '7♣', '4♥', '10♣', 'K♦', '5♠', 'Q♥', '3♥', '10♠', '3♣', '4♠', 'J♣', '6♦', '2♠', '4♦', '6♣', '6♠', '9♠', '6♥', '2♦', 'Q♠', 'Q♦', 'J♦', '5♥', 'J♠', '7♠', 'K♠', '5♣', '3♠', '8♣']\n",
      "The remaining card list is: \n",
      " ['5♦', '2♥', '2♣', 'Q♣', 'K♣', 'A♥', '10♥', '10♦', '9♥', 'A♣', 'A♠', '7♥', 'A♦', '3♦', '9♦', '8♠', '9♣', '7♦', '7♣', '4♥', '10♣', 'K♦', '5♠', 'Q♥', '3♥', '10♠', '3♣', '4♠', 'J♣', '6♦', '2♠', '4♦', '6♣', '6♠', '9♠', '6♥', '2♦', 'Q♠', 'Q♦', 'J♦', '5♥', 'J♠', '7♠', 'K♠', '5♣', '3♠', '8♣']\n",
      "The removed cards are: \n",
      " ['8♥', 'K♥', 'J♥', '4♣', '8♦']\n"
     ]
    }
   ],
   "source": [
    "# deck1 not specified suit, thus by default has 52 cards\n",
    "deck1=deck()\n",
    "# why cannot just use cards as argument for the deck1.shuffle_deck() function but deck1.cards?\n",
    "deck1.shuffle_deck(deck1.cards)\n",
    "print(\"Shuffled card list: \\n\",deck1.cards)\n",
    "deck1.deal_card(deck1.cards,5)\n",
    "print(\"The remaining card list is: \\n\",deck1.cards)\n",
    "print(\"The removed cards are: \\n\",deck1.removed)"
   ]
  },
  {
   "cell_type": "code",
   "execution_count": 24,
   "metadata": {
    "collapsed": false
   },
   "outputs": [
    {
     "name": "stdout",
     "output_type": "stream",
     "text": [
      "original card list is: \n",
      " ['2♥', '3♥', '4♥', '5♥', '6♥', '7♥', '8♥', '9♥', '10♥', 'J♥', 'Q♥', 'K♥', 'A♥']\n",
      "Shuffled card list: \n",
      " ['J♥', '9♥', 'K♥', 'Q♥', '7♥', '5♥', '6♥', '10♥', 'A♥', '3♥', '8♥', '4♥', '2♥']\n",
      "The remaining card list is: \n",
      " ['5♥', '6♥', '10♥', 'A♥', '3♥', '8♥', '4♥', '2♥']\n",
      "The removed cards are: \n",
      " ['J♥', '9♥', 'K♥', 'Q♥', '7♥']\n"
     ]
    }
   ],
   "source": [
    "# specify a suit\n",
    "deck2=deck(\"♥\")\n",
    "print(\"original card list is: \\n\",deck2.cards)\n",
    "deck2.shuffle_deck(deck2.cards)\n",
    "print(\"Shuffled card list: \\n\",deck2.cards)\n",
    "deck2.deal_card(deck2.cards,5)\n",
    "print(\"The remaining card list is: \\n\",deck2.cards)\n",
    "print(\"The removed cards are: \\n\",deck2.removed)"
   ]
  }
 ],
 "metadata": {
  "anaconda-cloud": {},
  "kernelspec": {
   "display_name": "Python [Root]",
   "language": "python",
   "name": "Python [Root]"
  },
  "language_info": {
   "codemirror_mode": {
    "name": "ipython",
    "version": 3
   },
   "file_extension": ".py",
   "mimetype": "text/x-python",
   "name": "python",
   "nbconvert_exporter": "python",
   "pygments_lexer": "ipython3",
   "version": "3.5.2"
  }
 },
 "nbformat": 4,
 "nbformat_minor": 0
}
