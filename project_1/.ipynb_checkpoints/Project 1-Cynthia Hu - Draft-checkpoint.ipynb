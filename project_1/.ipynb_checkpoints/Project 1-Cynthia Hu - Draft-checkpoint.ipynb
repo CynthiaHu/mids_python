{
 "cells": [
  {
   "cell_type": "markdown",
   "metadata": {},
   "source": [
    "# Project 1: \n",
    "\n",
    "The upcoming project as stated in the syllabus is an individual project that will focus on the object-oriented principles that we have covered (and will cover) in class. You will be implementing a small, object-oriented project of your choosing.\n",
    "\n",
    "Examples might include:\n",
    "\n",
    "- An ATM (down to handling checks/cash/deposits etc)\n",
    "- A flower shop (you create and manage inventory, a simple cash register, etc.)\n",
    "- An adventure game where characters can do things like explore a world trade with other characters and have some element of chance in how they navigate the world\n",
    "- Something relating to your everyday work, maybe some process you would like to model or code up\n",
    "\n",
    "Your project should implement object oriented principles and should be interactive so that one can play around with it. Your assignment is to write up a one page design document detailing the project you will be working on over the next several weeks. This is essentially building out the requirements for your project. **Before you begin coding you need to get approval from Gunnar or Chris that your project is scoped well enough.** \n",
    "\n",
    "\n",
    "## Project Phases\n",
    "\n",
    "This assignment will be completed in 3 parts:\n",
    "\n",
    "- Week 1: [Optional] Project Design Document - Rough Idea\n",
    "    - Feel free to email Chris or Gunnar your project idea (a paragraph or two) for email feedback.\n",
    "- Week 2: Begin Coding, Finalize Design Document (due 10/18)\n",
    "    - Live session 5 will include breakout rooms where you share code and get peer/teacher feedback\n",
    "- Weeks 3&4: Project due when class starts (due 11/1) \n",
    "    - Projects should be complete prior to class, but students will be allowed to update their projects for the next 24 hours after to make adjustments as needed based on class feedback.\n",
    "\n",
    "\n",
    "## What should go in the design document:\n",
    "\n",
    "In this document, you can write a specification of the classes you want to write and what you intend to implement. You should not be writing any code at this point (as we haven't approved the project) although you may do some degree of pseudo-code. You can model the program structure by saying what classes you think you're going to implement and how the user will interact with it. Also include the features that you're going to include in the project and why you think it should be of sufficient complexity to meet the project goals.\n",
    "\n",
    "A final version of your design document is due via your GitHub project_1 folder by 10/18.\n",
    "\n",
    "\n",
    "## Assignment Breakdown\n",
    "\n",
    "This is a personal exercise to stretch your own limits and exercise your own creativity. While students come from diverse backgrounds, we feel that the entire class is ready for the challenge. As mentioned above we will provide one on one feedback from the instructors and you will also work with your peers to sketch through your ideas and organizational structure in class.\n",
    "\n",
    "We will allow for rolling design documentation submissions over the course of the next week, please keep a copy in your github as well as submit through the ISVC when you're ready for us to review it. We will do out best to get back to you as soon as possible. This is not a requirement, just available for those that want some feedback earlier rather than later.\n",
    "\n",
    "\n",
    "## Requirements & Limits\n",
    "\n",
    "You should aim for around 300 to 500 lines of code. You will not be graded on the number of lines of code you write nor will this be a comparison of projects implemented by your peers. For example, a project with 500 lines of code is not guaranteed to do better than a project with 300 lines of code. As we've seen, it's not necessarily the number of lines, it's the value in those lines. Being concise is a good thing and if you're at all worried that you're not going to hit that *soft* requirement please let us know.\n",
    "\n",
    "- This project must not exceed 750 lines of code\n",
    "- You are not likely to need more than 10 classes\n",
    "- You may **not** use anything outside of the standard library. Please include all references that you used to build out your application.\n",
    "- Included with the code you should do a ~one page write up of what you completed, any you challenges you faced, as well as how we should go about testing and using your project."
   ]
  },
  {
   "cell_type": "code",
   "execution_count": 84,
   "metadata": {
    "collapsed": false
   },
   "outputs": [],
   "source": [
    "# which class shall i add __init__? instance attribute need __init__; class attribute doesn't\n",
    "# product class is for the products offered by the coffee shop which has attributes of name and price and order method\n",
    "class product:\n",
    "    ordered = {}\n",
    "    amount = 0\n",
    "    def __init__(self, name, price, quantity):\n",
    "        self.name = name # for the ordered products\n",
    "        self.price = price # price should not be user input but a given dictionary\n",
    "        self.quantity = quantity\n",
    "        self.amount = self.price * self.quantity    \n",
    "        self.ordered ={'name': self.name, 'quantity': self.quantity, 'amount': self.amount}\n",
    "    \n",
    "    def get_order(self):\n",
    "        return self.ordered\n",
    "    \n",
    "# product class is also parent class for coffee and dessert classes as coffee and dessert are two categories of products offered;\n",
    "# though they share some attributes and method, coffee and dessert products can have different attributes.\n",
    "# coffee class has size and flavor attributes\n",
    "class coffee(product):\n",
    "\n",
    "    def __init__(self, name, price, quantity, size=None, flavor=None):\n",
    "        super().__init__(name, price, quantity)\n",
    "        self.size = size\n",
    "        self.flavor = flavor\n",
    "    def get_size(self):\n",
    "        return self.size\n",
    "\n",
    "    def get_flavor(self):\n",
    "        return self.flavor\n",
    "\n",
    "    # no need of dessert class for now\n",
    "#class dessert(product):\n",
    "    #def order(self):\n",
    "        # return the total price for the dessert ordered\n",
    "        #super().order()\n",
    "\n",
    "# payment class is for customers' payment option, like cash, credit/debit card and points and has pay method\n",
    "# need a function to return total_order for payment class\n",
    "class payment:\n",
    "    total_amount = 0\n",
    "    def __init__(self, total_order): #total_order is a list of dictionaries\n",
    "        self.total_order = total_order\n",
    "        self.total_amount = self.total_order[0]['amount']+self.total_order[1]['amount']\n",
    "    # return order information and payment confirmation to the customer\n",
    "    def pay(self):\n",
    "        print(\"You have ordered: \", self.total_order)\n",
    "        print(\"Total Order Amount is: \", self.total_amount)\n",
    "\n",
    "# for each payment option, define a subclass of payment class mainly to customize pay mehtod\n",
    "class cash(payment):\n",
    "    def __init__(self,total_order):\n",
    "        super().__init__(total_order)\n",
    "    def pay(self, cash_paid):\n",
    "        # return  return order information and payment confirmation and exchange to the customer\n",
    "        # should use try... except to print the exception message, maybe when function called\n",
    "        if cash_paid < self.total_amount:\n",
    "            raise Exception(\"You have paid less cash than total order amount. Please pay additional: \", self.total_amount - cash_paid)\n",
    "        else:\n",
    "            super().pay()\n",
    "            print(\"You paid \" ,cash_paid, \"cash and your exchange is: \", cash_paid - self.total_amount)\n",
    "\n",
    "            \n",
    "class card(payment):\n",
    "    def __init__(self,total_order):\n",
    "        super().__init__(total_order)\n",
    "    def pay(self, option='credit/debit card'):\n",
    "        super().pay()\n",
    "        print(\"You have paid using \", option, \". Thank you for the ordering.\")            \n",
    "#########################haven't updated below ################################################\n",
    "    # for using points to redeem the ordering, need to extract and update customer point data\n",
    "class point(payment):\n",
    "    def __init__(self, points):\n",
    "        pass\n",
    "    # get current point information of the customer\n",
    "    def get(self, customer_id):\n",
    "        pass\n",
    "    # accumulate points for this order\n",
    "    def add(self, customer_id, order):\n",
    "        pass\n",
    "    # return order information, points redeemed and remained information to the customer\n",
    "    def pay(self, order, customer_id):\n",
    "        pass\n",
    "\n",
    "# # Customer class is for maintaining customer information when necessary and can be called by point class\n",
    "# class customer:\n",
    "#     def __init__(self, customer_id, point):\n",
    "#         pass\n",
    "\n",
    "\n",
    "## my questions and thoughts\n",
    "# 1. do i need payment class as the parent class or just use three different class for payment especially i'm not sure the purpose of parent's pay method\n",
    "# 2. shall i create order class instead of product class so that i could combine different products in one order easily?\n",
    "# 3. it seems that customer class may not be necessary in this scenario. I can define and maintain required customer information within point class\n",
    "\n"
   ]
  },
  {
   "cell_type": "code",
   "execution_count": 45,
   "metadata": {
    "collapsed": false
   },
   "outputs": [
    {
     "name": "stdout",
     "output_type": "stream",
     "text": [
      "{'name': 'latti w soy', 'amount': 9.0, 'quantity': 2}\n",
      "{'name': 'latti w soy', 'amount': 9.0, 'quantity': 2}\n"
     ]
    }
   ],
   "source": [
    "# test product/coffee class\n",
    "# scenario 1: ordered medium size latti w soy, amount = 4.5\n",
    "\n",
    "latti = coffee(name = 'latti w soy',price = 4.5, quantity = 2) # works with product class as well\n",
    "print(latti.ordered)\n",
    "print(latti.get_order())"
   ]
  },
  {
   "cell_type": "code",
   "execution_count": 66,
   "metadata": {
    "collapsed": false
   },
   "outputs": [
    {
     "name": "stdout",
     "output_type": "stream",
     "text": [
      "21.0\n",
      "You have ordered:  [{'name': 'latti w soy', 'amount': 9.0, 'quantity': 2}, {'name': 'latti w soy', 'amount': 12.0, 'quantity': 2}]\n",
      "Total Order Amount is:  21.0\n",
      "None\n"
     ]
    }
   ],
   "source": [
    "# test payment class\n",
    "total_order =[{'name': 'latti w soy', 'amount': 9.0, 'quantity': 2}, {'name': 'latti w soy', 'amount': 12.0, 'quantity': 2}]\n",
    "p1 = payment(total_order)\n",
    "#print(p1.total_order)\n",
    "print(p1.total_amount)\n",
    "print(p1.pay())\n",
    "# then need to test subclass of payments"
   ]
  },
  {
   "cell_type": "code",
   "execution_count": 83,
   "metadata": {
    "collapsed": false
   },
   "outputs": [
    {
     "name": "stdout",
     "output_type": "stream",
     "text": [
      "21.0\n",
      "You have ordered:  [{'name': 'latti w soy', 'amount': 9.0, 'quantity': 2}, {'name': 'latti w soy', 'amount': 12.0, 'quantity': 2}]\n",
      "Total Order Amount is:  21.0\n",
      "You paid  25 cash and your exchange is:  4.0\n"
     ]
    }
   ],
   "source": [
    "p2=cash(total_order)\n",
    "print(p2.total_amount)\n",
    "#print(p2.total_order)\n",
    "p2.pay(25)"
   ]
  },
  {
   "cell_type": "code",
   "execution_count": 87,
   "metadata": {
    "collapsed": false
   },
   "outputs": [
    {
     "name": "stdout",
     "output_type": "stream",
     "text": [
      "21.0\n",
      "You have ordered:  [{'name': 'latti w soy', 'amount': 9.0, 'quantity': 2}, {'name': 'latti w soy', 'amount': 12.0, 'quantity': 2}]\n",
      "Total Order Amount is:  21.0\n",
      "You have paid using  credit/debit card . Thank you for the ordering.\n"
     ]
    }
   ],
   "source": [
    "p3=card(total_order)\n",
    "print(p3.total_amount)\n",
    "#print(p2.total_order)\n",
    "p3.pay()"
   ]
  },
  {
   "cell_type": "code",
   "execution_count": null,
   "metadata": {
    "collapsed": true
   },
   "outputs": [],
   "source": [
    "# scenario 2: ordered american coffee, tall and banana break, amount = 3 + 2 =5\n",
    "# paid by credit card"
   ]
  },
  {
   "cell_type": "code",
   "execution_count": null,
   "metadata": {
    "collapsed": true
   },
   "outputs": [],
   "source": [
    "# scenario 3: ordered iced coffee, venti, amount =5, using point to redeem\n",
    "# customers have 40 points, each product ordered cost 10 points to redeem, each order accumulates 2 points"
   ]
  }
 ],
 "metadata": {
  "anaconda-cloud": {},
  "kernelspec": {
   "display_name": "Python [Root]",
   "language": "python",
   "name": "Python [Root]"
  },
  "language_info": {
   "codemirror_mode": {
    "name": "ipython",
    "version": 3
   },
   "file_extension": ".py",
   "mimetype": "text/x-python",
   "name": "python",
   "nbconvert_exporter": "python",
   "pygments_lexer": "ipython3",
   "version": "3.5.2"
  }
 },
 "nbformat": 4,
 "nbformat_minor": 0
}
