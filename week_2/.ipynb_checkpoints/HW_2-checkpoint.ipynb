{
 "cells": [
  {
   "cell_type": "markdown",
   "metadata": {},
   "source": [
    "## Week 2 Assignment - W18 MIDS python"
   ]
  },
  {
   "cell_type": "markdown",
   "metadata": {},
   "source": [
    "## Python Coding"
   ]
  },
  {
   "cell_type": "markdown",
   "metadata": {},
   "source": [
    "Write a script to solve each of the following problems.  Each problem should have its solution as a separate .py file, named as outlined in each problem. Please upload the .py scripts to your GitHub repository in your week_2 folder.\n",
    "\n",
    "Assignment due date: Midnight the night before the Week 3 Live Session.\n",
    "\n",
    "NOTE: Even though your final submission must be individual .py files, it may be helpful to first solve the problems in this Jupyter Notebook, then translate the files into .py form.\n",
    "\n",
    "### 1. Tip Calculator\n",
    "\n",
    "Below, you can see the script we wrote to compute the tip for a meal.  Fix it so that it works correctly.  Save your result as the file tip_LastName.py."
   ]
  },
  {
   "cell_type": "code",
   "execution_count": 2,
   "metadata": {
    "collapsed": false
   },
   "outputs": [
    {
     "name": "stdout",
     "output_type": "stream",
     "text": [
      "Enter the price of a meal:34\n",
      "A 16% tip would be  5.44\n",
      "The total including tip would be  39.44\n"
     ]
    }
   ],
   "source": [
    "price = float(input(\"Enter the price of a meal:\"))\n",
    "\n",
    "tip = price * 0.16\n",
    "total = price + tip\n",
    "\n",
    "print(\"A 16% tip would be \", tip)\n",
    "print(\"The total including tip would be \", total)"
   ]
  },
  {
   "cell_type": "markdown",
   "metadata": {},
   "source": [
    "### 2. Gas Pump Informer\n",
    "\n",
    "Write a script that prompts the user for a number of gallons of gasoline. Reprint that value, along with its conversion to other measurements:\n",
    "\n",
    "- Equivalent number of liters\n",
    "- Number of barrels of oil required to produce it\n",
    "- Price in U.S. dollars\n",
    "\n",
    "Figures to use:\n",
    "\n",
    "- 1 gallon is equivalent to 3.7854 liters.\n",
    "- 1 barrel of oil produces 19.5 gallons of gas.\n",
    "- The average price of gas is approximately $3.65.\n",
    "\n",
    "Save your script as gas_LastName.py"
   ]
  },
  {
   "cell_type": "code",
   "execution_count": 5,
   "metadata": {
    "collapsed": false
   },
   "outputs": [
    {
     "name": "stdout",
     "output_type": "stream",
     "text": [
      "Enter a number of gallons of gasoline: 39\n",
      "Equivalent number of liters is:  147.63060000000002\n",
      "Number of barrels of oil required to produce it is:  2.0\n",
      "Prince in U.S. dollars is:  142.35\n"
     ]
    }
   ],
   "source": [
    "gallons=float(input(\"Enter a number of gallons of gasoline: \"))\n",
    "liters=gallons*3.7854\n",
    "barrels=gallons/19.5\n",
    "price=3.65*gallons\n",
    "print(\"Equivalent number of liters is: \",liters)\n",
    "print(\"Number of barrels of oil required to produce it is: \",barrels)\n",
    "print(\"Prince in U.S. dollars is: \",price)"
   ]
  },
  {
   "cell_type": "markdown",
   "metadata": {},
   "source": [
    "### 3. Number Averager\n",
    "\n",
    "Write a script that prompts the user for two numbers, a and b.  Then, prompt the user to enter a type of average (out of the three options below). Output the correct average, based on what the user selected:\n",
    "\n",
    "1. The arithmetic mean $(a + b) / 2 $\n",
    "2. The geometric mean $\\sqrt{ab}$\n",
    "3. The root-mean-square $\\sqrt{\\frac{a^2 + b^2}{n}}$\n",
    "\n",
    "Sae your script as averages_LastName.py"
   ]
  },
  {
   "cell_type": "code",
   "execution_count": 10,
   "metadata": {
    "collapsed": false
   },
   "outputs": [
    {
     "name": "stdout",
     "output_type": "stream",
     "text": [
      "Enter a number: 5\n",
      "Enter another number: 7\n",
      "Enter a type of average (arithmetic,geometric or root-mean-square): root-sqare\n",
      "Please enter a valid type of average from the list.\n"
     ]
    }
   ],
   "source": [
    "a=float(input(\"Enter a number: \"))\n",
    "b=float(input(\"Enter another number: \"))\n",
    "c=input(\"Enter a type of average (arithmetic,geometric or root-mean-square): \")\n",
    "if c=='arithmetic':\n",
    "    d=(a+b)/2\n",
    "    print(\"The arithmetic average is: \",d)\n",
    "elif c=='geometric':\n",
    "    d=(a*b)**0.5\n",
    "    print(\"The geometric mean is: \",d)\n",
    "elif c=='root-mean-square':\n",
    "    d=((a**2+b**2)/2)**0.5\n",
    "    print(\"The root-mean-square is: \",d)\n",
    "else:\n",
    "    print(\"Please enter a valid type of average from the list.\")"
   ]
  },
  {
   "cell_type": "markdown",
   "metadata": {},
   "source": [
    "### 4. Income Tax\n",
    "\n",
    "The mythical island nation of Laskoatu has a rather simple tax code.  The first \\$1000 of income is taxed at 5%.  The next \\$1000 is taxed at 10%.  Any income beyond the first \\$2000 is taxed at 15%.  Complete the following script so that it asks the user for his or her income and outputs the amount of tax owed. Save your script as tax_LastName.py"
   ]
  },
  {
   "cell_type": "code",
   "execution_count": 13,
   "metadata": {
    "collapsed": false
   },
   "outputs": [
    {
     "name": "stdout",
     "output_type": "stream",
     "text": [
      "Please enter your income:2500\n",
      "The tax you owned is:  225.0\n"
     ]
    }
   ],
   "source": [
    "income = int(input(\"Please enter your income:\"))\n",
    "if income<=1000:\n",
    "    tax=income*0.05\n",
    "elif income<=2000:\n",
    "    tax=1000*0.05+(income-1000)*0.1\n",
    "else:\n",
    "    tax=1000*0.05+1000*0.1+(income-2000)*0.15\n",
    "print(\"The tax you owned is: \",tax)"
   ]
  },
  {
   "cell_type": "markdown",
   "metadata": {},
   "source": [
    "### 5. Palindrome\n",
    "\n",
    "Write a script that prompts the user for his or her name. Using a while loop that counts downwards (instead of using the 'reverse' function), print the letters of the name reversed (hint: use print(var, end='') in each iteration of the loop). You should use s.lower() and s.upper() as appropriate to change a string s to lowercase and uppercase letters. Make sure your code prints the examples exactly as shown below.\n",
    "\n",
    "Enter your name: Paul <br>\n",
    "Luap\n",
    "\n",
    "If the name is the same forward and backwards, print \"Palindrome!\" on the next line.\n",
    "\n",
    "Enter your name: Ana <br>\n",
    "Ana <br>\n",
    "Palindrome!\n",
    "\n",
    "Save your script as palindrome_LastName.py"
   ]
  },
  {
   "cell_type": "code",
   "execution_count": 40,
   "metadata": {
    "collapsed": false
   },
   "outputs": [
    {
     "name": "stdout",
     "output_type": "stream",
     "text": [
      "Enter your name: Cynthia\n",
      "Aihtnyc\n"
     ]
    }
   ],
   "source": [
    "name=input(\"Enter your name: \")\n",
    "count=len(name)\n",
    "a=\"\"\n",
    "while count>=1:\n",
    "    if count==len(name):\n",
    "        a=a+name.upper()[count-1]\n",
    "        print(name.upper()[count-1],end=\"\")\n",
    "        count -=1\n",
    "    else:\n",
    "        a=a+name.lower()[count-1]\n",
    "        print(name.lower()[count-1],end=\"\")\n",
    "        count -=1\n",
    "print(\"\")\n",
    "if name==a:\n",
    "    print(\"Palindrome!\")"
   ]
  },
  {
   "cell_type": "code",
   "execution_count": 31,
   "metadata": {
    "collapsed": false
   },
   "outputs": [
    {
     "name": "stdout",
     "output_type": "stream",
     "text": [
      "test\n"
     ]
    }
   ],
   "source": [
    "a=\"\"\n",
    "b=\"test\"\n",
    "print(a+b)\n"
   ]
  },
  {
   "cell_type": "code",
   "execution_count": null,
   "metadata": {
    "collapsed": true
   },
   "outputs": [],
   "source": []
  }
 ],
 "metadata": {
  "anaconda-cloud": {},
  "kernelspec": {
   "display_name": "Python [Root]",
   "language": "python",
   "name": "Python [Root]"
  },
  "language_info": {
   "codemirror_mode": {
    "name": "ipython",
    "version": 3
   },
   "file_extension": ".py",
   "mimetype": "text/x-python",
   "name": "python",
   "nbconvert_exporter": "python",
   "pygments_lexer": "ipython3",
   "version": "3.5.2"
  }
 },
 "nbformat": 4,
 "nbformat_minor": 0
}
