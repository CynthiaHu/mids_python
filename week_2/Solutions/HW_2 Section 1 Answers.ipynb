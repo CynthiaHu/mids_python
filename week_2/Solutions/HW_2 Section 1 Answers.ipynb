{
 "cells": [
  {
   "cell_type": "markdown",
   "metadata": {},
   "source": [
    "### 2-1\n",
    "\n",
    "#### Based on Amodeo\n",
    "Note use of string formatting."
   ]
  },
  {
   "cell_type": "code",
   "execution_count": 14,
   "metadata": {
    "collapsed": false
   },
   "outputs": [
    {
     "name": "stdout",
     "output_type": "stream",
     "text": [
      "Enter the price of a meal: $1\n",
      "A 16% tip would be $0.16.\n",
      "The total including tip would be $1.16.\n"
     ]
    }
   ],
   "source": [
    "price = float(input(\"Enter the price of a meal: $\"))\n",
    "\n",
    "tip = price * 0.16\n",
    "total = price + tip\n",
    "\n",
    "print(\"A 16% tip would be ${:,.2f}.\".format(tip))\n",
    "print(\"The total including tip would be ${:,.2f}.\".format(total))"
   ]
  },
  {
   "cell_type": "markdown",
   "metadata": {},
   "source": [
    "### 2-2\n",
    "#### Based on Magana\n",
    "Again, string formatting. Clean UI. Use of /n"
   ]
  },
  {
   "cell_type": "code",
   "execution_count": 15,
   "metadata": {
    "collapsed": false
   },
   "outputs": [
    {
     "name": "stdout",
     "output_type": "stream",
     "text": [
      "Please enter the number of gallons that you need: 10\n",
      "\n",
      "You have requested 10.00 gallons of gasoline.\n",
      "That is equivalent to 2.64 liters and requires 0.51 barrels of oil to produce.\n",
      "The total price of your request is $36.50.\n"
     ]
    }
   ],
   "source": [
    "gallons = int(input(\"Please enter the number of gallons that you need: \"))\n",
    "\n",
    "liters = gallons * 3.7854\n",
    "barrels = gallons / 19.5\n",
    "price = gallons * 3.65\n",
    "\n",
    "print(\"\\nYou have requested {:,.2f} gallons of gasoline.\".format(gallons))\n",
    "print(\"That is equivalent to {:,.2f} liters and requires {:,.2f} barrels of oil to produce.\".\n",
    "      format(liters, barrels))\n",
    "print(\"The total price of your request is ${:,.2f}.\".format(price))"
   ]
  },
  {
   "cell_type": "markdown",
   "metadata": {},
   "source": [
    "### 2-3\n",
    "#### Based on Fisher.\n",
    "\n",
    "Note use of \"else\" as nice validation that the input was valid.\n",
    "The user has clear input selections."
   ]
  },
  {
   "cell_type": "code",
   "execution_count": 17,
   "metadata": {
    "collapsed": false
   },
   "outputs": [
    {
     "name": "stdout",
     "output_type": "stream",
     "text": [
      "Type your first number: 1\n",
      "Type your second number: 4\n",
      "Choose your type of average by typing 1 for arithmetic mean, 2 forgeometric mean, 3 for root-mean-square: 2\n",
      "\n",
      "The geometric mean of your two numbers is  2.0\n"
     ]
    }
   ],
   "source": [
    "a = float(input(\"Type your first number: \"))\n",
    "b = float(input(\"Type your second number: \"))\n",
    "\n",
    "avgtype = int(input(\"Choose your type of average by typing 1 for arithmetic mean, 2 for \\\n",
    "geometric mean, 3 for root-mean-square: \"))\n",
    "\n",
    "if avgtype == 1:\n",
    "    avg = (a + b)/2\n",
    "    print(\"\\nThe arithemetic mean of your two numbers is \", avg)\n",
    "elif avgtype == 2:\n",
    "    avg = (a * b) ** 0.5\n",
    "    print(\"\\nThe geometric mean of your two numbers is \", avg)\n",
    "elif avgtype == 3:\n",
    "    avg = ((a*a + b*b)/2) ** 0.5\n",
    "    print(\"\\nThe root-mean-square of your two numbers is \", avg)\n",
    "else: \n",
    "    print(\"You did not select a valid type\")"
   ]
  },
  {
   "cell_type": "markdown",
   "metadata": {},
   "source": [
    "##### Based on Plumley\n",
    "\n",
    "Note the use of dictionaries to store both strings and calculations. Triple quote to output multiple lines."
   ]
  },
  {
   "cell_type": "code",
   "execution_count": 7,
   "metadata": {
    "collapsed": false
   },
   "outputs": [
    {
     "name": "stdout",
     "output_type": "stream",
     "text": [
      "Enter two numbers separated by a space: 1 4\n",
      "\n",
      "Enter the number corresponding to the type of average you would like:\n",
      "1 - Arithmetic mean\n",
      "2 - Geometric mean\n",
      "3 - Root-mean-square\n",
      "\n",
      "1\n",
      "The Arithmetic mean is 2.5\n"
     ]
    }
   ],
   "source": [
    "numbers = input(\"Enter two numbers separated by a space: \")\n",
    "n = numbers.split()\n",
    "a = float(n[0])\n",
    "b = float(n[1])\n",
    "\n",
    "option = input(\"\"\"\\nEnter the number corresponding to the type of average you would like:\n",
    "1 - Arithmetic mean\n",
    "2 - Geometric mean\n",
    "3 - Root-mean-square\\n\n",
    "\"\"\")\n",
    "\n",
    "if option in '123':\n",
    "    options = {'1':'Arithmetic mean','2':'Geometric mean','3':'Root-mean-square'}\n",
    "    answers = {'1':(a + b)/2,'2':(a*b)**0.5,'3':((a*a+b*b)/2)**0.5}\n",
    "    print(\"The \" + options[option] + \" is \" + str(answers[option]) + \".\")\n",
    "else:\n",
    "    print(\"Invalid input.\")"
   ]
  },
  {
   "cell_type": "markdown",
   "metadata": {},
   "source": [
    "##### Based on Seddon\n",
    "Note the use of a loop to validate the input."
   ]
  },
  {
   "cell_type": "code",
   "execution_count": null,
   "metadata": {
    "collapsed": false
   },
   "outputs": [
    {
     "name": "stdout",
     "output_type": "stream",
     "text": [
      "I can do three kinds of averaging\n",
      "Enter 1 for arithmetic mean\n",
      "Enter 2 for geometric mean\n",
      "Enter 3 for root mean square\n",
      "Please select 1, 2 or 3 -> \n",
      "That is not a valid choice.\n"
     ]
    }
   ],
   "source": [
    "print(\"I can do three kinds of averaging\")\n",
    "print(\"Enter 1 for arithmetic mean\")\n",
    "print(\"Enter 2 for geometric mean\")\n",
    "print(\"Enter 3 for root mean square\")\n",
    "\n",
    "valid_input = False\n",
    "while valid_input == False:\n",
    "    avg_type = input(\"Please select 1, 2 or 3 -> \")\n",
    "    if avg_type != '' and avg_type in '123':\n",
    "        valid_input = True\n",
    "    else:\n",
    "        print(\"That is not a valid choice.\")\n",
    "\n",
    "print(\"Input was valid!\")"
   ]
  },
  {
   "cell_type": "markdown",
   "metadata": {},
   "source": [
    "### 2-4\n",
    "#### Based on Cha\n",
    "\n",
    "Note you do not need two endpoints if you are constrained by prior \"if\" statements\n",
    "Note use of 50 + and 150 + to simplify equation"
   ]
  },
  {
   "cell_type": "code",
   "execution_count": 1,
   "metadata": {
    "collapsed": false
   },
   "outputs": [
    {
     "name": "stdout",
     "output_type": "stream",
     "text": [
      "Please enter your income: 1000\n",
      "\n",
      "You made $1,000.00 last year.\n",
      "You owe $50.00 in taxes.\n"
     ]
    }
   ],
   "source": [
    "income = int(input(\"Please enter your income: \"))\n",
    "\n",
    "if income <= 1000:\n",
    "    inc_tax = income * .05\n",
    "elif income <= 2000:\n",
    "    inc_tax = 50 + (income - 1000)*.1\n",
    "else:\n",
    "    inc_tax = 150 + (income - 2000)*.15\n",
    "\n",
    "print(\"\\nYou made ${:,.2f} last year.\".format(income))\n",
    "print(\"You owe ${:,.2f} in taxes.\".format(inc_tax))\n"
   ]
  },
  {
   "cell_type": "markdown",
   "metadata": {
    "collapsed": false
   },
   "source": [
    "### 2-5\n",
    "#### Similar to Hu, Lam, Seddon"
   ]
  },
  {
   "cell_type": "code",
   "execution_count": 12,
   "metadata": {
    "collapsed": false
   },
   "outputs": [
    {
     "name": "stdout",
     "output_type": "stream",
     "text": [
      "Please enter a name: Chris\n",
      "Sirhc"
     ]
    }
   ],
   "source": [
    "# Input name. Make it lowercase here to be standardized.\n",
    "name = input(\"Please enter a name: \").lower()\n",
    "reverse_name = ''\n",
    "\n",
    "# Start counter at the length of the string.\n",
    "# Decrement the counter by 1 for each letter, until hitting 0\n",
    "counter = len(name)\n",
    "while counter > 0:\n",
    "    counter -= 1\n",
    "    # Print out the letter. On the first one, print a capital\n",
    "    if counter == len(name) - 1:\n",
    "        print(name[counter].upper(), end='')\n",
    "    else:\n",
    "        print(name[counter], end='')\n",
    "        \n",
    "    # Build a \"Reverse Name\" string to check for Palindromes\n",
    "    reverse_name = reverse_name + name[counter]\n",
    "\n",
    "if reverse_name == name:\n",
    "    print(\"\\nPalindrome!\")"
   ]
  },
  {
   "cell_type": "code",
   "execution_count": null,
   "metadata": {
    "collapsed": true
   },
   "outputs": [],
   "source": []
  }
 ],
 "metadata": {
  "kernelspec": {
   "display_name": "Python 3",
   "language": "python",
   "name": "python3"
  },
  "language_info": {
   "codemirror_mode": {
    "name": "ipython",
    "version": 3
   },
   "file_extension": ".py",
   "mimetype": "text/x-python",
   "name": "python",
   "nbconvert_exporter": "python",
   "pygments_lexer": "ipython3",
   "version": "3.5.1"
  }
 },
 "nbformat": 4,
 "nbformat_minor": 0
}
