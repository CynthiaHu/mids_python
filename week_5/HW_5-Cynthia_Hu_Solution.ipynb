{
 "cells": [
  {
   "cell_type": "markdown",
   "metadata": {},
   "source": [
    "## Week 5 Assignment - W18 MIDS Python"
   ]
  },
  {
   "cell_type": "markdown",
   "metadata": {},
   "source": [
    "Write code in this Jupyter Notebook to solve each of the following problems. Each problem should have its solution in a separate cell. Please upload this Notebook with your solutions to your GitHub repository in your week_5 folder by the midnight before class."
   ]
  },
  {
   "cell_type": "markdown",
   "metadata": {},
   "source": [
    "## Part 1 - Function Exercises\n",
    "\n",
    "### 5-1-1 Nested (\"Wrapped\") Functions\n",
    "Write a function, `sum_digits`, which takes an `int` and returns the sum of its digits.\n",
    "\n",
    "Write another function that \"wraps\" `sum_digits` in that it calls `sum_digits` from within it. Call this function `diff_sum_digits`. Use that function to compute the input number minus the sum of digits of input number.\n",
    "\n",
    "Writer another function that \"wraps\" `diff_sum_digits`. If `diff_sum_digits` returns a result that has more than one digit (either negative or positive) have it replace it with the sum of the digits of the result. Do this repeatedly until the result has just one digit, then display it.\n",
    "\n",
    "Below you'll find an example of what we mean when we say \"wraps\" - this is not a decorator function or anything like that, just a function that calls another function inside of it."
   ]
  },
  {
   "cell_type": "code",
   "execution_count": 1,
   "metadata": {
    "collapsed": false,
    "scrolled": true
   },
   "outputs": [
    {
     "name": "stdout",
     "output_type": "stream",
     "text": [
      "-5\n",
      "trivial example\n"
     ]
    }
   ],
   "source": [
    "def example_base_func(x):\n",
    "    \"Returns the value of the input * -1\"\n",
    "    return -1 * x\n",
    "\n",
    "def wraps_example_base_func(x):\n",
    "    temp_val = example_base_func(x)\n",
    "    if temp_val < 0:\n",
    "        return \"trivial example\"\n",
    "    \n",
    "print(example_base_func(5))\n",
    "print(wraps_example_base_func(5))"
   ]
  },
  {
   "cell_type": "code",
   "execution_count": 37,
   "metadata": {
    "collapsed": true
   },
   "outputs": [],
   "source": [
    "### [Cynthia Hu]\n",
    "def sum_digits(num):\n",
    "    my_sum = 0\n",
    "    # convert the input to a string which is iterable\n",
    "    for x in str(num):\n",
    "        my_sum +=int(x) # convert the string to int when sum up\n",
    "    return my_sum\n",
    "def diff_sum_digits(num):\n",
    "    return num-sum_digits(num)\n",
    "def one_digit(num):\n",
    "    temp_var = diff_sum_digits(num)\n",
    "    while abs(temp_var) >=10:\n",
    "        temp_var = sum_digits(temp_var)\n",
    "    return temp_var  "
   ]
  },
  {
   "cell_type": "code",
   "execution_count": 39,
   "metadata": {
    "collapsed": false
   },
   "outputs": [
    {
     "name": "stdout",
     "output_type": "stream",
     "text": [
      "6\n",
      "117\n",
      "9\n"
     ]
    }
   ],
   "source": [
    "print(sum_digits(123))\n",
    "print(diff_sum_digits(123))\n",
    "print(one_digit(123))"
   ]
  },
  {
   "cell_type": "markdown",
   "metadata": {},
   "source": [
    "### 5-1-2 Pigs, Continued\n",
    "\n",
    "Write a function `is_consonant` that takes a character and returns `True` if it is a consonant.\n",
    "\n",
    "Use your function to create a new fuction `to_piglatin` that takes a word, moves all starting consonants to the end of the word, then adds *ay* to the end and returns the result. You may expect that the the input will be just one word.\n",
    "\n",
    "*Extra Credit: Have this function check whether or not the input is multiple words and return the whole sentence in pig latin. For this you may assume that a sentence always ends with a period and is always one sentence, never more than one.*"
   ]
  },
  {
   "cell_type": "code",
   "execution_count": 99,
   "metadata": {
    "collapsed": true
   },
   "outputs": [],
   "source": [
    "### [Cynthia Hu]\n",
    "def is_consonant(char):\n",
    "    if char not in 'aeiou':\n",
    "        return True\n",
    "def to_piglatin(my_word):\n",
    "    a=''\n",
    "    b=''\n",
    "    for s in my_word:\n",
    "        # if it's consonant, then save it to string a\n",
    "        if is_consonant(s):\n",
    "            a +=s\n",
    "        # if it's vowel, then save it to string b\n",
    "        else:\n",
    "            b +=s\n",
    "    # move consonants to the end and add 'ay'\n",
    "    return b.lower()+a.lower()+'ay'\n",
    "\n",
    "# below function is for the extra credit\n",
    "# assuming move all starting consonants to the end and add 'ay' for each word\n",
    "def to_piglatin2(my_sentence):\n",
    "    # separate the period of the sentence and further split each word\n",
    "    my_word=my_sentence.split('.')[0].split()\n",
    "    new_sentence=[]\n",
    "    # convert each word to piglatin and store it to a list\n",
    "    for word in my_word:\n",
    "        a=''\n",
    "        b=''\n",
    "        for s in word:\n",
    "            if is_consonant(s):\n",
    "                a +=s\n",
    "            else:\n",
    "                b +=s\n",
    "        new_sentence.append(b.lower()+a.lower()+'ay')\n",
    "        # join list items to a sentence\n",
    "        new_sentence2=' '.join(new_sentence)\n",
    "    # if input is multiple words, then return the sentence with capital letter and period.\n",
    "    if len(my_word)>1:\n",
    "        return new_sentence2[0].upper()+new_sentence2[1:]+'.'\n",
    "    else:\n",
    "        return new_sentence2"
   ]
  },
  {
   "cell_type": "code",
   "execution_count": 100,
   "metadata": {
    "collapsed": false
   },
   "outputs": [
    {
     "name": "stdout",
     "output_type": "stream",
     "text": [
      "iacynthay\n",
      "Iacynthay oeecmpltsay ethay oeohmwrkay.\n",
      "iacynthay\n"
     ]
    }
   ],
   "source": [
    "print(to_piglatin('Cynthia'))\n",
    "print(to_piglatin2('Cynthia completes the homework.'))\n",
    "print(to_piglatin2('Cynthia'))"
   ]
  },
  {
   "cell_type": "markdown",
   "metadata": {},
   "source": [
    "## Part 2 - Namespace Exercise\n",
    "\n",
    "### 5-2-1 Process Order\n",
    "\n",
    "The following script defines a list of customer orders.  Each item in the list is a tuple containing the name of the item, the number requested, and the price per item.\n",
    "\n",
    "Fill in just the `process_order` function below without changing any other code. This function should remove one of the elements of the order list and print a nice message about it. Finally, make sure that the final print statement correctly displays the total price for the entire list."
   ]
  },
  {
   "cell_type": "code",
   "execution_count": 118,
   "metadata": {
    "collapsed": false,
    "scrolled": true
   },
   "outputs": [
    {
     "name": "stdout",
     "output_type": "stream",
     "text": [
      "The number requested for antacid is 1 and the price per item is 5.33.\n",
      "The number requested for sour bites is 3 and the price per item is 2.33.\n",
      "The number requested for gummy bears is 1 and the price per item is 1.99.\n",
      "The number requested for oranges is 4 and the price per item is 3.22.\n",
      "total price:  27.19\n"
     ]
    }
   ],
   "source": [
    "### [Cynthia Hu]\n",
    "\n",
    "total = 0\n",
    "\n",
    "def process_order(x_list):\n",
    "    # Enter solution here (note, remove \"pass\" from function)\n",
    "    global total\n",
    "    while(len(x_list)>0):\n",
    "        a=x_list.pop()\n",
    "        total += a[1]*a[2]\n",
    "        print('The number requested for '+str(a[0])+' is '+str(a[1])+' and the price per item is '+str(a[2])+'.')\n",
    "    return total\n",
    "\n",
    "x = [(\"oranges\", 4, 3.22),(\"gummy bears\",1,1.99),(\"sour bites\", 3, 2.33), (\"antacid\", 1, 5.33)]\n",
    "while(len(x)>0):\n",
    "    process_order(x)\n",
    "print(\"total price: \", total)"
   ]
  },
  {
   "cell_type": "markdown",
   "metadata": {},
   "source": [
    "## Part 3 - Functions as Objects\n",
    "\n",
    "### 5-3-1 A Flexible \"Scoring\" Function\n",
    "\n",
    "The following code defines a list of names and also contains a header for the function `best`.  This function should take two arguments: a function, `score`, and a list of strings, `names`.  Fill in the function so that it applies the `score` function to each string in `names` and returns the one with the highest score. If there are ties in the list, your function should return the first item with the maximum score.\n",
    "\n",
    "Hint - it may help to define a temporary \"score\" function as a placeholder while you troubleshoot."
   ]
  },
  {
   "cell_type": "code",
   "execution_count": 15,
   "metadata": {
    "collapsed": true,
    "scrolled": true
   },
   "outputs": [],
   "source": [
    "### [Cynthia Hu]\n",
    "\n",
    "#def score(name):\n",
    "#    return len(name)\n",
    "def best(score, names):\n",
    "    # Enter solution here (note, remove \"pass\" from function)\n",
    "    # apply the score function to each item of the list\n",
    "    a=list(map(score,names))\n",
    "    # find the first item with the highest score\n",
    "    for i in range(len(names)):\n",
    "        if a[i]==max(a):\n",
    "            ans=(names[i])\n",
    "            break\n",
    "    return ans\n",
    "\n",
    "names = [\"Ben\", \"April\", \"Zaber\", \"Alexis\", \"McJagger\", \"J.J.\", \"Madonna\"]\n",
    "#best(score,names)"
   ]
  },
  {
   "cell_type": "markdown",
   "metadata": {},
   "source": [
    "### 5-3-2 Using Our Flexible Function\n",
    "\n",
    "Define a function, `number_of_vowels`, that returns the number of vowels in a string.  Use it with your `best` function to find the name in `names` with the most vowels.\n",
    "\n",
    "Next, pass a `lambda` function into your `best` function to find the name in `names` with the highest number of a's."
   ]
  },
  {
   "cell_type": "code",
   "execution_count": 25,
   "metadata": {
    "collapsed": false
   },
   "outputs": [
    {
     "name": "stdout",
     "output_type": "stream",
     "text": [
      "Alexis\n",
      "Madonna\n"
     ]
    }
   ],
   "source": [
    "### [Cynthia Hu]\n",
    "def number_of_vowels(string):\n",
    "    count=0\n",
    "    for s in string:\n",
    "        if s.lower() in 'aeiou':\n",
    "            count +=1\n",
    "    return count\n",
    "\n",
    "print(best(number_of_vowels,names))\n",
    "print(best(lambda x:x.lower().count('a'),names))\n"
   ]
  },
  {
   "cell_type": "markdown",
   "metadata": {},
   "source": [
    "## Part 4 - Exceptions Exercises\n",
    "\n",
    "### 5-4-1 Refactoring for Exceptions\n",
    "Refactor this code that attempts to compute a reciprocal so that it keeps prompting the user for a number repeatedly until the user successfully enters a valid number.  If the user enters 0, the program should print that zero does not have a reciprocal, then terminate."
   ]
  },
  {
   "cell_type": "code",
   "execution_count": 3,
   "metadata": {
    "collapsed": false,
    "scrolled": true
   },
   "outputs": [
    {
     "name": "stdout",
     "output_type": "stream",
     "text": [
      "Enter a number: 0\n",
      "Zero does not have a reciprocal\n"
     ]
    }
   ],
   "source": [
    "### [Cynthia Hu]\n",
    "count=0\n",
    "while count >=0:\n",
    "    try:\n",
    "        x = float(input(\"Enter a number: \"))\n",
    "        print(\"The reciprocal of your number is\", 1/x)\n",
    "        break\n",
    "    except ValueError:\n",
    "        print(\"You did not enter a valid number.\")\n",
    "    except ZeroDivisionError:\n",
    "        print(\"Zero does not have a reciprocal\")\n",
    "        break\n",
    "    except:\n",
    "        print(\"something else went wrong.\")\n",
    "        "
   ]
  },
  {
   "cell_type": "markdown",
   "metadata": {},
   "source": [
    "### 5-4-2 Raising Custom Exceptions\n",
    "\n",
    "Write a function that takes a list of grades and a corresponding list of percentages and returns the weighted average of the grades.  Your function should raise an exception if a percentage is less than 0 or greater than 100, and a different exception if the percentages do not add to 100.\n",
    "\n",
    "Run your function on `grades1` with `weights1` and `grades2` with `weights2`, defined below.  Catch the errors generated in each case and print a useful message for the user."
   ]
  },
  {
   "cell_type": "code",
   "execution_count": 26,
   "metadata": {
    "collapsed": false,
    "scrolled": true
   },
   "outputs": [
    {
     "data": {
      "text/plain": [
       "86.2"
      ]
     },
     "execution_count": 26,
     "metadata": {},
     "output_type": "execute_result"
    }
   ],
   "source": [
    "### [Cynthia Hu]\n",
    "def avggrade(grade,weight):\n",
    "    total=0\n",
    "    avggrade=0\n",
    "    for i in range(len(grade)):\n",
    "        if weight[i]<0:\n",
    "            raise Exception(\"The weight is negative. Please input positive weights.\")\n",
    "        elif weight[i]>100:\n",
    "            raise Exception(\"The weight is greater than 100. Please input positive weights no higher than 100.\")\n",
    "        total +=weight[i]\n",
    "        avggrade = avggrade + (grade[i]*weight[i]/100)\n",
    "    if total !=100:\n",
    "        raise Exception(\"The weights do not add to 100.\")\n",
    "    return avggrade\n",
    "\n",
    "grades1 = [88,99,100,70]\n",
    "weights1 = [30, 30, 30, 5]\n",
    "\n",
    "grades2 = [78, 75, 80, 99]\n",
    "weights2 = [110, 10, -20]\n",
    "\n",
    "grades3 = [88, 75, 80, 99]\n",
    "weights3 = [60, 10, 20,10]\n",
    "\n",
    "#avggrade(grades1,weights1)\n",
    "avggrade(grades2,weights2)\n",
    "#avggrade(grades3,weights3)"
   ]
  }
 ],
 "metadata": {
  "anaconda-cloud": {},
  "kernelspec": {
   "display_name": "Python [Root]",
   "language": "python",
   "name": "Python [Root]"
  },
  "language_info": {
   "codemirror_mode": {
    "name": "ipython",
    "version": 3
   },
   "file_extension": ".py",
   "mimetype": "text/x-python",
   "name": "python",
   "nbconvert_exporter": "python",
   "pygments_lexer": "ipython3",
   "version": "3.5.2"
  }
 },
 "nbformat": 4,
 "nbformat_minor": 0
}
