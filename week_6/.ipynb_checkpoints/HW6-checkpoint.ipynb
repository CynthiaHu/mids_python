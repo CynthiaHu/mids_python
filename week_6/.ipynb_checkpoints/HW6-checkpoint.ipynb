{
 "cells": [
  {
   "cell_type": "markdown",
   "metadata": {},
   "source": [
    "\n",
    "# Homework 6 - Fall 2016\n",
    "Assignment due date: Midnight the night before the Week 7 Live Session."
   ]
  },
  {
   "cell_type": "markdown",
   "metadata": {},
   "source": [
    "# Part 1 Coding practice **reading and response**\n",
    "\n",
    "Your task for this week is to write a 250 word reading response to the article below. In addition, please list **3 questions** that you have from the article. Please write your response in a markdown cell, below this cell in the notebook.\n",
    "\n",
    "The writing response is a free response, so you may write about your reactions. An interesting thing that you saw in the article, something that really stuck out to you, etc.\n",
    "\n",
    "**Article**: [The PEP 8 Style Guide](https://www.python.org/dev/peps/pep-0008/#overriding-principle). This document is really important for Python coders because it describes best practices and customs for how one should write Python code. Please read it all and prepare your questions for class."
   ]
  },
  {
   "cell_type": "markdown",
   "metadata": {},
   "source": [
    "**[Free Response Here]**"
   ]
  },
  {
   "cell_type": "markdown",
   "metadata": {
    "collapsed": true
   },
   "source": [
    " "
   ]
  },
  {
   "cell_type": "markdown",
   "metadata": {},
   "source": [
    "# Part 2  - Cheating at Scrabble\n",
    "\n",
    "Write a Python script that takes a Scrabble rack **as a command-line argument** and prints all valid Scrabble words that can be constructed from that rack, along with their Scrabble scores, sorted by score. Valid Scrabble words are provided in the data source below.  A Scrabble rack is made up of any 7 characters.\n",
    "\n",
    "## There are a few of requirements:\n",
    "\n",
    "- This needs to be able to be **run as a command line tool** as you'll see below.\n",
    "- Please include a function called `score_word` in a separate module.  Import this function into your main solution code.\n",
    "- You need to handle input errors from the user and suggest what that error might be caused by (helpful error messages).\n",
    "- Implement wildcards as either `*` or `?`. That is, let the user specify a wildcard character that can take any value. There can be a total of two wild cards in any user input (one of each character).\n",
    "\n",
    "## Extra Credit (+10 points):\n",
    "\n",
    "- Allow a user to specify that a certain letter has to be at a certain location. Your program must work without it so this should be completely optional. For the extra credit, locations of certain letters must be specified at the command line, **it may not be some sort of user prompt.**\n",
    "\n",
    "\n",
    "## Example \n",
    "An example invocation and output:\n",
    "\n",
    "```sh\n",
    "$ python scrabble.py ZAEFIEE\n",
    "17 feeze\n",
    "17 feaze\n",
    "16 faze\n",
    "15 fiz\n",
    "15 fez\n",
    "12 zee\n",
    "12 zea\n",
    "11 za\n",
    "6 fie\n",
    "6 fee\n",
    "6 fae\n",
    "5 if\n",
    "5 fe\n",
    "5 fa\n",
    "5 ef\n",
    "2 ee\n",
    "2 ea\n",
    "2 ai\n",
    "2 ae\n",
    "```\n",
    "\n",
    "\n",
    "## The Data\n",
    "http://courses.cms.caltech.edu/cs11/material/advjava/lab1/sowpods.zip contains all words in the official SOWPODS word list, one word per line. You should download the word file and keep it in your repository so that the program is standalone (instead of accessing it over the web from Python).\n",
    "\n",
    "You can read data from a text file with the following code:\n",
    "```python\n",
    "with open(\"sowpods.txt\",\"r\") as infile:\n",
    "    raw_input = infile.readlines()\n",
    "    data = [datum.strip('\\n') for datum in raw_input]\n",
    "print(data[0:6])\n",
    "``` \n",
    "\n",
    "\n",
    "\n",
    "Here is a dictionary containing all letters and their Scrabble values:\n",
    "```python\n",
    "scores = {\"a\": 1, \"c\": 3, \"b\": 3, \"e\": 1, \"d\": 2, \"g\": 2,\n",
    "         \"f\": 4, \"i\": 1, \"h\": 4, \"k\": 5, \"j\": 8, \"m\": 3,\n",
    "         \"l\": 1, \"o\": 1, \"n\": 1, \"q\": 10, \"p\": 3, \"s\": 1,\n",
    "         \"r\": 1, \"u\": 1, \"t\": 1, \"w\": 4, \"v\": 4, \"y\": 4,\n",
    "         \"x\": 8, \"z\": 10}\n",
    "``` \n",
    "\n",
    "## Tips\n",
    "We recommend that you work on this and try to break down the problems into steps on your own before writing any code. Once you've scoped generally what you want to do, start writing some code and if you get stuck, take a step back and go back to thinking about the problem rather than trying to fix lots of errors at the code level. You should only use the Python standard library in this assignment, however any tool in there is fair game.\n",
    "\n",
    "## Tips Part 2\n",
    "If you keep getting stuck check out: https://openhatch.org/wiki/Scrabble_challenge. This is where we got the idea for this assignment and it provides some helpful tips for guiding you along the way. If that link doesn't work you can use the [google cached version here](http://webcache.googleusercontent.com/search?q=cache:https://openhatch.org/wiki/Scrabble_challenge). However I would sincerely recommend that you try to implement this first yourself before looking at the hints on the website.\n",
    "\n",
    "Good luck!\n",
    " "
   ]
  },
  {
   "cell_type": "code",
   "execution_count": null,
   "metadata": {
    "collapsed": true
   },
   "outputs": [],
   "source": []
  }
 ],
 "metadata": {
<<<<<<< HEAD
  "anaconda-cloud": {},
  "kernelspec": {
   "display_name": "Python [Root]",
   "language": "python",
   "name": "Python [Root]"
=======
  "kernelspec": {
   "display_name": "Python 2",
   "language": "python",
   "name": "python2"
>>>>>>> ed40770cb86909bff3e20351170cd128e4fd159c
  },
  "language_info": {
   "codemirror_mode": {
    "name": "ipython",
<<<<<<< HEAD
    "version": 3
=======
    "version": 2
>>>>>>> ed40770cb86909bff3e20351170cd128e4fd159c
   },
   "file_extension": ".py",
   "mimetype": "text/x-python",
   "name": "python",
   "nbconvert_exporter": "python",
<<<<<<< HEAD
   "pygments_lexer": "ipython3",
   "version": "3.5.2"
=======
   "pygments_lexer": "ipython2",
   "version": "2.7.12"
>>>>>>> ed40770cb86909bff3e20351170cd128e4fd159c
  }
 },
 "nbformat": 4,
 "nbformat_minor": 0
}
