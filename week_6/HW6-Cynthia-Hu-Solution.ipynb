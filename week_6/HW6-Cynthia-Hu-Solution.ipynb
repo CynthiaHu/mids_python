{
 "cells": [
  {
   "cell_type": "markdown",
   "metadata": {},
   "source": [
    "\n",
    "# Homework 6 - Fall 2016\n",
    "Assignment due date: Midnight the night before the Week 7 Live Session."
   ]
  },
  {
   "cell_type": "markdown",
   "metadata": {},
   "source": [
    "# Part 1 Coding practice **reading and response**\n",
    "\n",
    "Your task for this week is to write a 250 word reading response to the article below. In addition, please list **3 questions** that you have from the article. Please write your response in a markdown cell, below this cell in the notebook.\n",
    "\n",
    "The writing response is a free response, so you may write about your reactions. An interesting thing that you saw in the article, something that really stuck out to you, etc.\n",
    "\n",
    "**Article**: [The PEP 8 Style Guide](https://www.python.org/dev/peps/pep-0008/#overriding-principle). This document is really important for Python coders because it describes best practices and customs for how one should write Python code. Please read it all and prepare your questions for class."
   ]
  },
  {
   "cell_type": "markdown",
   "metadata": {},
   "source": [
    "**[Free Response Here]**\n",
    "Though I have some experience in coding from my daily job, I didn't take code readability as my priority before taking the python class. Most of the time, we have tight deadlines and a lot of work to complete; thus, my first priority would be get things done. If I have more time, I can improve my code not only for readability but also for efficiency. Also, it's not very common for others to review my code or work.\n",
    "\n",
    "However, after taking the python course and the article of style guide, I think I need to improve my style so that I would grow to a real programmer. It may take time to follow the guide and bring up good habits of coding. Ultimately, it would become my second nature and I can complete my tasks on time with high-quality codes. Further, as I write more and more codes, my work will be reviewed and perhaps learnt by others. Therefore, it's important to become professional in the style. \n",
    "\n",
    "It's easier said than done. For example, we should have enough comments and update them once we update our codes. Often, when I develop the codes, I may test different versions or make multiple changes daily. It's difficult to update the comments every time. Perhaps more feasibly to update the comments in the final version. However, it's hard to tell which version is the final one!\n",
    "\n",
    "Most of the contents in the article are quite helpful, especially the programming recommendation section. I'm also surprised that the guidance is at such granular level with a lot of details. As I haven't finished the course, I don't understand every detail of the article, such as \"Always use  self  for the first argument to instance methods. \" Sometimes I'm confused by the statements or there may be some inconsistencies? For example, don't use spaces around = sign in some scenario while need to use spaces around = sign in another case.\n",
    "\n",
    "As there are too many details in the guidance and I'm a novice in programming, it may take years' practice for me to follow most of the guidance as I may disagree with some of it. But shall I try to follow it even if I disagree so that my codes could be easily shared with other python programmers?\n",
    "\n",
    "My Questions below:\n",
    "1. will the codes still be working if i don't indent 4 spaces but the levels are right\n",
    "2. How to export global variables when import the module\n",
    "3. not fully understand what are public and internal interfaces"
   ]
  },
  {
   "cell_type": "markdown",
   "metadata": {},
   "source": [
    "# Part 2  - Cheating at Scrabble\n",
    "\n",
    "Write a Python script that takes a Scrabble rack **as a command-line argument** and prints all valid Scrabble words that can be constructed from that rack, along with their Scrabble scores, sorted by score. Valid Scrabble words are provided in the data source below.  A Scrabble rack is made up of any 7 characters.\n",
    "\n",
    "## There are a few of requirements:\n",
    "\n",
    "- This needs to be able to be **run as a command line tool** as you'll see below.\n",
    "- Please include a function called `score_word` in a separate module.  Import this function into your main solution code.\n",
    "- You need to handle input errors from the user and suggest what that error might be caused by (helpful error messages).\n",
    "- Implement wildcards as either `*` or `?`. That is, let the user specify a wildcard character that can take any value. There can be a total of two wild cards in any user input (one of each character).\n",
    "\n",
    "## Extra Credit (+10 points):\n",
    "\n",
    "- Allow a user to specify that a certain letter has to be at a certain location. Your program must work without it so this should be completely optional. For the extra credit, locations of certain letters must be specified at the command line, **it may not be some sort of user prompt.**\n",
    "\n",
    "\n",
    "## Example \n",
    "An example invocation and output:\n",
    "\n",
    "```sh\n",
    "$ python scrabble.py ZAEFIEE\n",
    "17 feeze\n",
    "17 feaze\n",
    "16 faze\n",
    "15 fiz\n",
    "15 fez\n",
    "12 zee\n",
    "12 zea\n",
    "11 za\n",
    "6 fie\n",
    "6 fee\n",
    "6 fae\n",
    "5 if\n",
    "5 fe\n",
    "5 fa\n",
    "5 ef\n",
    "2 ee\n",
    "2 ea\n",
    "2 ai\n",
    "2 ae\n",
    "```\n",
    "\n",
    "\n",
    "## The Data\n",
    "http://courses.cms.caltech.edu/cs11/material/advjava/lab1/sowpods.zip contains all words in the official SOWPODS word list, one word per line. You should download the word file and keep it in your repository so that the program is standalone (instead of accessing it over the web from Python).\n",
    "\n",
    "You can read data from a text file with the following code:\n",
    "```python\n",
    "with open(\"sowpods.txt\",\"r\") as infile:\n",
    "    raw_input = infile.readlines()\n",
    "    data = [datum.strip('\\n') for datum in raw_input]\n",
    "print(data[0:6])\n",
    "``` \n",
    "\n",
    "\n",
    "\n",
    "Here is a dictionary containing all letters and their Scrabble values:\n",
    "```python\n",
    "scores = {\"a\": 1, \"c\": 3, \"b\": 3, \"e\": 1, \"d\": 2, \"g\": 2,\n",
    "         \"f\": 4, \"i\": 1, \"h\": 4, \"k\": 5, \"j\": 8, \"m\": 3,\n",
    "         \"l\": 1, \"o\": 1, \"n\": 1, \"q\": 10, \"p\": 3, \"s\": 1,\n",
    "         \"r\": 1, \"u\": 1, \"t\": 1, \"w\": 4, \"v\": 4, \"y\": 4,\n",
    "         \"x\": 8, \"z\": 10}\n",
    "``` \n",
    "\n",
    "## Tips\n",
    "We recommend that you work on this and try to break down the problems into steps on your own before writing any code. Once you've scoped generally what you want to do, start writing some code and if you get stuck, take a step back and go back to thinking about the problem rather than trying to fix lots of errors at the code level. You should only use the Python standard library in this assignment, however any tool in there is fair game.\n",
    "\n",
    "## Tips Part 2\n",
    "If you keep getting stuck check out: https://openhatch.org/wiki/Scrabble_challenge. This is where we got the idea for this assignment and it provides some helpful tips for guiding you along the way. If that link doesn't work you can use the [google cached version here](http://webcache.googleusercontent.com/search?q=cache:https://openhatch.org/wiki/Scrabble_challenge). However I would sincerely recommend that you try to implement this first yourself before looking at the hints on the website.\n",
    "\n",
    "Good luck!\n",
    " "
   ]
  },
  {
   "cell_type": "code",
   "execution_count": 3,
   "metadata": {
    "collapsed": true
   },
   "outputs": [],
   "source": [
    "# score_function\n",
    "def score_word(word):\n",
    "    scores = {\"a\": 1, \"c\": 3, \"b\": 3, \"e\": 1, \"d\": 2, \"g\": 2,\n",
    "         \"f\": 4, \"i\": 1, \"h\": 4, \"k\": 5, \"j\": 8, \"m\": 3,\n",
    "         \"l\": 1, \"o\": 1, \"n\": 1, \"q\": 10, \"p\": 3, \"s\": 1,\n",
    "         \"r\": 1, \"u\": 1, \"t\": 1, \"w\": 4, \"v\": 4, \"y\": 4,\n",
    "         \"x\": 8, \"z\": 10}\n",
    "    total_score = 0\n",
    "    for char in word:\n",
    "        if char in ('?','*'):\n",
    "            score = 0\n",
    "        elif char.lower() not in scores.keys():\n",
    "            score = 0\n",
    "        else:\n",
    "            score = scores[char.lower()]\n",
    "        total_score += score\n",
    "    return total_score"
   ]
  },
  {
   "cell_type": "code",
   "execution_count": null,
   "metadata": {
    "collapsed": false
   },
   "outputs": [],
   "source": [
    "import sys\n",
    "import string\n",
    "from score_function import score_word\n",
    "from itertools import permutations\n",
    "from collections import Counter\n",
    "from collections import OrderedDict\n",
    "\n",
    "#if len(sys.argv) < 2:\n",
    "    #print(\"Please enter one argument.\")\n",
    "    #quit()\n",
    "#rack = sys.argv[1].lower()\n",
    "rack ='ZAEFI?E'.lower()\n",
    "if len(rack) != 7:\n",
    "    print(\"You didn't enter 7 characters.\")\n",
    "    quit()\n",
    "\n",
    "## get user input from command line argument\n",
    "\n",
    "count_word = Counter(rack)\n",
    "if count_word['*'] + count_word['?'] >2:\n",
    "    print(\"You entered more than 2 wildcards.\")\n",
    "    quit()\n",
    "\n",
    "## find all valid scrabble words\n",
    "all_words=[]\n",
    "scrabble_ls=[]\n",
    "\n",
    "with open(\"sowpods.txt\",\"r\") as infile:\n",
    "    raw_input = infile.readlines()\n",
    "    data = [datum.strip('\\n') for datum in raw_input]\n",
    "\n",
    "## find all combinations of characters\n",
    "for i in range(len(rack)):\n",
    "    temp=[''.join(t) for t in list(permutations(rack, i+1))]\n",
    "    all_words.extend(temp)\n",
    "#print(all_words)   \n",
    "## whether the combination is in the data dictionary    \n",
    "for item in all_words:\n",
    "    item_ls=list(item)\n",
    "    scrabble=[]\n",
    "    position=[]\n",
    "    # find the position of all wildcards\n",
    "    for i in range(len(item_ls)):\n",
    "        if item_ls[i] in ('?','*'):\n",
    "            position.append(i)\n",
    "    \n",
    "    if len(position) == 0:\n",
    "        if item.upper() in data:\n",
    "            scrabble_ls.append(item)\n",
    "    elif len(position)==1:\n",
    "        for j in string.ascii_lowercase:\n",
    "            item_ls[position[0]]=j\n",
    "            item2=''.join(item_ls)\n",
    "            if item2.upper() in data:\n",
    "                scrabble_ls.append(item)\n",
    "                break\n",
    "    elif len(position) == 2:\n",
    "        for j in string.ascii_lowercase:\n",
    "            item_ls[position[0]]=j\n",
    "            for k in string.ascii_lowercase:\n",
    "                item_ls[position[1]] = k\n",
    "                item2=''.join(item_ls)\n",
    "                if item2 in data:\n",
    "                    scrabble.append(item)\n",
    "                    break\n",
    "scrabble=set(scrabble_ls)\n",
    "\n",
    "## sort the scores, score for wildcard is 0\n",
    "scores={i:score_word(i) for i in scrabble}\n",
    "scores_sort=OrderedDict(sorted(scores.items(), key=lambda t: t[1], reverse=True))\n",
    "for word, score in scores_sort.items():\n",
    "    print(score,word)"
   ]
  },
  {
   "cell_type": "code",
   "execution_count": 3,
   "metadata": {
    "collapsed": false
   },
   "outputs": [
    {
     "name": "stdout",
     "output_type": "stream",
     "text": [
      "[]\n"
     ]
    }
   ],
   "source": [
    "data=['cytn','cynthiahu','cynthia','cyhn','cy']\n",
    "import string\n",
    "word='cy??'\n",
    "word_ls=list(word)\n",
    "scrabble=[]\n",
    "position=[]\n",
    "for i in range(len(word_ls)):\n",
    "    if word_ls[i] in ('?','*'):\n",
    "        position.append(i)\n",
    "        \n",
    "if len(position) == 2:\n",
    "    for j in string.ascii_lowercase:\n",
    "        word_ls[position[0]]=j\n",
    "        for k in string.ascii_lowercase:\n",
    "            word_ls[position[1]] = k\n",
    "            word2=''.join(word_ls)\n",
    "            if word2 in data:\n",
    "                print(word2)\n",
    "                scrabble.append(word)\n",
    "                break\n",
    "print(scrabble)"
   ]
  },
  {
   "cell_type": "code",
   "execution_count": 2,
   "metadata": {
    "collapsed": false
   },
   "outputs": [
    {
     "name": "stdout",
     "output_type": "stream",
     "text": [
      "['C', '?', '?', 'C?', 'C?', '?C', '??', '?C', '??', 'C??', 'C??', '?C?', '??C', '?C?', '??C']\n"
     ]
    }
   ],
   "source": [
    "import sys\n",
    "import string\n",
    "from score_function import score_word\n",
    "from itertools import permutations\n",
    "from collections import Counter\n",
    "from collections import OrderedDict\n",
    "\n",
    "## get user input from command line argument\n",
    "rack ='C??'\n",
    "all_words=[]\n",
    "for i in range(len(rack)):\n",
    "    temp=[''.join(t) for t in list(permutations(rack, i+1))]\n",
    "    all_words.extend(temp)\n",
    "print(all_words)"
   ]
  },
  {
   "cell_type": "code",
   "execution_count": 1,
   "metadata": {
    "collapsed": false
   },
   "outputs": [
    {
     "data": {
      "text/plain": [
       "'cy??'"
      ]
     },
     "execution_count": 1,
     "metadata": {},
     "output_type": "execute_result"
    }
   ],
   "source": [
    "word='Cy??'\n",
    "word.lower()"
   ]
  },
  {
   "cell_type": "code",
   "execution_count": null,
   "metadata": {
    "collapsed": true
   },
   "outputs": [],
   "source": []
  }
 ],
 "metadata": {
  "anaconda-cloud": {},
  "kernelspec": {
   "display_name": "Python [Root]",
   "language": "python",
   "name": "Python [Root]"
  },
  "language_info": {
   "codemirror_mode": {
    "name": "ipython",
    "version": 3
   },
   "file_extension": ".py",
   "mimetype": "text/x-python",
   "name": "python",
   "nbconvert_exporter": "python",
   "pygments_lexer": "ipython3",
   "version": "3.5.2"
  }
 },
 "nbformat": 4,
 "nbformat_minor": 0
}
