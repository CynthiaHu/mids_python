{
 "cells": [
  {
   "cell_type": "markdown",
   "metadata": {},
   "source": [
    "\n",
    "# Homework 6 - Fall 2016\n",
    "Assignment due date: Midnight the night before the Week 7 Live Session."
   ]
  },
  {
   "cell_type": "markdown",
   "metadata": {},
   "source": [
    "# Part 1 Coding practice **reading and response**\n",
    "\n",
    "Your task for this week is to write a 250 word reading response to the article below. In addition, please list **3 questions** that you have from the article. Please write your response in a markdown cell, below this cell in the notebook.\n",
    "\n",
    "The writing response is a free response, so you may write about your reactions. An interesting thing that you saw in the article, something that really stuck out to you, etc.\n",
    "\n",
    "**Article**: [The PEP 8 Style Guide](https://www.python.org/dev/peps/pep-0008/#overriding-principle). This document is really important for Python coders because it describes best practices and customs for how one should write Python code. Please read it all and prepare your questions for class."
   ]
  },
  {
   "cell_type": "markdown",
   "metadata": {},
   "source": [
    "**[Free Response Here]**"
   ]
  },
  {
   "cell_type": "markdown",
   "metadata": {
    "collapsed": true
   },
   "source": [
    " "
   ]
  },
  {
   "cell_type": "markdown",
   "metadata": {},
   "source": [
    "# Part 2  - Cheating at Scrabble\n",
    "\n",
    "Write a Python script that takes a Scrabble rack **as a command-line argument** and prints all valid Scrabble words that can be constructed from that rack, along with their Scrabble scores, sorted by score. Valid Scrabble words are provided in the data source below.  A Scrabble rack is made up of any 7 characters.\n",
    "\n",
    "## There are a few of requirements:\n",
    "\n",
    "- This needs to be able to be **run as a command line tool** as you'll see below.\n",
    "- Please include a function called `score_word` in a separate module.  Import this function into your main solution code.\n",
    "- You need to handle input errors from the user and suggest what that error might be caused by (helpful error messages).\n",
    "- Implement wildcards as either `*` or `?`. That is, let the user specify a wildcard character that can take any value. There can be a total of two wild cards in any user input (one of each character).\n",
    "\n",
    "## Extra Credit (+10 points):\n",
    "\n",
    "- Allow a user to specify that a certain letter has to be at a certain location. Your program must work without it so this should be completely optional. For the extra credit, locations of certain letters must be specified at the command line, **it may not be some sort of user prompt.**\n",
    "\n",
    "\n",
    "## Example \n",
    "An example invocation and output:\n",
    "\n",
    "```sh\n",
    "$ python scrabble.py ZAEFIEE\n",
    "17 feeze\n",
    "17 feaze\n",
    "16 faze\n",
    "15 fiz\n",
    "15 fez\n",
    "12 zee\n",
    "12 zea\n",
    "11 za\n",
    "6 fie\n",
    "6 fee\n",
    "6 fae\n",
    "5 if\n",
    "5 fe\n",
    "5 fa\n",
    "5 ef\n",
    "2 ee\n",
    "2 ea\n",
    "2 ai\n",
    "2 ae\n",
    "```\n",
    "\n",
    "\n",
    "## The Data\n",
    "http://courses.cms.caltech.edu/cs11/material/advjava/lab1/sowpods.zip contains all words in the official SOWPODS word list, one word per line. You should download the word file and keep it in your repository so that the program is standalone (instead of accessing it over the web from Python).\n",
    "\n",
    "You can read data from a text file with the following code:\n",
    "```python\n",
    "with open(\"sowpods.txt\",\"r\") as infile:\n",
    "    raw_input = infile.readlines()\n",
    "    data = [datum.strip('\\n') for datum in raw_input]\n",
    "print(data[0:6])\n",
    "``` \n",
    "\n",
    "\n",
    "\n",
    "Here is a dictionary containing all letters and their Scrabble values:\n",
    "```python\n",
    "scores = {\"a\": 1, \"c\": 3, \"b\": 3, \"e\": 1, \"d\": 2, \"g\": 2,\n",
    "         \"f\": 4, \"i\": 1, \"h\": 4, \"k\": 5, \"j\": 8, \"m\": 3,\n",
    "         \"l\": 1, \"o\": 1, \"n\": 1, \"q\": 10, \"p\": 3, \"s\": 1,\n",
    "         \"r\": 1, \"u\": 1, \"t\": 1, \"w\": 4, \"v\": 4, \"y\": 4,\n",
    "         \"x\": 8, \"z\": 10}\n",
    "``` \n",
    "\n",
    "## Tips\n",
    "We recommend that you work on this and try to break down the problems into steps on your own before writing any code. Once you've scoped generally what you want to do, start writing some code and if you get stuck, take a step back and go back to thinking about the problem rather than trying to fix lots of errors at the code level. You should only use the Python standard library in this assignment, however any tool in there is fair game.\n",
    "\n",
    "## Tips Part 2\n",
    "If you keep getting stuck check out: https://openhatch.org/wiki/Scrabble_challenge. This is where we got the idea for this assignment and it provides some helpful tips for guiding you along the way. If that link doesn't work you can use the [google cached version here](http://webcache.googleusercontent.com/search?q=cache:https://openhatch.org/wiki/Scrabble_challenge). However I would sincerely recommend that you try to implement this first yourself before looking at the hints on the website.\n",
    "\n",
    "Good luck!\n",
    " "
   ]
  },
  {
   "cell_type": "code",
   "execution_count": null,
   "metadata": {
    "collapsed": true
   },
   "outputs": [],
   "source": [
    "## Load Dictionary Function\n",
    "\n",
    "## Prompt User for Word List, Check Input, Etc.\n",
    "\n",
    "## Function to Extract Word Matches\n",
    "\n",
    "## Score Word Function"
   ]
  },
  {
   "cell_type": "code",
   "execution_count": 8,
   "metadata": {
    "collapsed": false
   },
   "outputs": [],
   "source": [
    "## Load Dictionary Function\n",
    "def load_dictionary():\n",
    "    with open(\"sowpods.txt\",\"r\") as infile:\n",
    "        raw_input = infile.readlines()\n",
    "        data = [datum.strip('\\n') for datum in raw_input if len(datum) <= 7]\n",
    "    return data"
   ]
  },
  {
   "cell_type": "code",
   "execution_count": 9,
   "metadata": {
    "collapsed": false
   },
   "outputs": [
    {
     "name": "stdout",
     "output_type": "stream",
     "text": [
      "41505\n"
     ]
    }
   ],
   "source": [
    "print(len(load_dictionary()))"
   ]
  },
  {
   "cell_type": "code",
   "execution_count": 19,
   "metadata": {
    "collapsed": true
   },
   "outputs": [],
   "source": [
    "from collections import Counter\n",
    "\n",
    "def match_words(valid_words, scrabble_rack, wild_threshold = 0):\n",
    "    \"\"\"This function accepts a scrabble rack, word dicaitonary, and a wildcard threshold. It returns all words \n",
    "        that match the rack within the wildcard threshold.\"\"\"\n",
    "    matched_words = []\n",
    "    \n",
    "    # Counter with the number of each letter in the rack\n",
    "    rack_counter = Counter(scrabble_rack)\n",
    "    \n",
    "    # Loop through valid words\n",
    "    for word in valid_words:\n",
    "        word_counter = Counter(word)\n",
    "        \n",
    "        # Calculate how many of the letters in the word are NOT in the scrabble rack\n",
    "        word_missing_letters = 0\n",
    "        for key in word_counter:\n",
    "            this_missing_letter = max(word_counter[key] - rack_counter.get(key,0), 0)     \n",
    "            word_missing_letters += this_missing_letter\n",
    "        #print(\"The word {} is missing {} letters from the rack\".format(word, word_missing_letters))\n",
    "        \n",
    "        # If the number of missing letters is less than the wildcard threshold, then add the word to the results\n",
    "        if word_missing_letters <= wild_threshold:\n",
    "            matched_words.append(word)\n",
    "            \n",
    "    return matched_words\n"
   ]
  },
  {
   "cell_type": "code",
   "execution_count": 21,
   "metadata": {
    "collapsed": false
   },
   "outputs": [
    {
     "name": "stdout",
     "output_type": "stream",
     "text": [
      "['PI', 'PIZZA', 'FOO', 'PIAA', 'ZZZ', 'ZZ']\n",
      "\n",
      "['PI', 'PIZZA', 'PIAA', 'ZZZ', 'ZZ']\n"
     ]
    }
   ],
   "source": [
    "diagnostic_list = [\"PI\",\"PIZZA\",\"FOO\",\"PIAA\",\"ZZZ\",\"ZZ\"]\n",
    "\n",
    "print(diagnostic_list)\n",
    "results = match_words(diagnostic_list, \"PIZZA\", 1)\n",
    "print()\n",
    "print(results)"
   ]
  },
  {
   "cell_type": "code",
   "execution_count": 20,
   "metadata": {
    "collapsed": false
   },
   "outputs": [
    {
     "name": "stdout",
     "output_type": "stream",
     "text": [
      "['AA', 'AAS', 'AM', 'AMA', 'AMAS', 'AMU', 'AMUS', 'AS', 'AUA', 'AUF', 'AUFS', 'FA', 'FAA', 'FAAS', 'FAS', 'FUM', 'FUMS', 'MA', 'MAA', 'MAAS', 'MAS', 'MASA', 'MASU', 'MU', 'MUS', 'SAM', 'SAMA', 'SAMFU', 'SAU', 'SMA', 'SUM', 'UM', 'US']\n"
     ]
    }
   ],
   "source": [
    "valid_words = load_dictionary()\n",
    "test = match_words(valid_words, \"MUFASA\", 0)\n",
    "print(test)"
   ]
  },
  {
   "cell_type": "code",
   "execution_count": 136,
   "metadata": {
    "collapsed": false
   },
   "outputs": [
    {
     "name": "stdout",
     "output_type": "stream",
     "text": [
      "12 matches found.\n",
      "PIAZZA: 26\n",
      "PIZZA: 25\n",
      "ZIZ: 21\n",
      "ZAP: 14\n",
      "ZIP: 14\n",
      "ZA: 11\n",
      "PIA: 5\n",
      "PA: 4\n",
      "PI: 4\n",
      "AIA: 3\n",
      "AA: 2\n",
      "AI: 2\n"
     ]
    }
   ],
   "source": [
    "# Practice input validation\n",
    "scrabble_rack = \"PIZZAAA\".upper()\n",
    "\n",
    "# Make sure all characters are in the alphabet.\n",
    "if len(scrabble_rack) != 7:\n",
    "    print(\"Please input a scrabble rack of 7 characters.\")\n",
    "elif sum([1 for letter in scrabble_rack if letter not in 'ABCDEFGHIJKLMNOPQRSTUVWXYZ*?']) > 0:\n",
    "    print(\"Please only enter letters and * or ? in your scrabble rack.\")\n",
    "elif scrabble_rack.count(\"*\") > 1 or scrabble_rack.count(\"?\") > 1:\n",
    "    print(\"Please only use up to one of each wildcard symbol: '?' and '*'\")\n",
    "else:\n",
    "    # Count wildcards\n",
    "    num_wildcards = scrabble_rack.count(\"*\") + scrabble_rack.count(\"?\")\n",
    "    # Load the dictionary\n",
    "    valid_words = load_dictionary()\n",
    "    # Find matches\n",
    "    matched_words = match_words(valid_words, scrabble_rack, num_wildcards)\n",
    "    # Score matches\n",
    "    scores = {\"a\": 1, \"c\": 3, \"b\": 3, \"e\": 1, \"d\": 2, \"g\": 2,\n",
    "         \"f\": 4, \"i\": 1, \"h\": 4, \"k\": 5, \"j\": 8, \"m\": 3,\n",
    "         \"l\": 1, \"o\": 1, \"n\": 1, \"q\": 10, \"p\": 3, \"s\": 1,\n",
    "         \"r\": 1, \"u\": 1, \"t\": 1, \"w\": 4, \"v\": 4, \"y\": 4,\n",
    "         \"x\": 8, \"z\": 10}\n",
    "    scored_words = score_words(matched_words, scores)\n",
    "    print(\"{} matches found.\".format(len(scored_words)))\n",
    "    [print(x[0] + \":\", x[1]) for x in scored_words]\n"
   ]
  },
  {
   "cell_type": "code",
   "execution_count": 111,
   "metadata": {
    "collapsed": false
   },
   "outputs": [
    {
     "name": "stdout",
     "output_type": "stream",
     "text": [
      "[('SAMFU', 10), ('FUMS', 9), ('FUM', 8), ('AUFS', 7), ('FAAS', 7), ('AMAS', 6), ('AMUS', 6), ('AUF', 6), ('FAA', 6), ('FAS', 6), ('MAAS', 6), ('MASA', 6), ('MASU', 6), ('SAMA', 6), ('AMA', 5), ('AMU', 5), ('FA', 5), ('MAA', 5), ('MAS', 5), ('MUS', 5), ('SAM', 5), ('SMA', 5), ('SUM', 5), ('AM', 4), ('MA', 4), ('MU', 4), ('UM', 4), ('AAS', 3), ('AUA', 3), ('SAU', 3), ('AA', 2), ('AS', 2), ('US', 2)]\n"
     ]
    }
   ],
   "source": [
    "print(score_words(test, scores))"
   ]
  },
  {
   "cell_type": "code",
   "execution_count": 17,
   "metadata": {
    "collapsed": false
   },
   "outputs": [],
   "source": [
    "def score_words(word_list, scores):\n",
    "    \"\"\"Calculate the score for each word in a word-list. Return a sorted list of tuples (eord, score)\"\"\"\n",
    "    score_list = [(word, sum([scores[letter.lower()] for letter in word])) for word in word_list]\n",
    "    return sorted(score_list,key=lambda x: x[1], reverse=True)"
   ]
  },
  {
   "cell_type": "markdown",
   "metadata": {},
   "source": [
    "# Run an alternative solution from the command line with the fixed letter position option"
   ]
  },
  {
   "cell_type": "code",
   "execution_count": 25,
   "metadata": {
    "collapsed": false
   },
   "outputs": [
    {
     "name": "stdout",
     "output_type": "stream",
     "text": [
      "['scrabble.py', 'albin?*', 'sowpods.txt', 'a2']\n",
      "this is a sample of your wordfile ['AA', 'AAH', 'AAHED', 'AAHING', 'AAHS', 'AAL']\n",
      "The fixed position letter is A\n",
      "The fixed position number is 1\n",
      "[('BALMING', 7), ('SABLING', 7), ('BALADIN', 7), ('FABLING', 7), ('BALDING', 7), ('BALING', 7), ('BASINAL', 7), ('GABLING', 7), ('BALKING', 7), ('BALLING', 7), ('BAILING', 7), ('BAIRNLY', 7), ('CABLING', 7), ('LAMBING', 7), ('LAMBKIN', 7), ('BAWLING', 7), ('TABLING', 7), ('BANIAS', 6), ('BAVIN', 6), ('LAMBIE', 6), ('BAGNIO', 6), ('BANAL', 6), ('BANIA', 6), ('MALIBU', 6), ('NABIS', 6), ('BANING', 6), ('BAILED', 6), ('BANIAN', 6), ('BAININ', 6), ('BASILS', 6), ('BASING', 6), ('BAILLI', 6), ('BAAING', 6), ('BAKING', 6), ('BAIRNS', 6), ('BALLON', 6), ('LABILE', 6), ('BANISH', 6), ('RABBIN', 6), ('BALTIS', 6), ('BANKIT', 6), ('BAILER', 6), ('BARING', 6), ('LABIA', 6), ('BATING', 6), ('CABINS', 6), ('BAYING', 6), ('BAILIE', 6), ('BASIN', 6), ('BASION', 6), ('BASIL', 6), ('NABLAS', 6), ('LABIUM', 6), ('NABLA', 6), ('BAILEE', 6), ('BANI', 6), ('CABIN', 6), ('BASINS', 6), ('FAIBLE', 6), ('BAALIM', 6), ('GABION', 6), ('LABRID', 6), ('BAIRN', 6), ('BAILS', 6), ('LABIS', 6), ('BANZAI', 6), ('SABIN', 6), ('BALLAN', 6), ('LABIAL', 6), ('BAILEY', 6), ('BANGLE', 6), ('BAILOR', 6), ('BAVINS', 6), ('BAIL', 6), ('SABINS', 6), ('HABILE', 6), ('TABULI', 6), ('BALUN', 6), ('BANDIT', 6), ('BALUNS', 6), ('BALEEN', 6), ('SABINE', 6), ('WABAIN', 6), ('BALTI', 6), ('BANK', 5), ('BARNY', 5), ('FABLE', 5), ('HABLE', 5), ('BANC', 5), ('BAGEL', 5), ('BASIC', 5), ('BANS', 5), ('LABOR', 5), ('RABI', 5), ('BAIZE', 5), ('BALE', 5), ('BASSI', 5), ('RABIC', 5), ('LAB', 5), ('RABIS', 5), ('BANAK', 5), ('BANTY', 5), ('BANES', 5), ('BASAN', 5), ('BALED', 5), ('BANDY', 5), ('BANDH', 5), ('BAEL', 5), ('BAGIE', 5), ('BAND', 5), ('LABDA', 5), ('SABLE', 5), ('HABIT', 5), ('TABIS', 5), ('SAHIB', 5), ('BARIC', 5), ('BALMS', 5), ('BASON', 5), ('CABLE', 5), ('BAWL', 5), ('BAIT', 5), ('BAALS', 5), ('BALLS', 5), ('BAL', 5), ('TABID', 5), ('TABUN', 5), ('BANCO', 5), ('BASTI', 5), ('BALU', 5), ('BACON', 5), ('BANDS', 5), ('BANGS', 5), ('BALD', 5), ('BATON', 5), ('BALDY', 5), ('BANJO', 5), ('BARNS', 5), ('BAITS', 5), ('BAELS', 5), ('BAMBI', 5), ('BALS', 5), ('BALES', 5), ('BAWNS', 5), ('BANDA', 5), ('CABAL', 5), ('BALKY', 5), ('BALUS', 5), ('RABID', 5), ('SABIR', 5), ('BALL', 5), ('BALM', 5), ('BALLY', 5), ('BARON', 5), ('BASAL', 5), ('LAMBS', 5), ('BAULK', 5), ('BANED', 5), ('BAKEN', 5), ('BANTU', 5), ('BAJRI', 5), ('LABEL', 5), ('TABLA', 5), ('NABKS', 5), ('NAB', 5), ('BANE', 5), ('TABI', 5), ('BALDS', 5), ('BANNS', 5), ('BALK', 5), ('BALAS', 5), ('NAWAB', 5), ('BANT', 5), ('BALMY', 5), ('BARN', 5), ('BAWN', 5), ('BAIZA', 5), ('LAMBY', 5), ('BABUL', 5), ('BAAL', 5), ('BADLY', 5), ('RABBI', 5), ('BANG', 5), ('LABS', 5), ('BAYLE', 5), ('BALKS', 5), ('TABLE', 5), ('BAWLS', 5), ('IAMBS', 5), ('BANCS', 5), ('BALOO', 5), ('BAITH', 5), ('BAN', 5), ('BANTS', 5), ('LAMB', 5), ('LABRA', 5), ('SABAL', 5), ('BALSA', 5), ('BAJAN', 5), ('BASIS', 5), ('BATIK', 5), ('BANKS', 5), ('NABS', 5), ('IAMBI', 5), ('NABE', 5), ('GABLE', 5), ('NABK', 5), ('NABES', 5), ('NABOB', 5), ('IAMB', 5), ('BALER', 5), ('BABEL', 5), ('BAP', 4), ('LAKINS', 4), ('DABS', 4), ('BABU', 4), ('WABS', 4), ('NAILED', 4), ('BAC', 4), ('BA', 4), ('LAZING', 4), ('BAPU', 4), ('BASS', 4), ('VAINLY', 4), ('HALING', 4), ('LAKING', 4), ('DARB', 4), ('BAYS', 4), ('MALINE', 4), ('BAH', 4), ('BAR', 4), ('GABS', 4), ('KAOLIN', 4), ('BARS', 4), ('JAMB', 4), ('TALION', 4), ('BAMS', 4), ('CALKIN', 4), ('VALINE', 4), ('SALINE', 4), ('LARINE', 4), ('BARB', 4), ('MANILA', 4), ('LAYIN', 4), ('BAD', 4), ('YABA', 4), ('FAINLY', 4), ('CATLIN', 4), ('WARB', 4), ('BAFF', 4), ('BATS', 4), ('KABS', 4), ('NAILS', 4), ('SALINA', 4), ('CABA', 4), ('LAVING', 4), ('MALKIN', 4), ('NASIAL', 4), ('CAB', 4), ('NAIFLY', 4), ('SAB', 4), ('BAFT', 4), ('FABS', 4), ('BAJU', 4), ('LAWIN', 4), ('BAYT', 4), ('LATINA', 4), ('BASH', 4), ('BARK', 4), ('BARD', 4), ('BAYE', 4), ('LAWING', 4), ('BATH', 4), ('CARB', 4), ('GAMB', 4), ('TABS', 4), ('GAB', 4), ('BAWR', 4), ('LAMING', 4), ('BADE', 4), ('BASK', 4), ('SABS', 4), ('BAPS', 4), ('SABE', 4), ('BAS', 4), ('BAGS', 4), ('ZANILY', 4), ('MARLIN', 4), ('BARM', 4), ('PAULIN', 4), ('GAINLY', 4), ('BAHT', 4), ('LACING', 4), ('LANAI', 4), ('BABY', 4), ('BABE', 4), ('BAGH', 4), ('KALIAN', 4), ('BAM', 4), ('CABS', 4), ('BAA', 4), ('CAPLIN', 4), ('NAIL', 4), ('LATTIN', 4), ('JABS', 4), ('BADS', 4), ('BACS', 4), ('BATT', 4), ('BAKE', 4), ('LAMINA', 4), ('LAWINE', 4), ('HABU', 4), ('DAB', 4), ('BAY', 4), ('BAUD', 4), ('BAWD', 4), ('BARE', 4), ('FAB', 4), ('BARF', 4), ('KAB', 4), ('LAIN', 4), ('GABY', 4), ('LATINO', 4), ('BACH', 4), ('MALIGN', 4), ('PALING', 4), ('LAYING', 4), ('CARLIN', 4), ('TABU', 4), ('BAG', 4), ('LASING', 4), ('MABE', 4), ('BABA', 4), ('GARB', 4), ('MAINLY', 4), ('BAT', 4), ('NARIAL', 4), ('DAUB', 4), ('LADING', 4), ('LAPIN', 4), ('BARP', 4), ('LAGGIN', 4), ('BASE', 4), ('BATE', 4), ('LAYINS', 4), ('BACK', 4), ('LAWINS', 4), ('WAB', 4), ('TAB', 4), ('LAPINS', 4), ('MASLIN', 4), ('NAILER', 4), ('LAKIN', 4), ('LADINO', 4), ('WALING', 4), ('JAB', 4), ('BAUK', 4), ('BAST', 4), ('RATLIN', 4), ('LANAIS', 4), ('BAAS', 4), ('BAUR', 4), ('KAINS', 3), ('MANI', 3), ('AALII', 3), ('NALLA', 3), ('LAIR', 3), ('SALON', 3), ('RAVIN', 3), ('FANAL', 3), ('CANAL', 3), ('MANIA', 3), ('VALI', 3), ('LARI', 3), ('CALID', 3), ('HAIL', 3), ('TAINT', 3), ('LANG', 3), ('SAILS', 3), ('LAITY', 3), ('MALIS', 3), ('DALI', 3), ('KALIS', 3), ('LANCE', 3), ('MAVIN', 3), ('PAIN', 3), ('KAIN', 3), ('SAVIN', 3), ('NATIS', 3), ('LAIGH', 3), ('LATI', 3), ('NAZIS', 3), ('HAINS', 3), ('NAEVI', 3), ('MANIS', 3), ('TAKIN', 3), ('JAIL', 3), ('LANE', 3), ('LAIKS', 3), ('FAGIN', 3), ('SALIC', 3), ('KAING', 3), ('NAIK', 3), ('TAILS', 3), ('FAINS', 3), ('LANAS', 3), ('LAMIA', 3), ('CAVIL', 3), ('CALIX', 3), ('LANT', 3), ('RANIS', 3), ('TAINS', 3), ('LADEN', 3), ('FAINE', 3), ('LAARI', 3), ('VAILS', 3), ('HAIN', 3), ('NAZI', 3), ('DALIS', 3), ('NAIAD', 3), ('HALON', 3), ('LANK', 3), ('RAINE', 3), ('PANIC', 3), ('RAWIN', 3), ('VAIL', 3), ('LAICH', 3), ('TANGI', 3), ('NAIRA', 3), ('GARNI', 3), ('PANEL', 3), ('PAVIN', 3), ('RANID', 3), ('GAIN', 3), ('PATIN', 3), ('MAIN', 3), ('PALKI', 3), ('NAIVE', 3), ('VALIS', 3), ('MALI', 3), ('VALID', 3), ('RANGI', 3), ('LAUAN', 3), ('PAINT', 3), ('LANKY', 3), ('PAOLI', 3), ('GAINS', 3), ('NAIN', 3), ('LAIKA', 3), ('SAINS', 3), ('NAVEL', 3), ('LAZZI', 3), ('WAIL', 3), ('MAIL', 3), ('LAIRS', 3), ('LATEN', 3), ('KAILS', 3), ('LAWN', 3), ('KAIL', 3), ('RAIN', 3), ('MATIN', 3), ('RAIL', 3), ('HAINT', 3), ('SAINT', 3), ('NADIR', 3), ('LAID', 3), ('PANIM', 3), ('LAIRD', 3), ('NASHI', 3), ('FAIL', 3), ('LAGAN', 3), ('RAINS', 3), ('SASIN', 3), ('WAILS', 3), ('SAIL', 3), ('SALIX', 3), ('WANLY', 3), ('NATAL', 3), ('CALIF', 3), ('WANLE', 3), ('LAWNS', 3), ('NALAS', 3), ('MAILL', 3), ('LAUND', 3), ('RAILS', 3), ('NAIRU', 3), ('TAMIN', 3), ('PALPI', 3), ('LARIS', 3), ('NAIKS', 3), ('DAINT', 3), ('TAIN', 3), ('LAWNY', 3), ('CANID', 3), ('HAILY', 3), ('HALID', 3), ('NASAL', 3), ('CAIRN', 3), ('LANDE', 3), ('WALIS', 3), ('CAINS', 3), ('VAKIL', 3), ('FAIN', 3), ('LAIK', 3), ('MAILS', 3), ('LAPIS', 3), ('NARIC', 3), ('SAINE', 3), ('VAIN', 3), ('MALIK', 3), ('DAILY', 3), ('TALI', 3), ('PAIL', 3), ('MALIC', 3), ('MANLY', 3), ('NALED', 3), ('KALIF', 3), ('NALA', 3), ('LARNS', 3), ('TANTI', 3), ('ZAYIN', 3), ('SARIN', 3), ('WAIN', 3), ('GAMIN', 3), ('LATHI', 3), ('NAIFS', 3), ('LAITH', 3), ('KANJI', 3), ('RAINY', 3), ('DAINE', 3), ('TAIL', 3), ('LANA', 3), ('KALI', 3), ('GAILY', 3), ('LAND', 3), ('MANUL', 3), ('PAINS', 3), ('RAILE', 3), ('PAILS', 3), ('FAILS', 3), ('JAILS', 3), ('NARIS', 3), ('SALMI', 3), ('LAIRY', 3), ('LARN', 3), ('LASSI', 3), ('NAVAL', 3), ('SAIN', 3), ('NAIF', 3), ('LAIC', 3), ('RANI', 3), ('LANX', 3), ('DANIO', 3), ('RAMIN', 3), ('MAINS', 3), ('HANGI', 3), ('NAZIR', 3), ('LANCH', 3), ('MANDI', 3), ('LANKS', 3), ('LAIDS', 3), ('NAHAL', 3), ('MAILE', 3), ('LANTS', 3), ('LANDS', 3), ('MANIC', 3), ('WAINS', 3), ('NAOI', 3), ('TALON', 3), ('LANES', 3), ('WALI', 3), ('LAICS', 3), ('HAILS', 3), ('FAINT', 3), ('CAIN', 3), ('SATIN', 3), ('RAIS', 2), ('TAIT', 2), ('LAKH', 2), ('FAWN', 2), ('LAMA', 2), ('VALE', 2), ('NADA', 2), ('NAE', 2), ('NATS', 2), ('NAG', 2), ('WADI', 2), ('EAN', 2), ('DAIS', 2), ('PAIR', 2), ('CANE', 2), ('MAUN', 2), ('SAIS', 2), ('TANS', 2), ('KAI', 2), ('SAWN', 2), ('RAN', 2), ('MAKI', 2), ('WAND', 2), ('HALT', 2), ('NAVY', 2), ('CALF', 2), ('LARD', 2), ('SAKI', 2), ('LAC', 2), ('PAND', 2), ('SAI', 2), ('SANS', 2), ('PAAL', 2), ('PANG', 2), ('SAIM', 2), ('LAVS', 2), ('KAIE', 2), ('WALD', 2), ('RAIA', 2), ('MANS', 2), ('KATI', 2), ('LALL', 2), ('KANG', 2), ('NAT', 2), ('DAL', 2), ('CARL', 2), ('NAGS', 2), ('FAIR', 2), ('LAER', 2), ('NARE', 2), ('MAWN', 2), ('KALE', 2), ('LAST', 2), ('MANO', 2), ('LAHS', 2), ('FARL', 2), ('MALE', 2), ('WALK', 2), ('CANY', 2), ('LATU', 2), ('LAR', 2), ('LAS', 2), ('LASH', 2), ('WAIR', 2), ('WAWL', 2), ('LASE', 2), ('HAUL', 2), ('LASS', 2), ('MAND', 2), ('GALL', 2), ('SAL', 2), ('CAID', 2), ('WARN', 2), ('LADE', 2), ('YALE', 2), ('SANG', 2), ('CADI', 2), ('WANY', 2), ('GAUN', 2), ('MANG', 2), ('KAMI', 2), ('FAIX', 2), ('SAND', 2), ('FANO', 2), ('NARK', 2), ('SARI', 2), ('MAGI', 2), ('SAIC', 2), ('NANS', 2), ('LAG', 2), ('DALS', 2), ('QAID', 2), ('LAKE', 2), ('PADI', 2), ('LAY', 2), ('NAFF', 2), ('MAL', 2), ('TAEL', 2), ('SALL', 2), ('TANG', 2), ('RAND', 2), ('GADI', 2), ('PAID', 2), ('SAUL', 2), ('TALL', 2), ('GANT', 2), ('LAYS', 2), ('NAM', 2), ('LAZE', 2), ('FANK', 2), ('TANE', 2), ('GAOL', 2), ('LAX', 2), ('HAIR', 2), ('CALM', 2), ('NAH', 2), ('GAL', 2), ('PALS', 2), ('RAIT', 2), ('LAWK', 2), ('DARN', 2), ('LAV', 2), ('KAIS', 2), ('MAIK', 2), ('KANS', 2), ('FAUN', 2), ('TAI', 2), ('SANE', 2), ('GAIT', 2), ('WAI', 2), ('NAMU', 2), ('NAOS', 2), ('NADS', 2), ('LA', 2), ('WAN', 2), ('TAAL', 2), ('NAPA', 2), ('NAYS', 2), ('YALD', 2), ('ZANY', 2), ('LADS', 2), ('LAW', 2), ('NARC', 2), ('KAON', 2), ('JARL', 2), ('FANS', 2), ('GANE', 2), ('LAZO', 2), ('EANS', 2), ('KAIK', 2), ('MAUL', 2), ('GAIR', 2), ('SANT', 2), ('VANG', 2), ('GAID', 2), ('NAS', 2), ('LACY', 2), ('DANK', 2), ('FAND', 2), ('DAHL', 2), ('KAIF', 2), ('RAMI', 2), ('LARE', 2), ('AAL', 2), ('LAZY', 2), ('TAIG', 2), ('LAUF', 2), ('WANE', 2), ('LADY', 2), ('NARD', 2), ('RAWN', 2), ('RANT', 2), ('EALE', 2), ('GALA', 2), ('CANG', 2), ('RAIK', 2), ('VAIR', 2), ('EARL', 2), ('NAZE', 2), ('HALL', 2), ('NAVE', 2), ('LARS', 2), ('PAIS', 2), ('CARN', 2), ('SALS', 2), ('LAP', 2), ('NACH', 2), ('KANA', 2), ('LATS', 2), ('GAN', 2), ('GANS', 2), ('SALP', 2), ('DANG', 2), ('DAN', 2), ('LAKY', 2), ('MALS', 2), ('KANE', 2), ('CALL', 2), ('ZATI', 2), ('WAIS', 2), ('MAN', 2), ('LAWS', 2), ('DARI', 2), ('HAEN', 2), ('KAKI', 2), ('CALX', 2), ('PALM', 2), ('KAIM', 2), ('RAKI', 2), ('RAID', 2), ('NANA', 2), ('LAMP', 2), ('CAPI', 2), ('LAH', 2), ('GAEN', 2), ('CALK', 2), ('VANS', 2), ('PALL', 2), ('WAIF', 2), ('SADI', 2), ('MANE', 2), ('NANE', 2), ('HALF', 2), ('EARN', 2), ('TANA', 2), ('MAXI', 2), ('HAIK', 2), ('NAW', 2), ('FAAN', 2), ('SALT', 2), ('MARL', 2), ('HARN', 2), ('NA', 2), ('WAUL', 2), ('NAPE', 2), ('LAPS', 2), ('NAP', 2), ('RANG', 2), ('RANA', 2), ('WALL', 2), ('HALM', 2), ('PALE', 2), ('MAIM', 2), ('SANK', 2), ('HAND', 2), ('NAY', 2), ('TALA', 2), ('TAKI', 2), ('LARK', 2), ('TARN', 2), ('HARL', 2), ('TALC', 2), ('YAWL', 2), ('SAID', 2), ('LACK', 2), ('NAN', 2), ('LACE', 2), ('VANT', 2), ('PAWL', 2), ('CALO', 2), ('VAN', 2), ('VANE', 2), ('GANG', 2), ('YANK', 2), ('HAJI', 2), ('LAGS', 2), ('AALS', 2), ('HANK', 2), ('CALP', 2), ('YANG', 2), ('LATH', 2), ('RAI', 2), ('PAWN', 2), ('HALE', 2), ('LAUD', 2), ('PALY', 2), ('CAUL', 2), ('NARY', 2), ('FANE', 2), ('PAUL', 2), ('NAME', 2), ('PAL', 2), ('SATI', 2), ('KANT', 2), ('YAGI', 2), ('LAME', 2), ('LAMS', 2), ('MANY', 2), ('FAIK', 2), ('DANS', 2), ('JAI', 2), ('CANT', 2), ('PANT', 2), ('PANE', 2), ('FALL', 2), ('NAGA', 2), ('SALE', 2), ('RAUN', 2), ('WALY', 2), ('NAAM', 2), ('GALE', 2), ('LAVE', 2), ('HAN', 2), ('YARN', 2), ('WALE', 2), ('QADI', 2), ('TALK', 2), ('FANG', 2), ('CANN', 2), ('VAGI', 2), ('LAVA', 2), ('FAN', 2), ('TALE', 2), ('LAT', 2), ('WANK', 2), ('MALL', 2), ('DAWN', 2), ('DALE', 2), ('LACS', 2), ('YAWN', 2), ('TANK', 2), ('HALO', 2), ('CAN', 2), ('MAIR', 2), ('WANG', 2), ('HANG', 2), ('GALS', 2), ('GARI', 2), ('KAAL', 2), ('DAMN', 2), ('RALE', 2), ('MAID', 2), ('RAGI', 2), ('DANT', 2), ('PANS', 2), ('JANN', 2), ('NAAN', 2), ('KAZI', 2), ('WANS', 2), ('NAMS', 2), ('MALA', 2), ('TAIS', 2), ('MALM', 2), ('MALT', 2), ('FALX', 2), ('WAID', 2), ('RANK', 2), ('TAN', 2), ('MANA', 2), ('LATE', 2), ('LAD', 2), ('SAIR', 2), ('HANT', 2), ('LAM', 2), ('KAID', 2), ('WAIT', 2), ('CANS', 2), ('SAN', 2), ('PALP', 2), ('KADI', 2), ('JANE', 2), ('NAPS', 2), ('TANH', 2), ('PAIK', 2), ('PAN', 2), ('DALT', 2), ('WANT', 2), ('TAXI', 2), ('KARN', 2), ('FAW', 1), ('DAK', 1), ('GAS', 1), ('CAD', 1), ('FA', 1), ('RAP', 1), ('RAW', 1), ('ZAS', 1), ('SAY', 1), ('JAR', 1), ('YAD', 1), ('MAS', 1), ('HAO', 1), ('MAM', 1), ('TAO', 1), ('VAG', 1), ('TAE', 1), ('RAT', 1), ('SAZ', 1), ('JAP', 1), ('RAH', 1), ('CAM', 1), ('TAP', 1), ('HA', 1), ('HAY', 1), ('TAK', 1), ('PAV', 1), ('WAW', 1), ('DAM', 1), ('YAK', 1), ('CAA', 1), ('JA', 1), ('GAR', 1), ('PAX', 1), ('JAK', 1), ('RAS', 1), ('PA', 1), ('TAJ', 1), ('PAR', 1), ('MAW', 1), ('CAY', 1), ('OAR', 1), ('VAU', 1), ('JAW', 1), ('WAS', 1), ('RAY', 1), ('CAW', 1), ('AA', 1), ('HAD', 1), ('RAG', 1), ('WAX', 1), ('OAF', 1), ('QAT', 1), ('VAC', 1), ('SAE', 1), ('PAH', 1), ('HAE', 1), ('GAP', 1), ('CAR', 1), ('DAG', 1), ('GAG', 1), ('GAY', 1), ('DA', 1), ('KAT', 1), ('OAK', 1), ('GAU', 1), ('MAG', 1), ('MAR', 1), ('HAW', 1), ('YAP', 1), ('RAM', 1), ('YAW', 1), ('MA', 1), ('YAR', 1), ('SAV', 1), ('KAS', 1), ('YAM', 1), ('EAT', 1), ('DAE', 1), ('TA', 1), ('MAK', 1), ('TAU', 1), ('PAP', 1), ('MAE', 1), ('WAT', 1), ('AAH', 1), ('KA', 1), ('KAK', 1), ('ZAX', 1), ('FAP', 1), ('FAG', 1), ('DAH', 1), ('KAM', 1), ('RAX', 1), ('FAA', 1), ('TAT', 1), ('PAS', 1), ('KAF', 1), ('FAD', 1), ('EAS', 1), ('DAW', 1), ('TAG', 1), ('VAE', 1), ('JAM', 1), ('MAC', 1), ('SAX', 1), ('HAM', 1), ('KAE', 1), ('CAP', 1), ('FAR', 1), ('HAH', 1), ('MAT', 1), ('TAM', 1), ('AAS', 1), ('TAW', 1), ('VAV', 1), ('WAY', 1), ('PAY', 1), ('MAA', 1), ('WAD', 1), ('MAD', 1), ('HAJ', 1), ('OAT', 1), ('FAH', 1), ('SAW', 1), ('CAG', 1), ('FAX', 1), ('CAT', 1), ('SAM', 1), ('HAP', 1), ('KAY', 1), ('FAY', 1), ('SAU', 1), ('TAY', 1), ('JAY', 1), ('EAU', 1), ('ZAP', 1), ('DAS', 1), ('VAT', 1), ('YA', 1), ('PAW', 1), ('FAT', 1), ('GAM', 1), ('GAT', 1), ('DAP', 1), ('YAG', 1), ('RAJ', 1), ('PAC', 1), ('MAX', 1), ('KAW', 1), ('TAD', 1), ('PAM', 1), ('SAC', 1), ('RAD', 1), ('PAD', 1), ('ZA', 1), ('FAE', 1), ('SAR', 1), ('GAD', 1), ('SAG', 1), ('YAY', 1), ('SAD', 1), ('TAX', 1), ('WAP', 1), ('CAZ', 1), ('VAS', 1), ('SAT', 1), ('GAE', 1), ('TAR', 1), ('VAW', 1), ('WAR', 1), ('FAS', 1), ('HAG', 1), ('HAS', 1), ('MAP', 1), ('MAY', 1), ('YAH', 1), ('EA', 1), ('HAT', 1), ('DAD', 1), ('EAR', 1), ('YAE', 1), ('JAG', 1), ('VAR', 1), ('TAV', 1), ('ZAG', 1), ('TAS', 1), ('WAG', 1), ('PAT', 1), ('SAP', 1), ('WAE', 1), ('DAY', 1)]\n"
     ]
    }
   ],
   "source": [
    "!python scrabble.py \"albin?*\" \"sowpods.txt\" 'a2'"
   ]
  },
  {
   "cell_type": "code",
   "execution_count": null,
   "metadata": {
    "collapsed": true
   },
   "outputs": [],
   "source": []
  }
 ],
 "metadata": {
  "kernelspec": {
   "display_name": "Python 3",
   "language": "python",
   "name": "python3"
  },
  "language_info": {
   "codemirror_mode": {
    "name": "ipython",
    "version": 3
   },
   "file_extension": ".py",
   "mimetype": "text/x-python",
   "name": "python",
   "nbconvert_exporter": "python",
   "pygments_lexer": "ipython3",
   "version": "3.5.2"
  }
 },
 "nbformat": 4,
 "nbformat_minor": 0
}
