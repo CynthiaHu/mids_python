{
 "cells": [
  {
   "cell_type": "markdown",
   "metadata": {},
   "source": [
    "\n",
    "# Homework 6 - Fall 2016\n",
    "Assignment due date: Midnight the night before the Week 7 Live Session."
   ]
  },
  {
   "cell_type": "markdown",
   "metadata": {},
   "source": [
    "# Part 1 Coding practice **reading and response**\n",
    "\n",
    "Your task for this week is to write a 250 word reading response to the article below. In addition, please list **3 questions** that you have from the article. Please write your response in a markdown cell, below this cell in the notebook.\n",
    "\n",
    "The writing response is a free response, so you may write about your reactions. An interesting thing that you saw in the article, something that really stuck out to you, etc.\n",
    "\n",
    "**Article**: [The PEP 8 Style Guide](https://www.python.org/dev/peps/pep-0008/#overriding-principle). This document is really important for Python coders because it describes best practices and customs for how one should write Python code. Please read it all and prepare your questions for class."
   ]
  },
  {
   "cell_type": "markdown",
   "metadata": {},
   "source": [
    "**[Free Response Here]**"
   ]
  },
  {
   "cell_type": "markdown",
   "metadata": {
    "collapsed": true
   },
   "source": [
    " "
   ]
  },
  {
   "cell_type": "markdown",
   "metadata": {},
   "source": [
    "# Part 2  - Cheating at Scrabble\n",
    "\n",
    "Write a Python script that takes a Scrabble rack **as a command-line argument** and prints all valid Scrabble words that can be constructed from that rack, along with their Scrabble scores, sorted by score. Valid Scrabble words are provided in the data source below.  A Scrabble rack is made up of any 7 characters.\n",
    "\n",
    "## There are a few of requirements:\n",
    "\n",
    "- This needs to be able to be **run as a command line tool** as you'll see below.\n",
    "- Please include a function called `score_word` in a separate module.  Import this function into your main solution code.\n",
    "- You need to handle input errors from the user and suggest what that error might be caused by (helpful error messages).\n",
    "- Implement wildcards as either `*` or `?`. That is, let the user specify a wildcard character that can take any value. There can be a total of two wild cards in any user input (one of each character).\n",
    "\n",
    "## Extra Credit (+10 points):\n",
    "\n",
    "- Allow a user to specify that a certain letter has to be at a certain location. Your program must work without it so this should be completely optional. For the extra credit, locations of certain letters must be specified at the command line, **it may not be some sort of user prompt.**\n",
    "\n",
    "\n",
    "## Example \n",
    "An example invocation and output:\n",
    "\n",
    "```sh\n",
    "$ python scrabble.py ZAEFIEE\n",
    "17 feeze\n",
    "17 feaze\n",
    "16 faze\n",
    "15 fiz\n",
    "15 fez\n",
    "12 zee\n",
    "12 zea\n",
    "11 za\n",
    "6 fie\n",
    "6 fee\n",
    "6 fae\n",
    "5 if\n",
    "5 fe\n",
    "5 fa\n",
    "5 ef\n",
    "2 ee\n",
    "2 ea\n",
    "2 ai\n",
    "2 ae\n",
    "```\n",
    "\n",
    "\n",
    "## The Data\n",
    "http://courses.cms.caltech.edu/cs11/material/advjava/lab1/sowpods.zip contains all words in the official SOWPODS word list, one word per line. You should download the word file and keep it in your repository so that the program is standalone (instead of accessing it over the web from Python).\n",
    "\n",
    "You can read data from a text file with the following code:\n",
    "```python\n",
    "with open(\"sowpods.txt\",\"r\") as infile:\n",
    "    raw_input = infile.readlines()\n",
    "    data = [datum.strip('\\n') for datum in raw_input]\n",
    "print(data[0:6])\n",
    "``` \n",
    "\n",
    "\n",
    "\n",
    "Here is a dictionary containing all letters and their Scrabble values:\n",
    "```python\n",
    "scores = {\"a\": 1, \"c\": 3, \"b\": 3, \"e\": 1, \"d\": 2, \"g\": 2,\n",
    "         \"f\": 4, \"i\": 1, \"h\": 4, \"k\": 5, \"j\": 8, \"m\": 3,\n",
    "         \"l\": 1, \"o\": 1, \"n\": 1, \"q\": 10, \"p\": 3, \"s\": 1,\n",
    "         \"r\": 1, \"u\": 1, \"t\": 1, \"w\": 4, \"v\": 4, \"y\": 4,\n",
    "         \"x\": 8, \"z\": 10}\n",
    "``` \n",
    "\n",
    "## Tips\n",
    "We recommend that you work on this and try to break down the problems into steps on your own before writing any code. Once you've scoped generally what you want to do, start writing some code and if you get stuck, take a step back and go back to thinking about the problem rather than trying to fix lots of errors at the code level. You should only use the Python standard library in this assignment, however any tool in there is fair game.\n",
    "\n",
    "## Tips Part 2\n",
    "If you keep getting stuck check out: https://openhatch.org/wiki/Scrabble_challenge. This is where we got the idea for this assignment and it provides some helpful tips for guiding you along the way. If that link doesn't work you can use the [google cached version here](http://webcache.googleusercontent.com/search?q=cache:https://openhatch.org/wiki/Scrabble_challenge). However I would sincerely recommend that you try to implement this first yourself before looking at the hints on the website.\n",
    "\n",
    "Good luck!\n",
    " "
   ]
  },
  {
   "cell_type": "code",
   "execution_count": null,
   "metadata": {
    "collapsed": true
   },
   "outputs": [],
   "source": [
    "## Load Dictionary Function\n",
    "\n",
    "## Prompt User for Word List, Check Input, Etc.\n",
    "\n",
    "## Function to Extract Word Matches\n",
    "\n",
    "## Score Word Function"
   ]
  },
  {
   "cell_type": "code",
   "execution_count": 8,
   "metadata": {
    "collapsed": false
   },
   "outputs": [],
   "source": [
    "## Load Dictionary Function\n",
    "def load_dictionary():\n",
    "    with open(\"sowpods.txt\",\"r\") as infile:\n",
    "        raw_input = infile.readlines()\n",
    "        data = [datum.strip('\\n') for datum in raw_input if len(datum) <= 7]\n",
    "    return data"
   ]
  },
  {
   "cell_type": "code",
   "execution_count": 9,
   "metadata": {
    "collapsed": false
   },
   "outputs": [
    {
     "name": "stdout",
     "output_type": "stream",
     "text": [
      "41505\n"
     ]
    }
   ],
   "source": [
    "print(len(load_dictionary()))"
   ]
  },
  {
   "cell_type": "code",
   "execution_count": 19,
   "metadata": {
    "collapsed": true
   },
   "outputs": [],
   "source": [
    "from collections import Counter\n",
    "\n",
    "def match_words(valid_words, scrabble_rack, wild_threshold = 0):\n",
    "    \"\"\"This function accepts a scrabble rack, word dicaitonary, and a wildcard threshold. It returns all words \n",
    "        that match the rack within the wildcard threshold.\"\"\"\n",
    "    matched_words = []\n",
    "    \n",
    "    # Counter with the number of each letter in the rack\n",
    "    rack_counter = Counter(scrabble_rack)\n",
    "    \n",
    "    # Loop through valid words\n",
    "    for word in valid_words:\n",
    "        word_counter = Counter(word)\n",
    "        \n",
    "        # Calculate how many of the letters in the word are NOT in the scrabble rack\n",
    "        word_missing_letters = 0\n",
    "        for key in word_counter:\n",
    "            this_missing_letter = max(word_counter[key] - rack_counter.get(key,0), 0)     \n",
    "            word_missing_letters += this_missing_letter\n",
    "        #print(\"The word {} is missing {} letters from the rack\".format(word, word_missing_letters))\n",
    "        \n",
    "        # If the number of missing letters is less than the wildcard threshold, then add the word to the results\n",
    "        if word_missing_letters <= wild_threshold:\n",
    "            matched_words.append(word)\n",
    "            \n",
    "    return matched_words\n"
   ]
  },
  {
   "cell_type": "code",
   "execution_count": 21,
   "metadata": {
    "collapsed": false
   },
   "outputs": [
    {
     "name": "stdout",
     "output_type": "stream",
     "text": [
      "['PI', 'PIZZA', 'FOO', 'PIAA', 'ZZZ', 'ZZ']\n",
      "\n",
      "['PI', 'PIZZA', 'PIAA', 'ZZZ', 'ZZ']\n"
     ]
    }
   ],
   "source": [
    "diagnostic_list = [\"PI\",\"PIZZA\",\"FOO\",\"PIAA\",\"ZZZ\",\"ZZ\"]\n",
    "\n",
    "print(diagnostic_list)\n",
    "results = match_words(diagnostic_list, \"PIZZA\", 1)\n",
    "print()\n",
    "print(results)"
   ]
  },
  {
   "cell_type": "code",
   "execution_count": 20,
   "metadata": {
    "collapsed": false
   },
   "outputs": [
    {
     "name": "stdout",
     "output_type": "stream",
     "text": [
      "['AA', 'AAS', 'AM', 'AMA', 'AMAS', 'AMU', 'AMUS', 'AS', 'AUA', 'AUF', 'AUFS', 'FA', 'FAA', 'FAAS', 'FAS', 'FUM', 'FUMS', 'MA', 'MAA', 'MAAS', 'MAS', 'MASA', 'MASU', 'MU', 'MUS', 'SAM', 'SAMA', 'SAMFU', 'SAU', 'SMA', 'SUM', 'UM', 'US']\n"
     ]
    }
   ],
   "source": [
    "valid_words = load_dictionary()\n",
    "test = match_words(valid_words, \"MUFASA\", 0)\n",
    "print(test)"
   ]
  },
  {
   "cell_type": "code",
   "execution_count": 136,
   "metadata": {
    "collapsed": false
   },
   "outputs": [
    {
     "name": "stdout",
     "output_type": "stream",
     "text": [
      "12 matches found.\n",
      "PIAZZA: 26\n",
      "PIZZA: 25\n",
      "ZIZ: 21\n",
      "ZAP: 14\n",
      "ZIP: 14\n",
      "ZA: 11\n",
      "PIA: 5\n",
      "PA: 4\n",
      "PI: 4\n",
      "AIA: 3\n",
      "AA: 2\n",
      "AI: 2\n"
     ]
    }
   ],
   "source": [
    "# Practice input validation\n",
    "scrabble_rack = \"PIZZAAA\".upper()\n",
    "\n",
    "# Make sure all characters are in the alphabet.\n",
    "if len(scrabble_rack) != 7:\n",
    "    print(\"Please input a scrabble rack of 7 characters.\")\n",
    "elif sum([1 for letter in scrabble_rack if letter not in 'ABCDEFGHIJKLMNOPQRSTUVWXYZ*?']) > 0:\n",
    "    print(\"Please only enter letters and * or ? in your scrabble rack.\")\n",
    "elif scrabble_rack.count(\"*\") > 1 or scrabble_rack.count(\"?\") > 1:\n",
    "    print(\"Please only use up to one of each wildcard symbol: '?' and '*'\")\n",
    "else:\n",
    "    # Count wildcards\n",
    "    num_wildcards = scrabble_rack.count(\"*\") + scrabble_rack.count(\"?\")\n",
    "    # Load the dictionary\n",
    "    valid_words = load_dictionary()\n",
    "    # Find matches\n",
    "    matched_words = match_words(valid_words, scrabble_rack, num_wildcards)\n",
    "    # Score matches\n",
    "    scores = {\"a\": 1, \"c\": 3, \"b\": 3, \"e\": 1, \"d\": 2, \"g\": 2,\n",
    "         \"f\": 4, \"i\": 1, \"h\": 4, \"k\": 5, \"j\": 8, \"m\": 3,\n",
    "         \"l\": 1, \"o\": 1, \"n\": 1, \"q\": 10, \"p\": 3, \"s\": 1,\n",
    "         \"r\": 1, \"u\": 1, \"t\": 1, \"w\": 4, \"v\": 4, \"y\": 4,\n",
    "         \"x\": 8, \"z\": 10}\n",
    "    scored_words = score_words(matched_words, scores)\n",
    "    print(\"{} matches found.\".format(len(scored_words)))\n",
    "    [print(x[0] + \":\", x[1]) for x in scored_words]\n"
   ]
  },
  {
   "cell_type": "code",
   "execution_count": 111,
   "metadata": {
    "collapsed": false
   },
   "outputs": [
    {
     "name": "stdout",
     "output_type": "stream",
     "text": [
      "[('SAMFU', 10), ('FUMS', 9), ('FUM', 8), ('AUFS', 7), ('FAAS', 7), ('AMAS', 6), ('AMUS', 6), ('AUF', 6), ('FAA', 6), ('FAS', 6), ('MAAS', 6), ('MASA', 6), ('MASU', 6), ('SAMA', 6), ('AMA', 5), ('AMU', 5), ('FA', 5), ('MAA', 5), ('MAS', 5), ('MUS', 5), ('SAM', 5), ('SMA', 5), ('SUM', 5), ('AM', 4), ('MA', 4), ('MU', 4), ('UM', 4), ('AAS', 3), ('AUA', 3), ('SAU', 3), ('AA', 2), ('AS', 2), ('US', 2)]\n"
     ]
    }
   ],
   "source": [
    "print(score_words(test, scores))"
   ]
  },
  {
   "cell_type": "code",
   "execution_count": 17,
   "metadata": {
    "collapsed": false
   },
   "outputs": [],
   "source": [
    "def score_words(word_list, scores):\n",
    "    \"\"\"Calculate the score for each word in a word-list. Return a sorted list of tuples (eord, score)\"\"\"\n",
    "    score_list = [(word, sum([scores[letter.lower()] for letter in word])) for word in word_list]\n",
    "    return sorted(score_list,key=lambda x: x[1], reverse=True)"
   ]
  },
  {
   "cell_type": "markdown",
   "metadata": {},
   "source": [
    "# Run an alternative solution from the command line with the fixed letter position option"
   ]
  },
  {
   "cell_type": "code",
   "execution_count": null,
   "metadata": {
    "collapsed": false
   },
   "outputs": [
    {
     "name": "stdout",
     "output_type": "stream",
     "text": [
      "['scrabble.py', 'albin?*', 'sowpods.txt', 'a2']\n",
      "this is a sample of your wordfile ['AA', 'AAH', 'AAHED', 'AAHING', 'AAHS', 'AAL']\n",
      "The fixed position letter is A\n",
      "The fixed position number is 1\n",
      "[('LAMBING', 7), ('BAILING', 7), ('FABLING', 7), ('BAIRNLY', 7), ('BALKING', 7), ('BALING', 7), ('BALLING', 7), ('SABLING', 7), ('BALDING', 7), ('BASINAL', 7), ('BALADIN', 7), ('TABLING', 7), ('CABLING', 7), ('LAMBKIN', 7), ('BALMING', 7), ('GABLING', 7), ('BAWLING', 7), ('FAIBLE', 6), ('BALUNS', 6), ('BANKIT', 6), ('BASILS', 6), ('NABIS', 6), ('BAKING', 6), ('BANZAI', 6), ('BANISH', 6), ('BARING', 6), ('BASION', 6), ('BASIN', 6), ('BAILEY', 6), ('SABINE', 6), ('SABINS', 6), ('BAILS', 6), ('LABIS', 6), ('BASIL', 6), ('RABBIN', 6), ('LABIUM', 6), ('TABULI', 6), ('LABILE', 6), ('BALLAN', 6), ('BAILLI', 6), ('LABIAL', 6), ('BALLON', 6), ('BANGLE', 6), ('BASINS', 6), ('LAMBIE', 6), ('BANI', 6), ('BALTIS', 6), ('BALUN', 6), ('LABRID', 6), ('BAIRN', 6), ('BANDIT', 6), ('BASING', 6), ('BAGNIO', 6), ('NABLAS', 6), ('HABILE', 6), ('BAVINS', 6), ('BAALIM', 6), ('BATING', 6), ('BAILOR', 6), ('BANIAN', 6), ('CABIN', 6), ('BANAL', 6), ('BAILIE', 6), ('BAININ', 6), ('CABINS', 6), ('BAILER', 6), ('WABAIN', 6), ('BAAING', 6), ('BAILED', 6), ('LABIA', 6), ('BAIL', 6), ('GABION', 6), ('BAIRNS', 6), ('BANING', 6), ('BAVIN', 6), ('BAYING', 6), ('BANIA', 6), ('SABIN', 6), ('BANIAS', 6), ('BALTI', 6), ('BALEEN', 6), ('MALIBU', 6), ('BAILEE', 6), ('NABLA', 6), ('BANNS', 5), ('BASIS', 5), ('TABLE', 5), ('BANT', 5), ('NABS', 5), ('NABK', 5), ('BANE', 5), ('BALDY', 5), ('LAB', 5), ('IAMBS', 5), ('BAWLS', 5), ('BALU', 5), ('TABLA', 5), ('HABLE', 5), ('LAMB', 5), ('BANKS', 5), ('BARN', 5), ('BALK', 5), ('BAALS', 5), ('BALKS', 5), ('BANDY', 5), ('SABAL', 5), ('NAB', 5), ('BANK', 5), ('BASIC', 5), ('BACON', 5), ('BAAL', 5), ('TABUN', 5), ('SABIR', 5), ('CABLE', 5), ('BASAN', 5), ('BAWL', 5), ('BANTY', 5), ('BANDS', 5), ('BANDA', 5), ('BALUS', 5), ('BADLY', 5), ('BAIZE', 5), ('BANC', 5), ('BALMY', 5), ('NABE', 5), ('BATIK', 5), ('BARNS', 5), ('BAYLE', 5), ('LABEL', 5), ('FABLE', 5), ('BANTU', 5), ('BANES', 5), ('RABBI', 5), ('BABEL', 5), ('BATON', 5), ('BAIZA', 5), ('BAGEL', 5), ('BALM', 5), ('BAGIE', 5), ('BAITH', 5), ('LABDA', 5), ('BAELS', 5), ('SABLE', 5), ('BAWN', 5), ('BAL', 5), ('LAMBY', 5), ('TABID', 5), ('BAJAN', 5), ('BANGS', 5), ('BABUL', 5), ('BALE', 5), ('BALD', 5), ('BANED', 5), ('BAND', 5), ('TABIS', 5), ('IAMB', 5), ('BALS', 5), ('BALOO', 5), ('TABI', 5), ('BAKEN', 5), ('BALER', 5), ('BAITS', 5), ('BARON', 5), ('BARNY', 5), ('BAJRI', 5), ('BALL', 5), ('NABOB', 5), ('BARIC', 5), ('BALED', 5), ('RABIC', 5), ('BANJO', 5), ('BASTI', 5), ('LABRA', 5), ('BAN', 5), ('LAMBS', 5), ('LABS', 5), ('BANS', 5), ('BANDH', 5), ('BALMS', 5), ('BAWNS', 5), ('BASON', 5), ('BANAK', 5), ('BAIT', 5), ('BALES', 5), ('SAHIB', 5), ('RABIS', 5), ('BALKY', 5), ('LABOR', 5), ('GABLE', 5), ('BANCS', 5), ('BALAS', 5), ('BANCO', 5), ('RABID', 5), ('BALSA', 5), ('BALLS', 5), ('RABI', 5), ('BASSI', 5), ('BASAL', 5), ('BANTS', 5), ('HABIT', 5), ('IAMBI', 5), ('NABKS', 5), ('NAWAB', 5), ('BAULK', 5), ('BALDS', 5), ('BANG', 5), ('BAEL', 5), ('BALLY', 5), ('BAMBI', 5), ('CABAL', 5), ('NABES', 5), ('BABY', 4), ('CAB', 4), ('MASLIN', 4), ('BABU', 4), ('LASING', 4), ('CAPLIN', 4), ('BAPS', 4), ('NAILER', 4), ('NARIAL', 4), ('WALING', 4), ('LAWING', 4), ('BARF', 4), ('BAUK', 4), ('DAUB', 4), ('BACS', 4), ('SALINA', 4), ('LAYIN', 4), ('SAB', 4), ('TABS', 4), ('BAD', 4), ('LAWINE', 4), ('BARP', 4), ('MANILA', 4), ('GARB', 4), ('BATE', 4), ('YABA', 4), ('CALKIN', 4), ('VAINLY', 4), ('JAB', 4), ('BAJU', 4), ('BAYT', 4), ('GABS', 4), ('LAIN', 4), ('BAWR', 4), ('MALIGN', 4), ('RATLIN', 4), ('TALION', 4), ('BAA', 4), ('BATT', 4), ('BACH', 4), ('CARLIN', 4), ('BARD', 4), ('BACK', 4), ('SABS', 4), ('HABU', 4), ('WABS', 4), ('GAMB', 4), ('BATH', 4), ('WARB', 4), ('PAULIN', 4), ('DABS', 4), ('LAKING', 4), ('BAGS', 4), ('BARK', 4), ('BARM', 4), ('LACING', 4), ('GABY', 4), ('LADINO', 4), ('KABS', 4), ('JAMB', 4), ('LATINA', 4), ('JABS', 4), ('LATTIN', 4), ('LANAIS', 4), ('BAWD', 4), ('NASIAL', 4), ('BASH', 4), ('BADE', 4), ('FAINLY', 4), ('BAST', 4), ('BATS', 4), ('LAKIN', 4), ('BARS', 4), ('NAILED', 4), ('BAM', 4), ('BAP', 4), ('MARLIN', 4), ('TABU', 4), ('NAIL', 4), ('BABA', 4), ('BASS', 4), ('BAKE', 4), ('FABS', 4), ('DAB', 4), ('LAKINS', 4), ('BAY', 4), ('BAYE', 4), ('BASE', 4), ('SALINE', 4), ('KAB', 4), ('GAINLY', 4), ('GAB', 4), ('BAUR', 4), ('LAMING', 4), ('BAGH', 4), ('LAWINS', 4), ('CATLIN', 4), ('KAOLIN', 4), ('BAHT', 4), ('BAMS', 4), ('FAB', 4), ('TAB', 4), ('LAYING', 4), ('SABE', 4), ('BARB', 4), ('BAAS', 4), ('BADS', 4), ('BAT', 4), ('BAYS', 4), ('BAFF', 4), ('LATINO', 4), ('MALKIN', 4), ('LAPINS', 4), ('BA', 4), ('LANAI', 4), ('CABS', 4), ('LADING', 4), ('BAFT', 4), ('BAS', 4), ('DARB', 4), ('MALINE', 4), ('CABA', 4), ('LAYINS', 4), ('BAG', 4), ('BAH', 4), ('BARE', 4), ('LAWIN', 4), ('BAR', 4), ('NAILS', 4), ('CARB', 4), ('NAIFLY', 4), ('BABE', 4), ('ZANILY', 4), ('BAUD', 4), ('VALINE', 4), ('LAMINA', 4), ('LARINE', 4), ('KALIAN', 4), ('LAGGIN', 4), ('HALING', 4), ('MABE', 4), ('BASK', 4), ('BAPU', 4), ('BAC', 4), ('LAVING', 4), ('WAB', 4), ('PALING', 4), ('LAPIN', 4), ('MAINLY', 4), ('LAZING', 4), ('RAMIN', 3), ('LAITH', 3), ('LAICH', 3), ('LANK', 3), ('RANIS', 3), ('FANAL', 3), ('NAIK', 3), ('MAVIN', 3), ('VALIS', 3), ('NAVEL', 3), ('WAINS', 3), ('FAILS', 3), ('RAILS', 3), ('NALLA', 3), ('LARNS', 3), ('MATIN', 3), ('MAILL', 3), ('NAIFS', 3), ('SALON', 3), ('TAINS', 3), ('GAINS', 3), ('DANIO', 3), ('NAVAL', 3), ('VAKIL', 3), ('SALMI', 3), ('WAIN', 3), ('CALIF', 3), ('CALIX', 3), ('LANKS', 3), ('PAOLI', 3), ('HANGI', 3), ('WANLE', 3), ('HAINS', 3), ('MANLY', 3), ('FAIL', 3), ('GAMIN', 3), ('TANGI', 3), ('SASIN', 3), ('TAIN', 3), ('NATAL', 3), ('CANAL', 3), ('TANTI', 3), ('NALED', 3), ('VALI', 3), ('PAINT', 3), ('FAGIN', 3), ('LAICS', 3), ('LANT', 3), ('TALI', 3), ('DAINE', 3), ('LAIRS', 3), ('MAILS', 3), ('LATHI', 3), ('KAING', 3), ('CALID', 3), ('MALIC', 3), ('LAIRD', 3), ('LATI', 3), ('SAVIN', 3), ('LANES', 3), ('FAINE', 3), ('MALIS', 3), ('SARIN', 3), ('GARNI', 3), ('MANDI', 3), ('CANID', 3), ('RANI', 3), ('LARN', 3), ('TAIL', 3), ('DAILY', 3), ('LAGAN', 3), ('PAIL', 3), ('PANEL', 3), ('KALIF', 3), ('LAPIS', 3), ('LAIK', 3), ('NAOI', 3), ('NAEVI', 3), ('LANDE', 3), ('PAINS', 3), ('AALII', 3), ('SAILS', 3), ('LAIKS', 3), ('MALI', 3), ('HAIN', 3), ('MAIN', 3), ('SAIN', 3), ('LAUND', 3), ('KAILS', 3), ('CAIRN', 3), ('LAIKA', 3), ('KANJI', 3), ('LAIDS', 3), ('NAIAD', 3), ('LAUAN', 3), ('LAIGH', 3), ('NALA', 3), ('LANDS', 3), ('NAIRU', 3), ('LATEN', 3), ('RANID', 3), ('LAMIA', 3), ('LADEN', 3), ('LANAS', 3), ('VAIL', 3), ('VAIN', 3), ('MANI', 3), ('PATIN', 3), ('NAHAL', 3), ('LAITY', 3), ('WALIS', 3), ('NAIN', 3), ('TALON', 3), ('NADIR', 3), ('RAVIN', 3), ('RAINS', 3), ('LANTS', 3), ('RAINY', 3), ('LAARI', 3), ('LAIC', 3), ('WAIL', 3), ('LANA', 3), ('MAILE', 3), ('LANX', 3), ('FAIN', 3), ('HAINT', 3), ('MANIA', 3), ('SALIX', 3), ('LANE', 3), ('TAMIN', 3), ('MAINS', 3), ('VAILS', 3), ('NASAL', 3), ('SAINE', 3), ('PAVIN', 3), ('MALIK', 3), ('KALI', 3), ('GAIN', 3), ('NAIF', 3), ('PANIC', 3), ('NATIS', 3), ('LASSI', 3), ('NALAS', 3), ('KAIN', 3), ('SAINS', 3), ('LARIS', 3), ('ZAYIN', 3), ('DALIS', 3), ('JAILS', 3), ('VALID', 3), ('NAZIS', 3), ('CAIN', 3), ('MAIL', 3), ('NARIC', 3), ('SALIC', 3), ('RANGI', 3), ('TAKIN', 3), ('LANG', 3), ('PAIN', 3), ('SAIL', 3), ('WAILS', 3), ('TAINT', 3), ('KAINS', 3), ('DALI', 3), ('LAND', 3), ('LANCH', 3), ('LAID', 3), ('FAINT', 3), ('JAIL', 3), ('HALON', 3), ('LANCE', 3), ('RAIL', 3), ('WANLY', 3), ('PALKI', 3), ('PANIM', 3), ('TAILS', 3), ('LAWNY', 3), ('HAILY', 3), ('LAIR', 3), ('SATIN', 3), ('NAIVE', 3), ('WALI', 3), ('NAIRA', 3), ('LAIRY', 3), ('LAZZI', 3), ('RAIN', 3), ('CAINS', 3), ('CAVIL', 3), ('DAINT', 3), ('RAWIN', 3), ('NAZI', 3), ('NARIS', 3), ('HAIL', 3), ('NAIKS', 3), ('LAWN', 3), ('MANUL', 3), ('LAWNS', 3), ('RAILE', 3), ('MANIC', 3), ('PAILS', 3), ('GAILY', 3), ('NASHI', 3), ('LARI', 3), ('PALPI', 3), ('HALID', 3), ('KAIL', 3), ('RAINE', 3), ('LANKY', 3), ('MANIS', 3), ('FAINS', 3), ('KALIS', 3), ('NAZIR', 3), ('HAILS', 3), ('SAINT', 3), ('DAN', 2), ('EARN', 2), ('CAUL', 2), ('DANT', 2), ('NARD', 2), ('SAWN', 2), ('PAIR', 2), ('SALS', 2), ('WAWL', 2), ('WANK', 2), ('HAIK', 2), ('TALL', 2), ('SAID', 2), ('NAVE', 2), ('KAI', 2), ('RAKI', 2), ('KAMI', 2), ('LAD', 2), ('NARC', 2), ('SALP', 2), ('WADI', 2), ('SAL', 2), ('HAJI', 2), ('DAIS', 2), ('PALS', 2), ('WALE', 2), ('CANY', 2), ('PALY', 2), ('CANE', 2), ('HAIR', 2), ('KANE', 2), ('WANS', 2), ('VANE', 2), ('LADS', 2), ('CADI', 2), ('PAND', 2), ('VANS', 2), ('HARL', 2), ('SALT', 2), ('LADY', 2), ('VAGI', 2), ('LAZO', 2), ('CANG', 2), ('HAN', 2), ('TAEL', 2), ('PADI', 2), ('KARN', 2), ('WARN', 2), ('FANO', 2), ('LATH', 2), ('KAID', 2), ('LAV', 2), ('WALY', 2), ('MALT', 2), ('WALK', 2), ('NAZE', 2), ('PAAL', 2), ('LARE', 2), ('PANG', 2), ('LAWS', 2), ('KAAL', 2), ('CAID', 2), ('MALM', 2), ('FANE', 2), ('HALT', 2), ('NAPA', 2), ('MAUN', 2), ('MANY', 2), ('MAIM', 2), ('CALX', 2), ('LAUF', 2), ('KANS', 2), ('LAM', 2), ('JANE', 2), ('SAIC', 2), ('CANT', 2), ('MAKI', 2), ('DARN', 2), ('WANY', 2), ('GALA', 2), ('LAMS', 2), ('KAZI', 2), ('TANG', 2), ('MALA', 2), ('TAAL', 2), ('NAAN', 2), ('LAST', 2), ('WAID', 2), ('SANS', 2), ('FALL', 2), ('CALF', 2), ('TALK', 2), ('CALP', 2), ('MAWN', 2), ('TANE', 2), ('NADA', 2), ('LAGS', 2), ('SAI', 2), ('RALE', 2), ('KANA', 2), ('HANG', 2), ('VANG', 2), ('RAIS', 2), ('LATE', 2), ('PAWN', 2), ('YANG', 2), ('KAIM', 2), ('WAN', 2), ('SAIS', 2), ('WALL', 2), ('NADS', 2), ('MAUL', 2), ('LASS', 2), ('KALE', 2), ('DALT', 2), ('WAND', 2), ('PANE', 2), ('GALE', 2), ('VAIR', 2), ('LA', 2), ('MARL', 2), ('RAGI', 2), ('GARI', 2), ('KAIF', 2), ('NAAM', 2), ('KANT', 2), ('TALE', 2), ('TAN', 2), ('MANG', 2), ('HALF', 2), ('HAEN', 2), ('CALL', 2), ('CARN', 2), ('SALL', 2), ('MALL', 2), ('PALM', 2), ('DAMN', 2), ('YALE', 2), ('GAIT', 2), ('TARN', 2), ('WALD', 2), ('LAMP', 2), ('KANG', 2), ('PANS', 2), ('CAN', 2), ('QADI', 2), ('YANK', 2), ('GADI', 2), ('TANA', 2), ('GAIR', 2), ('VANT', 2), ('DAHL', 2), ('YARN', 2), ('EANS', 2), ('MAXI', 2), ('FAIX', 2), ('NARY', 2), ('LAC', 2), ('FANS', 2), ('LATS', 2), ('NAMS', 2), ('LACS', 2), ('SANT', 2), ('QAID', 2), ('SAIM', 2), ('LARS', 2), ('TAIS', 2), ('NATS', 2), ('WANE', 2), ('NARK', 2), ('HALL', 2), ('NAY', 2), ('KAON', 2), ('LAVE', 2), ('HALM', 2), ('FALX', 2), ('PAWL', 2), ('LAER', 2), ('GAL', 2), ('LAS', 2), ('LAHS', 2), ('GANG', 2), ('YAGI', 2), ('RAI', 2), ('TANS', 2), ('WAIS', 2), ('NAG', 2), ('FAUN', 2), ('DALE', 2), ('EALE', 2), ('GAOL', 2), ('TAIT', 2), ('VAN', 2), ('TANK', 2), ('TAXI', 2), ('LAPS', 2), ('KADI', 2), ('TAIG', 2), ('NAVY', 2), ('RAIA', 2), ('LAUD', 2), ('CANS', 2), ('LAZY', 2), ('PAL', 2), ('WAUL', 2), ('NAPS', 2), ('PALP', 2), ('KAKI', 2), ('LAKE', 2), ('DAL', 2), ('LAX', 2), ('LAG', 2), ('PANT', 2), ('KAIS', 2), ('LAWK', 2), ('PALE', 2), ('NANS', 2), ('SADI', 2), ('HANK', 2), ('LAR', 2), ('DALS', 2), ('CALO', 2), ('MANE', 2), ('EAN', 2), ('DANK', 2), ('LAH', 2), ('NAP', 2), ('GANE', 2), ('LADE', 2), ('LASE', 2), ('LAME', 2), ('RANG', 2), ('GAEN', 2), ('LAVS', 2), ('FAWN', 2), ('SAIR', 2), ('YAWL', 2), ('KATI', 2), ('LAMA', 2), ('WAI', 2), ('MAID', 2), ('MANA', 2), ('GAUN', 2), ('ZATI', 2), ('GALS', 2), ('SAN', 2), ('HAND', 2), ('FAIK', 2), ('NAFF', 2), ('PAIS', 2), ('JARL', 2), ('LAKH', 2), ('MAL', 2), ('NANE', 2), ('NAOS', 2), ('PAIK', 2), ('MAIR', 2), ('LASH', 2), ('DARI', 2), ('VALE', 2), ('ZANY', 2), ('CANN', 2), ('PAID', 2), ('GAN', 2), ('HALE', 2), ('SATI', 2), ('YAWN', 2), ('WAIT', 2), ('RAIK', 2), ('NANA', 2), ('LAKY', 2), ('GANT', 2), ('MAN', 2), ('NAMU', 2), ('RAN', 2), ('TALA', 2), ('GAID', 2), ('TALC', 2), ('RANA', 2), ('WAIF', 2), ('SANK', 2), ('LARD', 2), ('DANS', 2), ('NAYS', 2), ('NARE', 2), ('NAE', 2), ('EARL', 2), ('LATU', 2), ('FAND', 2), ('NACH', 2), ('RAUN', 2), ('WANG', 2), ('NAPE', 2), ('LAYS', 2), ('MALS', 2), ('AALS', 2), ('TAI', 2), ('FAAN', 2), ('LACK', 2), ('RAID', 2), ('MANO', 2), ('LAY', 2), ('HANT', 2), ('TAKI', 2), ('FANG', 2), ('DANG', 2), ('JAI', 2), ('NAW', 2), ('LALL', 2), ('SANG', 2), ('NAS', 2), ('YALD', 2), ('KAIK', 2), ('TANH', 2), ('LAVA', 2), ('MAND', 2), ('RAWN', 2), ('NAT', 2), ('DAWN', 2), ('NAM', 2), ('CALK', 2), ('SANE', 2), ('NA', 2), ('WAIR', 2), ('CAPI', 2), ('PAUL', 2), ('MAGI', 2), ('NAGS', 2), ('LAZE', 2), ('MANS', 2), ('LARK', 2), ('WANT', 2), ('SAUL', 2), ('SARI', 2), ('MAIK', 2), ('RAMI', 2), ('HARN', 2), ('LAT', 2), ('SAKI', 2), ('RAND', 2), ('GANS', 2), ('HAUL', 2), ('PAN', 2), ('AAL', 2), ('MALE', 2), ('FAN', 2), ('SALE', 2), ('CALM', 2), ('RANT', 2), ('NAME', 2), ('PALL', 2), ('LACE', 2), ('FARL', 2), ('NAGA', 2), ('NAN', 2), ('KAIE', 2), ('JANN', 2), ('SAND', 2), ('GALL', 2), ('HALO', 2), ('LACY', 2), ('RANK', 2), ('NAH', 2), ('FANK', 2), ('RAIT', 2), ('LAW', 2), ('LAP', 2), ('FAIR', 2), ('CARL', 2), ('MAP', 1), ('WAS', 1), ('JAR', 1), ('KAF', 1), ('MAA', 1), ('MAX', 1), ('YAY', 1), ('JAP', 1), ('TAG', 1), ('CAZ', 1), ('FAR', 1), ('HAS', 1), ('ZAP', 1), ('TAP', 1), ('PAD', 1), ('MAG', 1), ('PAX', 1), ('AAH', 1), ('VAC', 1), ('OAF', 1), ('WAE', 1), ('HAG', 1), ('RAD', 1), ('DAW', 1), ('WAX', 1), ('SAC', 1), ('ZA', 1), ('CAP', 1), ('VAT', 1), ('TAV', 1), ('MAR', 1), ('TAM', 1), ('TAS', 1), ('WAP', 1), ('FAP', 1), ('SAE', 1), ('TAW', 1), ('TAO', 1), ('MAE', 1), ('YAD', 1), ('GAT', 1), ('DAG', 1), ('JA', 1), ('JAY', 1), ('TAT', 1), ('YAM', 1), ('WAT', 1), ('MAK', 1), ('CAD', 1), ('FA', 1), ('CAR', 1), ('DAK', 1), ('FAS', 1), ('HAP', 1), ('CAW', 1), ('KAS', 1), ('DAE', 1), ('RAW', 1), ('HAT', 1), ('CAG', 1), ('DA', 1), ('HAY', 1), ('HAO', 1), ('SAU', 1), ('ZAS', 1), ('KAK', 1), ('HA', 1), ('GAD', 1), ('GAM', 1), ('RAY', 1), ('SAG', 1), ('MAM', 1), ('SAR', 1), ('MA', 1), ('JAK', 1), ('AAS', 1), ('EAT', 1), ('FAH', 1), ('YAR', 1), ('YAG', 1), ('OAK', 1), ('PAT', 1), ('CAM', 1), ('QAT', 1), ('MAC', 1), ('VAE', 1), ('FAG', 1), ('KAT', 1), ('PAP', 1), ('TAE', 1), ('AA', 1), ('GAU', 1), ('DAP', 1), ('SAY', 1), ('PAW', 1), ('MAY', 1), ('TAJ', 1), ('SAM', 1), ('JAG', 1), ('FAE', 1), ('HAM', 1), ('MAW', 1), ('PAH', 1), ('YAK', 1), ('TAR', 1), ('EAU', 1), ('WAW', 1), ('VAG', 1), ('MAT', 1), ('TAY', 1), ('RAP', 1), ('HAD', 1), ('ZAX', 1), ('VAV', 1), ('TAU', 1), ('HAH', 1), ('FAW', 1), ('SAX', 1), ('KAM', 1), ('PAS', 1), ('VAW', 1), ('GAE', 1), ('WAG', 1), ('PAM', 1), ('RAT', 1), ('FAA', 1), ('FAX', 1), ('CAT', 1), ('HAE', 1), ('ZAG', 1), ('CAY', 1), ('RAH', 1), ('PAR', 1), ('YA', 1), ('KAY', 1), ('PAY', 1), ('SAP', 1), ('MAS', 1), ('RAX', 1), ('RAM', 1), ('SAD', 1), ('DAM', 1), ('YAP', 1), ('HAW', 1), ('RAG', 1), ('VAU', 1), ('PAV', 1), ('YAH', 1), ('WAY', 1), ('KAE', 1), ('SAZ', 1), ('SAV', 1), ('TAX', 1), ('FAY', 1), ('KAW', 1), ('PA', 1), ('TAD', 1), ('HAJ', 1), ('SAW', 1), ('CAA', 1), ('OAR', 1), ('RAJ', 1), ('YAW', 1), ('OAT', 1), ('DAS', 1), ('JAW', 1), ('DAH', 1), ('YAE', 1), ('GAP', 1), ('DAD', 1), ('WAR', 1), ('RAS', 1), ('SAT', 1), ('GAG', 1), ('TAK', 1), ('EAS', 1), ('GAS', 1), ('WAD', 1), ('EAR', 1), ('DAY', 1), ('KA', 1), ('MAD', 1), ('TA', 1), ('VAR', 1), ('EA', 1), ('JAM', 1), ('FAD', 1), ('FAT', 1), ('GAR', 1), ('VAS', 1), ('GAY', 1), ('PAC', 1)]\n"
     ]
    }
   ],
   "source": [
    "\n",
    "!python scrabble.py \"albin?*\" \"sowpods.txt\" 'a2'"
   ]
  },
  {
   "cell_type": "code",
   "execution_count": null,
   "metadata": {
    "collapsed": true
   },
   "outputs": [],
   "source": []
  }
 ],
 "metadata": {
  "anaconda-cloud": {},
  "kernelspec": {
   "display_name": "Python [Root]",
   "language": "python",
   "name": "Python [Root]"
  },
  "language_info": {
   "codemirror_mode": {
    "name": "ipython",
    "version": 3
   },
   "file_extension": ".py",
   "mimetype": "text/x-python",
   "name": "python",
   "nbconvert_exporter": "python",
   "pygments_lexer": "ipython3",
   "version": "3.5.2"
  }
 },
 "nbformat": 4,
 "nbformat_minor": 0
}
